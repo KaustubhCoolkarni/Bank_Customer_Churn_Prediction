{
 "cells": [
  {
   "cell_type": "markdown",
   "metadata": {},
   "source": [
    "# Objective :\n",
    "\n",
    "predict the customers who are likely to churn and develop appropriate modalities for retention.\n",
    "Also engage customer on an ongoing basis and prevent churn by designing new plans and offering\n",
    "freebees, discounts."
   ]
  },
  {
   "cell_type": "markdown",
   "metadata": {},
   "source": [
    "###  Step 1: Data Reading and Pre-processing "
   ]
  },
  {
   "cell_type": "code",
   "execution_count": 1,
   "metadata": {},
   "outputs": [],
   "source": [
    "# Get-Set Working directory \n",
    "\n",
    "import os\n",
    "os.getcwd()\n",
    "os.chdir('C:\\\\Users\\\\Kaustubh Coolkarni\\\\Desktop\\\\INSOFE Docs\\\\MiTH_67\\\\Input_Files_For_Student')"
   ]
  },
  {
   "cell_type": "code",
   "execution_count": 120,
   "metadata": {},
   "outputs": [],
   "source": [
    "import mlxtend\n",
    "from mlxtend.plotting import plot_learning_curves\n",
    "import matplotlib.pyplot as plt\n",
    "from mlxtend.data import iris_data\n",
    "from mlxtend.preprocessing import shuffle_arrays_unison\n",
    "from sklearn.neighbors import KNeighborsClassifier\n",
    "import numpy as np"
   ]
  },
  {
   "cell_type": "code",
   "execution_count": 2,
   "metadata": {},
   "outputs": [],
   "source": [
    "import matplotlib.pyplot as plt\n",
    "import seaborn as sns\n",
    "import pandas as pd\n",
    "import numpy as np\n",
    "import scipy.stats as sps\n",
    "import re\n",
    "%matplotlib inline\n",
    "from sklearn.preprocessing import Imputer\n",
    "from sklearn.model_selection import validation_curve\n",
    "from sklearn.pipeline import make_pipeline\n",
    "from sklearn.metrics import make_scorer\n",
    "from sklearn.metrics import mean_squared_error\n",
    "from sklearn.model_selection import GridSearchCV\n"
   ]
  },
  {
   "cell_type": "code",
   "execution_count": 3,
   "metadata": {},
   "outputs": [],
   "source": [
    "import pandas_profiling\n",
    "from sklearn.preprocessing import StandardScaler\n",
    "import datetime as date,time\n",
    "import warnings\n",
    "warnings.filterwarnings('ignore')\n",
    "from sklearn.model_selection import train_test_split,GridSearchCV\n",
    "from sklearn.tree import DecisionTreeRegressor\n",
    "from sklearn.linear_model import LinearRegression,Ridge\n",
    "from sklearn.svm import SVR\n",
    "from sklearn.metrics import accuracy_score,mean_absolute_error,mean_squared_error,r2_score\n",
    "import graphviz"
   ]
  },
  {
   "cell_type": "code",
   "execution_count": 4,
   "metadata": {},
   "outputs": [],
   "source": [
    "import os\n",
    "os.environ[\"PATH\"] += os.pathsep + 'C:/Program Files (x86)/Graphviz2.38/bin/'"
   ]
  },
  {
   "cell_type": "code",
   "execution_count": 5,
   "metadata": {},
   "outputs": [],
   "source": [
    "bank_churn_train = pd.read_excel ('Train.xlsx')\n",
    "bank_churn_test = pd.read_excel('Test.xlsx')\n"
   ]
  },
  {
   "cell_type": "code",
   "execution_count": 6,
   "metadata": {},
   "outputs": [],
   "source": [
    "bank_churn_test_sub = pd.read_excel('Test.xlsx')"
   ]
  },
  {
   "cell_type": "code",
   "execution_count": 7,
   "metadata": {},
   "outputs": [
    {
     "data": {
      "text/plain": [
       "(1840, 20)"
      ]
     },
     "execution_count": 7,
     "metadata": {},
     "output_type": "execute_result"
    }
   ],
   "source": [
    "bank_churn_test.shape\n"
   ]
  },
  {
   "cell_type": "code",
   "execution_count": 13,
   "metadata": {},
   "outputs": [],
   "source": [
    "#pandas_profiling.ProfileReport(bank_churn_train)"
   ]
  },
  {
   "cell_type": "markdown",
   "metadata": {},
   "source": [
    " #### Step 1.1 : EDA "
   ]
  },
  {
   "cell_type": "code",
   "execution_count": 8,
   "metadata": {},
   "outputs": [
    {
     "data": {
      "text/html": [
       "<div>\n",
       "<style scoped>\n",
       "    .dataframe tbody tr th:only-of-type {\n",
       "        vertical-align: middle;\n",
       "    }\n",
       "\n",
       "    .dataframe tbody tr th {\n",
       "        vertical-align: top;\n",
       "    }\n",
       "\n",
       "    .dataframe thead th {\n",
       "        text-align: right;\n",
       "    }\n",
       "</style>\n",
       "<table border=\"1\" class=\"dataframe\">\n",
       "  <thead>\n",
       "    <tr style=\"text-align: right;\">\n",
       "      <th></th>\n",
       "      <th>CustomerID</th>\n",
       "      <th>CustomerName</th>\n",
       "      <th>yearofBirth</th>\n",
       "      <th>monthofBirth</th>\n",
       "      <th>dayofBirth</th>\n",
       "      <th>yearofEntry</th>\n",
       "      <th>monthofEntry</th>\n",
       "      <th>dayofEntry</th>\n",
       "      <th>Gender</th>\n",
       "      <th>Location</th>\n",
       "      <th>...</th>\n",
       "      <th>MaritalStatus</th>\n",
       "      <th>Occupation</th>\n",
       "      <th>Ownhouse</th>\n",
       "      <th>CreditScore</th>\n",
       "      <th>AccountBalance</th>\n",
       "      <th>NumberOfProducts</th>\n",
       "      <th>IsCreditCardCustomer</th>\n",
       "      <th>ActiveMember</th>\n",
       "      <th>Salary</th>\n",
       "      <th>Churn</th>\n",
       "    </tr>\n",
       "  </thead>\n",
       "  <tbody>\n",
       "    <tr>\n",
       "      <td>0</td>\n",
       "      <td>C5814651</td>\n",
       "      <td>Name_5814651</td>\n",
       "      <td>1980</td>\n",
       "      <td>5</td>\n",
       "      <td>12</td>\n",
       "      <td>2014</td>\n",
       "      <td>11</td>\n",
       "      <td>28</td>\n",
       "      <td>Male</td>\n",
       "      <td>Location11</td>\n",
       "      <td>...</td>\n",
       "      <td>divorced</td>\n",
       "      <td>management</td>\n",
       "      <td>no</td>\n",
       "      <td>716</td>\n",
       "      <td>0.00</td>\n",
       "      <td>2</td>\n",
       "      <td>1</td>\n",
       "      <td>0</td>\n",
       "      <td>189678.70</td>\n",
       "      <td>No</td>\n",
       "    </tr>\n",
       "    <tr>\n",
       "      <td>1</td>\n",
       "      <td>C6465787</td>\n",
       "      <td>Name_6465787</td>\n",
       "      <td>1986</td>\n",
       "      <td>12</td>\n",
       "      <td>28</td>\n",
       "      <td>2011</td>\n",
       "      <td>8</td>\n",
       "      <td>17</td>\n",
       "      <td>Female</td>\n",
       "      <td>Location13</td>\n",
       "      <td>...</td>\n",
       "      <td>divorced</td>\n",
       "      <td>admin.</td>\n",
       "      <td>no</td>\n",
       "      <td>568</td>\n",
       "      <td>169399.60</td>\n",
       "      <td>1</td>\n",
       "      <td>1</td>\n",
       "      <td>0</td>\n",
       "      <td>61936.22</td>\n",
       "      <td>No</td>\n",
       "    </tr>\n",
       "    <tr>\n",
       "      <td>2</td>\n",
       "      <td>C3824349</td>\n",
       "      <td>Name_3824349</td>\n",
       "      <td>1999</td>\n",
       "      <td>11</td>\n",
       "      <td>23</td>\n",
       "      <td>2013</td>\n",
       "      <td>12</td>\n",
       "      <td>9</td>\n",
       "      <td>Male</td>\n",
       "      <td>Location13</td>\n",
       "      <td>...</td>\n",
       "      <td>married</td>\n",
       "      <td>unknown</td>\n",
       "      <td>unknown</td>\n",
       "      <td>739</td>\n",
       "      <td>89750.21</td>\n",
       "      <td>1</td>\n",
       "      <td>1</td>\n",
       "      <td>0</td>\n",
       "      <td>193008.52</td>\n",
       "      <td>No</td>\n",
       "    </tr>\n",
       "    <tr>\n",
       "      <td>3</td>\n",
       "      <td>C8431888</td>\n",
       "      <td>Name_8431888</td>\n",
       "      <td>1969</td>\n",
       "      <td>4</td>\n",
       "      <td>6</td>\n",
       "      <td>2015</td>\n",
       "      <td>12</td>\n",
       "      <td>12</td>\n",
       "      <td>Female</td>\n",
       "      <td>Location11</td>\n",
       "      <td>...</td>\n",
       "      <td>married</td>\n",
       "      <td>admin.</td>\n",
       "      <td>yes</td>\n",
       "      <td>678</td>\n",
       "      <td>204510.94</td>\n",
       "      <td>1</td>\n",
       "      <td>0</td>\n",
       "      <td>1</td>\n",
       "      <td>738.88</td>\n",
       "      <td>Yes</td>\n",
       "    </tr>\n",
       "    <tr>\n",
       "      <td>4</td>\n",
       "      <td>C2944860</td>\n",
       "      <td>Name_2944860</td>\n",
       "      <td>1993</td>\n",
       "      <td>6</td>\n",
       "      <td>15</td>\n",
       "      <td>2012</td>\n",
       "      <td>10</td>\n",
       "      <td>10</td>\n",
       "      <td>Male</td>\n",
       "      <td>Location13</td>\n",
       "      <td>...</td>\n",
       "      <td>single</td>\n",
       "      <td>management</td>\n",
       "      <td>no</td>\n",
       "      <td>670</td>\n",
       "      <td>0.00</td>\n",
       "      <td>2</td>\n",
       "      <td>1</td>\n",
       "      <td>1</td>\n",
       "      <td>78358.94</td>\n",
       "      <td>No</td>\n",
       "    </tr>\n",
       "  </tbody>\n",
       "</table>\n",
       "<p>5 rows × 21 columns</p>\n",
       "</div>"
      ],
      "text/plain": [
       "  CustomerID  CustomerName  yearofBirth  monthofBirth  dayofBirth  \\\n",
       "0   C5814651  Name_5814651         1980             5          12   \n",
       "1   C6465787  Name_6465787         1986            12          28   \n",
       "2   C3824349  Name_3824349         1999            11          23   \n",
       "3   C8431888  Name_8431888         1969             4           6   \n",
       "4   C2944860  Name_2944860         1993             6          15   \n",
       "\n",
       "   yearofEntry  monthofEntry  dayofEntry  Gender    Location  ...  \\\n",
       "0         2014            11          28    Male  Location11  ...   \n",
       "1         2011             8          17  Female  Location13  ...   \n",
       "2         2013            12           9    Male  Location13  ...   \n",
       "3         2015            12          12  Female  Location11  ...   \n",
       "4         2012            10          10    Male  Location13  ...   \n",
       "\n",
       "  MaritalStatus  Occupation Ownhouse CreditScore  AccountBalance  \\\n",
       "0      divorced  management       no         716            0.00   \n",
       "1      divorced      admin.       no         568       169399.60   \n",
       "2       married     unknown  unknown         739        89750.21   \n",
       "3       married      admin.      yes         678       204510.94   \n",
       "4        single  management       no         670            0.00   \n",
       "\n",
       "   NumberOfProducts  IsCreditCardCustomer  ActiveMember     Salary  Churn  \n",
       "0                 2                     1             0  189678.70     No  \n",
       "1                 1                     1             0   61936.22     No  \n",
       "2                 1                     1             0  193008.52     No  \n",
       "3                 1                     0             1     738.88    Yes  \n",
       "4                 2                     1             1   78358.94     No  \n",
       "\n",
       "[5 rows x 21 columns]"
      ]
     },
     "execution_count": 8,
     "metadata": {},
     "output_type": "execute_result"
    }
   ],
   "source": [
    "bank_churn_train.head()"
   ]
  },
  {
   "cell_type": "code",
   "execution_count": 12,
   "metadata": {},
   "outputs": [
    {
     "data": {
      "text/html": [
       "<div>\n",
       "<style scoped>\n",
       "    .dataframe tbody tr th:only-of-type {\n",
       "        vertical-align: middle;\n",
       "    }\n",
       "\n",
       "    .dataframe tbody tr th {\n",
       "        vertical-align: top;\n",
       "    }\n",
       "\n",
       "    .dataframe thead th {\n",
       "        text-align: right;\n",
       "    }\n",
       "</style>\n",
       "<table border=\"1\" class=\"dataframe\">\n",
       "  <thead>\n",
       "    <tr style=\"text-align: right;\">\n",
       "      <th></th>\n",
       "      <th>yearofBirth</th>\n",
       "      <th>monthofBirth</th>\n",
       "      <th>dayofBirth</th>\n",
       "      <th>yearofEntry</th>\n",
       "      <th>monthofEntry</th>\n",
       "      <th>dayofEntry</th>\n",
       "      <th>CreditScore</th>\n",
       "      <th>AccountBalance</th>\n",
       "      <th>NumberOfProducts</th>\n",
       "      <th>IsCreditCardCustomer</th>\n",
       "      <th>ActiveMember</th>\n",
       "      <th>Salary</th>\n",
       "    </tr>\n",
       "  </thead>\n",
       "  <tbody>\n",
       "    <tr>\n",
       "      <td>count</td>\n",
       "      <td>7360.000000</td>\n",
       "      <td>7360.000000</td>\n",
       "      <td>7360.000000</td>\n",
       "      <td>7360.000000</td>\n",
       "      <td>7360.000000</td>\n",
       "      <td>7360.000000</td>\n",
       "      <td>7360.000000</td>\n",
       "      <td>7360.000000</td>\n",
       "      <td>7360.000000</td>\n",
       "      <td>7360.000000</td>\n",
       "      <td>7360.000000</td>\n",
       "      <td>7360.000000</td>\n",
       "    </tr>\n",
       "    <tr>\n",
       "      <td>mean</td>\n",
       "      <td>1979.058832</td>\n",
       "      <td>6.540897</td>\n",
       "      <td>14.607201</td>\n",
       "      <td>2012.984783</td>\n",
       "      <td>6.477174</td>\n",
       "      <td>14.505571</td>\n",
       "      <td>650.648777</td>\n",
       "      <td>76601.068011</td>\n",
       "      <td>1.524592</td>\n",
       "      <td>0.704212</td>\n",
       "      <td>0.510462</td>\n",
       "      <td>99967.894062</td>\n",
       "    </tr>\n",
       "    <tr>\n",
       "      <td>std</td>\n",
       "      <td>10.464673</td>\n",
       "      <td>3.432135</td>\n",
       "      <td>8.068158</td>\n",
       "      <td>2.898385</td>\n",
       "      <td>3.433252</td>\n",
       "      <td>8.020220</td>\n",
       "      <td>96.769231</td>\n",
       "      <td>62442.214871</td>\n",
       "      <td>0.577415</td>\n",
       "      <td>0.456427</td>\n",
       "      <td>0.499924</td>\n",
       "      <td>57342.390262</td>\n",
       "    </tr>\n",
       "    <tr>\n",
       "      <td>min</td>\n",
       "      <td>1926.000000</td>\n",
       "      <td>1.000000</td>\n",
       "      <td>1.000000</td>\n",
       "      <td>2008.000000</td>\n",
       "      <td>1.000000</td>\n",
       "      <td>1.000000</td>\n",
       "      <td>350.000000</td>\n",
       "      <td>0.000000</td>\n",
       "      <td>1.000000</td>\n",
       "      <td>0.000000</td>\n",
       "      <td>0.000000</td>\n",
       "      <td>11.580000</td>\n",
       "    </tr>\n",
       "    <tr>\n",
       "      <td>25%</td>\n",
       "      <td>1974.000000</td>\n",
       "      <td>4.000000</td>\n",
       "      <td>8.000000</td>\n",
       "      <td>2010.000000</td>\n",
       "      <td>4.000000</td>\n",
       "      <td>8.000000</td>\n",
       "      <td>584.000000</td>\n",
       "      <td>0.000000</td>\n",
       "      <td>1.000000</td>\n",
       "      <td>0.000000</td>\n",
       "      <td>0.000000</td>\n",
       "      <td>51361.780000</td>\n",
       "    </tr>\n",
       "    <tr>\n",
       "      <td>50%</td>\n",
       "      <td>1981.000000</td>\n",
       "      <td>7.000000</td>\n",
       "      <td>15.000000</td>\n",
       "      <td>2013.000000</td>\n",
       "      <td>6.000000</td>\n",
       "      <td>15.000000</td>\n",
       "      <td>652.000000</td>\n",
       "      <td>96913.725000</td>\n",
       "      <td>1.000000</td>\n",
       "      <td>1.000000</td>\n",
       "      <td>1.000000</td>\n",
       "      <td>99446.940000</td>\n",
       "    </tr>\n",
       "    <tr>\n",
       "      <td>75%</td>\n",
       "      <td>1986.000000</td>\n",
       "      <td>10.000000</td>\n",
       "      <td>22.000000</td>\n",
       "      <td>2015.250000</td>\n",
       "      <td>9.000000</td>\n",
       "      <td>21.000000</td>\n",
       "      <td>718.000000</td>\n",
       "      <td>127660.767500</td>\n",
       "      <td>2.000000</td>\n",
       "      <td>1.000000</td>\n",
       "      <td>1.000000</td>\n",
       "      <td>149068.075000</td>\n",
       "    </tr>\n",
       "    <tr>\n",
       "      <td>max</td>\n",
       "      <td>2000.000000</td>\n",
       "      <td>12.000000</td>\n",
       "      <td>28.000000</td>\n",
       "      <td>2018.000000</td>\n",
       "      <td>12.000000</td>\n",
       "      <td>28.000000</td>\n",
       "      <td>850.000000</td>\n",
       "      <td>250898.090000</td>\n",
       "      <td>4.000000</td>\n",
       "      <td>1.000000</td>\n",
       "      <td>1.000000</td>\n",
       "      <td>199992.480000</td>\n",
       "    </tr>\n",
       "  </tbody>\n",
       "</table>\n",
       "</div>"
      ],
      "text/plain": [
       "       yearofBirth  monthofBirth   dayofBirth  yearofEntry  monthofEntry  \\\n",
       "count  7360.000000   7360.000000  7360.000000  7360.000000   7360.000000   \n",
       "mean   1979.058832      6.540897    14.607201  2012.984783      6.477174   \n",
       "std      10.464673      3.432135     8.068158     2.898385      3.433252   \n",
       "min    1926.000000      1.000000     1.000000  2008.000000      1.000000   \n",
       "25%    1974.000000      4.000000     8.000000  2010.000000      4.000000   \n",
       "50%    1981.000000      7.000000    15.000000  2013.000000      6.000000   \n",
       "75%    1986.000000     10.000000    22.000000  2015.250000      9.000000   \n",
       "max    2000.000000     12.000000    28.000000  2018.000000     12.000000   \n",
       "\n",
       "        dayofEntry  CreditScore  AccountBalance  NumberOfProducts  \\\n",
       "count  7360.000000  7360.000000     7360.000000       7360.000000   \n",
       "mean     14.505571   650.648777    76601.068011          1.524592   \n",
       "std       8.020220    96.769231    62442.214871          0.577415   \n",
       "min       1.000000   350.000000        0.000000          1.000000   \n",
       "25%       8.000000   584.000000        0.000000          1.000000   \n",
       "50%      15.000000   652.000000    96913.725000          1.000000   \n",
       "75%      21.000000   718.000000   127660.767500          2.000000   \n",
       "max      28.000000   850.000000   250898.090000          4.000000   \n",
       "\n",
       "       IsCreditCardCustomer  ActiveMember         Salary  \n",
       "count           7360.000000   7360.000000    7360.000000  \n",
       "mean               0.704212      0.510462   99967.894062  \n",
       "std                0.456427      0.499924   57342.390262  \n",
       "min                0.000000      0.000000      11.580000  \n",
       "25%                0.000000      0.000000   51361.780000  \n",
       "50%                1.000000      1.000000   99446.940000  \n",
       "75%                1.000000      1.000000  149068.075000  \n",
       "max                1.000000      1.000000  199992.480000  "
      ]
     },
     "execution_count": 12,
     "metadata": {},
     "output_type": "execute_result"
    }
   ],
   "source": [
    "bank_churn_train.describe()"
   ]
  },
  {
   "cell_type": "code",
   "execution_count": 9,
   "metadata": {},
   "outputs": [
    {
     "data": {
      "text/plain": [
       "CustomerID               object\n",
       "CustomerName             object\n",
       "yearofBirth               int64\n",
       "monthofBirth              int64\n",
       "dayofBirth                int64\n",
       "yearofEntry               int64\n",
       "monthofEntry              int64\n",
       "dayofEntry                int64\n",
       "Gender                   object\n",
       "Location                 object\n",
       "Education                object\n",
       "MaritalStatus            object\n",
       "Occupation               object\n",
       "Ownhouse                 object\n",
       "CreditScore               int64\n",
       "AccountBalance          float64\n",
       "NumberOfProducts          int64\n",
       "IsCreditCardCustomer      int64\n",
       "ActiveMember              int64\n",
       "Salary                  float64\n",
       "Churn                    object\n",
       "dtype: object"
      ]
     },
     "execution_count": 9,
     "metadata": {},
     "output_type": "execute_result"
    }
   ],
   "source": [
    "bank_churn_train.dtypes"
   ]
  },
  {
   "cell_type": "code",
   "execution_count": 10,
   "metadata": {},
   "outputs": [
    {
     "ename": "NameError",
     "evalue": "name 'bank_churn_train_dummy' is not defined",
     "output_type": "error",
     "traceback": [
      "\u001b[1;31m---------------------------------------------------------------------------\u001b[0m",
      "\u001b[1;31mNameError\u001b[0m                                 Traceback (most recent call last)",
      "\u001b[1;32m<ipython-input-10-1e7d416b1021>\u001b[0m in \u001b[0;36m<module>\u001b[1;34m()\u001b[0m\n\u001b[1;32m----> 1\u001b[1;33m \u001b[0mbank_churn_train_dummy\u001b[0m\u001b[1;33m.\u001b[0m\u001b[0mshape\u001b[0m\u001b[1;33m\u001b[0m\u001b[0m\n\u001b[0m\u001b[0;32m      2\u001b[0m \u001b[1;31m#bank_churn_train.shape\u001b[0m\u001b[1;33m\u001b[0m\u001b[1;33m\u001b[0m\u001b[0m\n",
      "\u001b[1;31mNameError\u001b[0m: name 'bank_churn_train_dummy' is not defined"
     ]
    }
   ],
   "source": [
    "bank_churn_train_dummy.shape\n",
    "#bank_churn_train.shape"
   ]
  },
  {
   "cell_type": "code",
   "execution_count": null,
   "metadata": {},
   "outputs": [],
   "source": []
  },
  {
   "cell_type": "code",
   "execution_count": 10,
   "metadata": {},
   "outputs": [],
   "source": [
    "bank_churn_train_dummy = bank_churn_train.iloc[:, :-1]"
   ]
  },
  {
   "cell_type": "markdown",
   "metadata": {},
   "source": [
    "### Check train test data consistancy "
   ]
  },
  {
   "cell_type": "code",
   "execution_count": 11,
   "metadata": {},
   "outputs": [
    {
     "data": {
      "text/html": [
       "<div>\n",
       "<style scoped>\n",
       "    .dataframe tbody tr th:only-of-type {\n",
       "        vertical-align: middle;\n",
       "    }\n",
       "\n",
       "    .dataframe tbody tr th {\n",
       "        vertical-align: top;\n",
       "    }\n",
       "\n",
       "    .dataframe thead th {\n",
       "        text-align: right;\n",
       "    }\n",
       "</style>\n",
       "<table border=\"1\" class=\"dataframe\">\n",
       "  <thead>\n",
       "    <tr style=\"text-align: right;\">\n",
       "      <th></th>\n",
       "      <th>Train Data Type</th>\n",
       "      <th>Test Data Type</th>\n",
       "      <th>Train #Levels</th>\n",
       "      <th>Test #Levels</th>\n",
       "      <th>Test Missing</th>\n",
       "      <th>Test Extra</th>\n",
       "    </tr>\n",
       "  </thead>\n",
       "  <tbody>\n",
       "    <tr>\n",
       "      <td>CustomerID</td>\n",
       "      <td>object</td>\n",
       "      <td>object</td>\n",
       "      <td>7360</td>\n",
       "      <td>1840</td>\n",
       "      <td>{C3460615, C3009032, C3018545, C7865308, C7062...</td>\n",
       "      <td>{C3737689, C4776104, C4247085, C2075853, C3366...</td>\n",
       "    </tr>\n",
       "    <tr>\n",
       "      <td>CustomerName</td>\n",
       "      <td>object</td>\n",
       "      <td>object</td>\n",
       "      <td>7360</td>\n",
       "      <td>1840</td>\n",
       "      <td>{Name_5965376, Name_7839808, Name_6021505, Nam...</td>\n",
       "      <td>{Name_5481509, Name_8261195, Name_5324509, Nam...</td>\n",
       "    </tr>\n",
       "    <tr>\n",
       "      <td>yearofBirth</td>\n",
       "      <td>int64</td>\n",
       "      <td>int64</td>\n",
       "      <td>70</td>\n",
       "      <td>62</td>\n",
       "      <td>{1926, 1930, 1933, 1934, 1935, 1936, 1938, 1945}</td>\n",
       "      <td>{}</td>\n",
       "    </tr>\n",
       "    <tr>\n",
       "      <td>monthofBirth</td>\n",
       "      <td>int64</td>\n",
       "      <td>int64</td>\n",
       "      <td>12</td>\n",
       "      <td>12</td>\n",
       "      <td>{}</td>\n",
       "      <td>{}</td>\n",
       "    </tr>\n",
       "    <tr>\n",
       "      <td>dayofBirth</td>\n",
       "      <td>int64</td>\n",
       "      <td>int64</td>\n",
       "      <td>28</td>\n",
       "      <td>28</td>\n",
       "      <td>{}</td>\n",
       "      <td>{}</td>\n",
       "    </tr>\n",
       "    <tr>\n",
       "      <td>yearofEntry</td>\n",
       "      <td>int64</td>\n",
       "      <td>int64</td>\n",
       "      <td>11</td>\n",
       "      <td>11</td>\n",
       "      <td>{}</td>\n",
       "      <td>{}</td>\n",
       "    </tr>\n",
       "    <tr>\n",
       "      <td>monthofEntry</td>\n",
       "      <td>int64</td>\n",
       "      <td>int64</td>\n",
       "      <td>12</td>\n",
       "      <td>12</td>\n",
       "      <td>{}</td>\n",
       "      <td>{}</td>\n",
       "    </tr>\n",
       "    <tr>\n",
       "      <td>dayofEntry</td>\n",
       "      <td>int64</td>\n",
       "      <td>int64</td>\n",
       "      <td>28</td>\n",
       "      <td>28</td>\n",
       "      <td>{}</td>\n",
       "      <td>{}</td>\n",
       "    </tr>\n",
       "    <tr>\n",
       "      <td>Gender</td>\n",
       "      <td>object</td>\n",
       "      <td>object</td>\n",
       "      <td>2</td>\n",
       "      <td>2</td>\n",
       "      <td>{}</td>\n",
       "      <td>{}</td>\n",
       "    </tr>\n",
       "    <tr>\n",
       "      <td>Location</td>\n",
       "      <td>object</td>\n",
       "      <td>object</td>\n",
       "      <td>3</td>\n",
       "      <td>3</td>\n",
       "      <td>{}</td>\n",
       "      <td>{}</td>\n",
       "    </tr>\n",
       "    <tr>\n",
       "      <td>Education</td>\n",
       "      <td>object</td>\n",
       "      <td>object</td>\n",
       "      <td>4</td>\n",
       "      <td>4</td>\n",
       "      <td>{}</td>\n",
       "      <td>{}</td>\n",
       "    </tr>\n",
       "    <tr>\n",
       "      <td>MaritalStatus</td>\n",
       "      <td>object</td>\n",
       "      <td>object</td>\n",
       "      <td>3</td>\n",
       "      <td>3</td>\n",
       "      <td>{}</td>\n",
       "      <td>{}</td>\n",
       "    </tr>\n",
       "    <tr>\n",
       "      <td>Occupation</td>\n",
       "      <td>object</td>\n",
       "      <td>object</td>\n",
       "      <td>7</td>\n",
       "      <td>7</td>\n",
       "      <td>{}</td>\n",
       "      <td>{}</td>\n",
       "    </tr>\n",
       "    <tr>\n",
       "      <td>Ownhouse</td>\n",
       "      <td>object</td>\n",
       "      <td>object</td>\n",
       "      <td>3</td>\n",
       "      <td>3</td>\n",
       "      <td>{}</td>\n",
       "      <td>{}</td>\n",
       "    </tr>\n",
       "    <tr>\n",
       "      <td>CreditScore</td>\n",
       "      <td>int64</td>\n",
       "      <td>int64</td>\n",
       "      <td>449</td>\n",
       "      <td>403</td>\n",
       "      <td>{518, 531, 404, 405, 407, 408, 410, 411, 796, ...</td>\n",
       "      <td>{386, 419, 423, 363, 395, 399, 401, 373, 415}</td>\n",
       "    </tr>\n",
       "    <tr>\n",
       "      <td>AccountBalance</td>\n",
       "      <td>float64</td>\n",
       "      <td>float64</td>\n",
       "      <td>4706</td>\n",
       "      <td>1153</td>\n",
       "      <td>{180226.24, 98308.51, 131078.42, 131081.66, 13...</td>\n",
       "      <td>{126979.75, 153611.83, 141325.56, 167949.48, 1...</td>\n",
       "    </tr>\n",
       "    <tr>\n",
       "      <td>NumberOfProducts</td>\n",
       "      <td>int64</td>\n",
       "      <td>int64</td>\n",
       "      <td>4</td>\n",
       "      <td>4</td>\n",
       "      <td>{}</td>\n",
       "      <td>{}</td>\n",
       "    </tr>\n",
       "    <tr>\n",
       "      <td>IsCreditCardCustomer</td>\n",
       "      <td>int64</td>\n",
       "      <td>int64</td>\n",
       "      <td>2</td>\n",
       "      <td>2</td>\n",
       "      <td>{}</td>\n",
       "      <td>{}</td>\n",
       "    </tr>\n",
       "    <tr>\n",
       "      <td>ActiveMember</td>\n",
       "      <td>int64</td>\n",
       "      <td>int64</td>\n",
       "      <td>2</td>\n",
       "      <td>2</td>\n",
       "      <td>{}</td>\n",
       "      <td>{}</td>\n",
       "    </tr>\n",
       "    <tr>\n",
       "      <td>Salary</td>\n",
       "      <td>float64</td>\n",
       "      <td>float64</td>\n",
       "      <td>7359</td>\n",
       "      <td>1840</td>\n",
       "      <td>{32770.56, 98309.27, 98320.27, 32790.02, 13109...</td>\n",
       "      <td>{139266.48, 131083.56, 196622.28, 8207.36, 122...</td>\n",
       "    </tr>\n",
       "  </tbody>\n",
       "</table>\n",
       "</div>"
      ],
      "text/plain": [
       "                     Train Data Type Test Data Type  Train #Levels  \\\n",
       "CustomerID                    object         object           7360   \n",
       "CustomerName                  object         object           7360   \n",
       "yearofBirth                    int64          int64             70   \n",
       "monthofBirth                   int64          int64             12   \n",
       "dayofBirth                     int64          int64             28   \n",
       "yearofEntry                    int64          int64             11   \n",
       "monthofEntry                   int64          int64             12   \n",
       "dayofEntry                     int64          int64             28   \n",
       "Gender                        object         object              2   \n",
       "Location                      object         object              3   \n",
       "Education                     object         object              4   \n",
       "MaritalStatus                 object         object              3   \n",
       "Occupation                    object         object              7   \n",
       "Ownhouse                      object         object              3   \n",
       "CreditScore                    int64          int64            449   \n",
       "AccountBalance               float64        float64           4706   \n",
       "NumberOfProducts               int64          int64              4   \n",
       "IsCreditCardCustomer           int64          int64              2   \n",
       "ActiveMember                   int64          int64              2   \n",
       "Salary                       float64        float64           7359   \n",
       "\n",
       "                      Test #Levels  \\\n",
       "CustomerID                    1840   \n",
       "CustomerName                  1840   \n",
       "yearofBirth                     62   \n",
       "monthofBirth                    12   \n",
       "dayofBirth                      28   \n",
       "yearofEntry                     11   \n",
       "monthofEntry                    12   \n",
       "dayofEntry                      28   \n",
       "Gender                           2   \n",
       "Location                         3   \n",
       "Education                        4   \n",
       "MaritalStatus                    3   \n",
       "Occupation                       7   \n",
       "Ownhouse                         3   \n",
       "CreditScore                    403   \n",
       "AccountBalance                1153   \n",
       "NumberOfProducts                 4   \n",
       "IsCreditCardCustomer             2   \n",
       "ActiveMember                     2   \n",
       "Salary                        1840   \n",
       "\n",
       "                                                           Test Missing  \\\n",
       "CustomerID            {C3460615, C3009032, C3018545, C7865308, C7062...   \n",
       "CustomerName          {Name_5965376, Name_7839808, Name_6021505, Nam...   \n",
       "yearofBirth            {1926, 1930, 1933, 1934, 1935, 1936, 1938, 1945}   \n",
       "monthofBirth                                                         {}   \n",
       "dayofBirth                                                           {}   \n",
       "yearofEntry                                                          {}   \n",
       "monthofEntry                                                         {}   \n",
       "dayofEntry                                                           {}   \n",
       "Gender                                                               {}   \n",
       "Location                                                             {}   \n",
       "Education                                                            {}   \n",
       "MaritalStatus                                                        {}   \n",
       "Occupation                                                           {}   \n",
       "Ownhouse                                                             {}   \n",
       "CreditScore           {518, 531, 404, 405, 407, 408, 410, 411, 796, ...   \n",
       "AccountBalance        {180226.24, 98308.51, 131078.42, 131081.66, 13...   \n",
       "NumberOfProducts                                                     {}   \n",
       "IsCreditCardCustomer                                                 {}   \n",
       "ActiveMember                                                         {}   \n",
       "Salary                {32770.56, 98309.27, 98320.27, 32790.02, 13109...   \n",
       "\n",
       "                                                             Test Extra  \n",
       "CustomerID            {C3737689, C4776104, C4247085, C2075853, C3366...  \n",
       "CustomerName          {Name_5481509, Name_8261195, Name_5324509, Nam...  \n",
       "yearofBirth                                                          {}  \n",
       "monthofBirth                                                         {}  \n",
       "dayofBirth                                                           {}  \n",
       "yearofEntry                                                          {}  \n",
       "monthofEntry                                                         {}  \n",
       "dayofEntry                                                           {}  \n",
       "Gender                                                               {}  \n",
       "Location                                                             {}  \n",
       "Education                                                            {}  \n",
       "MaritalStatus                                                        {}  \n",
       "Occupation                                                           {}  \n",
       "Ownhouse                                                             {}  \n",
       "CreditScore               {386, 419, 423, 363, 395, 399, 401, 373, 415}  \n",
       "AccountBalance        {126979.75, 153611.83, 141325.56, 167949.48, 1...  \n",
       "NumberOfProducts                                                     {}  \n",
       "IsCreditCardCustomer                                                 {}  \n",
       "ActiveMember                                                         {}  \n",
       "Salary                {139266.48, 131083.56, 196622.28, 8207.36, 122...  "
      ]
     },
     "execution_count": 11,
     "metadata": {},
     "output_type": "execute_result"
    }
   ],
   "source": [
    "def compare_train_test(bank_churn_train_dummy, bank_churn_test):\n",
    "    train_levels = bank_churn_train_dummy.apply(lambda x: set(x.unique()),axis=0)\n",
    "    test_levels = bank_churn_test.apply(lambda x: set(x.unique()),axis=0)\n",
    "    extra = []\n",
    "    missing = []\n",
    "    for x1,x2 in zip(train_levels, test_levels):\n",
    "        missing.append(x1-x2)\n",
    "        extra.append(x2-x1)\n",
    "    \n",
    "    return pd.DataFrame({\"Train Data Type\":bank_churn_train_dummy.dtypes, \"Test Data Type\":bank_churn_test.dtypes,\n",
    "                         \"Train #Levels\":bank_churn_train_dummy.apply(lambda x: x.unique().shape[0],axis=0), \"Test #Levels\":bank_churn_test.apply(lambda x: x.unique().shape[0],axis=0),\n",
    "                         \"Test Missing\":missing, \"Test Extra\":extra})\n",
    "compare_train_test(bank_churn_train_dummy, bank_churn_test)"
   ]
  },
  {
   "cell_type": "markdown",
   "metadata": {},
   "source": [
    "### Convert target column (Churn) to 1 and 0"
   ]
  },
  {
   "cell_type": "code",
   "execution_count": 12,
   "metadata": {},
   "outputs": [],
   "source": [
    "bank_churn_train['Churn']=bank_churn_train['Churn'].map({'Yes':1, 'No':0})"
   ]
  },
  {
   "cell_type": "markdown",
   "metadata": {},
   "source": [
    "### Feature Engineering"
   ]
  },
  {
   "cell_type": "code",
   "execution_count": 13,
   "metadata": {},
   "outputs": [],
   "source": [
    "bank_churn_train['Age'] = 2019 - bank_churn_train['yearofBirth']\n",
    "bank_churn_train['Tenure'] = 2019 - bank_churn_train['yearofEntry']\n",
    "\n",
    "\n",
    "\n"
   ]
  },
  {
   "cell_type": "code",
   "execution_count": 14,
   "metadata": {},
   "outputs": [],
   "source": [
    "bank_churn_test['Age'] = 2019 - bank_churn_test['yearofBirth']\n",
    "bank_churn_test['Tenure'] = 2019 - bank_churn_test['yearofEntry']"
   ]
  },
  {
   "cell_type": "code",
   "execution_count": 15,
   "metadata": {},
   "outputs": [],
   "source": [
    "bank_churn_train['ExpenditureRatio'] = bank_churn_train.AccountBalance/( bank_churn_train.Salary)\n",
    "bank_churn_train['TenureRatio'] = bank_churn_train.Tenure/(bank_churn_train.Age)"
   ]
  },
  {
   "cell_type": "code",
   "execution_count": 16,
   "metadata": {},
   "outputs": [],
   "source": [
    "bank_churn_test['ExpenditureRatio'] = bank_churn_test.AccountBalance/( bank_churn_train.Salary)\n",
    "bank_churn_test['TenureRatio'] = bank_churn_test.Tenure/(bank_churn_train.Age)"
   ]
  },
  {
   "cell_type": "markdown",
   "metadata": {},
   "source": [
    "### Drop "
   ]
  },
  {
   "cell_type": "code",
   "execution_count": 17,
   "metadata": {},
   "outputs": [
    {
     "data": {
      "text/html": [
       "<div>\n",
       "<style scoped>\n",
       "    .dataframe tbody tr th:only-of-type {\n",
       "        vertical-align: middle;\n",
       "    }\n",
       "\n",
       "    .dataframe tbody tr th {\n",
       "        vertical-align: top;\n",
       "    }\n",
       "\n",
       "    .dataframe thead th {\n",
       "        text-align: right;\n",
       "    }\n",
       "</style>\n",
       "<table border=\"1\" class=\"dataframe\">\n",
       "  <thead>\n",
       "    <tr style=\"text-align: right;\">\n",
       "      <th></th>\n",
       "      <th>CustomerID</th>\n",
       "      <th>CustomerName</th>\n",
       "      <th>yearofBirth</th>\n",
       "      <th>monthofBirth</th>\n",
       "      <th>dayofBirth</th>\n",
       "      <th>yearofEntry</th>\n",
       "      <th>monthofEntry</th>\n",
       "      <th>dayofEntry</th>\n",
       "      <th>Gender</th>\n",
       "      <th>Location</th>\n",
       "      <th>...</th>\n",
       "      <th>AccountBalance</th>\n",
       "      <th>NumberOfProducts</th>\n",
       "      <th>IsCreditCardCustomer</th>\n",
       "      <th>ActiveMember</th>\n",
       "      <th>Salary</th>\n",
       "      <th>Churn</th>\n",
       "      <th>Age</th>\n",
       "      <th>Tenure</th>\n",
       "      <th>ExpenditureRatio</th>\n",
       "      <th>TenureRatio</th>\n",
       "    </tr>\n",
       "  </thead>\n",
       "  <tbody>\n",
       "    <tr>\n",
       "      <td>0</td>\n",
       "      <td>C5814651</td>\n",
       "      <td>Name_5814651</td>\n",
       "      <td>1980</td>\n",
       "      <td>5</td>\n",
       "      <td>12</td>\n",
       "      <td>2014</td>\n",
       "      <td>11</td>\n",
       "      <td>28</td>\n",
       "      <td>Male</td>\n",
       "      <td>Location11</td>\n",
       "      <td>...</td>\n",
       "      <td>0.00</td>\n",
       "      <td>2</td>\n",
       "      <td>1</td>\n",
       "      <td>0</td>\n",
       "      <td>189678.70</td>\n",
       "      <td>0</td>\n",
       "      <td>39</td>\n",
       "      <td>5</td>\n",
       "      <td>0.000000</td>\n",
       "      <td>0.128205</td>\n",
       "    </tr>\n",
       "    <tr>\n",
       "      <td>1</td>\n",
       "      <td>C6465787</td>\n",
       "      <td>Name_6465787</td>\n",
       "      <td>1986</td>\n",
       "      <td>12</td>\n",
       "      <td>28</td>\n",
       "      <td>2011</td>\n",
       "      <td>8</td>\n",
       "      <td>17</td>\n",
       "      <td>Female</td>\n",
       "      <td>Location13</td>\n",
       "      <td>...</td>\n",
       "      <td>169399.60</td>\n",
       "      <td>1</td>\n",
       "      <td>1</td>\n",
       "      <td>0</td>\n",
       "      <td>61936.22</td>\n",
       "      <td>0</td>\n",
       "      <td>33</td>\n",
       "      <td>8</td>\n",
       "      <td>2.735065</td>\n",
       "      <td>0.242424</td>\n",
       "    </tr>\n",
       "    <tr>\n",
       "      <td>2</td>\n",
       "      <td>C3824349</td>\n",
       "      <td>Name_3824349</td>\n",
       "      <td>1999</td>\n",
       "      <td>11</td>\n",
       "      <td>23</td>\n",
       "      <td>2013</td>\n",
       "      <td>12</td>\n",
       "      <td>9</td>\n",
       "      <td>Male</td>\n",
       "      <td>Location13</td>\n",
       "      <td>...</td>\n",
       "      <td>89750.21</td>\n",
       "      <td>1</td>\n",
       "      <td>1</td>\n",
       "      <td>0</td>\n",
       "      <td>193008.52</td>\n",
       "      <td>0</td>\n",
       "      <td>20</td>\n",
       "      <td>6</td>\n",
       "      <td>0.465006</td>\n",
       "      <td>0.300000</td>\n",
       "    </tr>\n",
       "    <tr>\n",
       "      <td>3</td>\n",
       "      <td>C8431888</td>\n",
       "      <td>Name_8431888</td>\n",
       "      <td>1969</td>\n",
       "      <td>4</td>\n",
       "      <td>6</td>\n",
       "      <td>2015</td>\n",
       "      <td>12</td>\n",
       "      <td>12</td>\n",
       "      <td>Female</td>\n",
       "      <td>Location11</td>\n",
       "      <td>...</td>\n",
       "      <td>204510.94</td>\n",
       "      <td>1</td>\n",
       "      <td>0</td>\n",
       "      <td>1</td>\n",
       "      <td>738.88</td>\n",
       "      <td>1</td>\n",
       "      <td>50</td>\n",
       "      <td>4</td>\n",
       "      <td>276.785053</td>\n",
       "      <td>0.080000</td>\n",
       "    </tr>\n",
       "    <tr>\n",
       "      <td>4</td>\n",
       "      <td>C2944860</td>\n",
       "      <td>Name_2944860</td>\n",
       "      <td>1993</td>\n",
       "      <td>6</td>\n",
       "      <td>15</td>\n",
       "      <td>2012</td>\n",
       "      <td>10</td>\n",
       "      <td>10</td>\n",
       "      <td>Male</td>\n",
       "      <td>Location13</td>\n",
       "      <td>...</td>\n",
       "      <td>0.00</td>\n",
       "      <td>2</td>\n",
       "      <td>1</td>\n",
       "      <td>1</td>\n",
       "      <td>78358.94</td>\n",
       "      <td>0</td>\n",
       "      <td>26</td>\n",
       "      <td>7</td>\n",
       "      <td>0.000000</td>\n",
       "      <td>0.269231</td>\n",
       "    </tr>\n",
       "  </tbody>\n",
       "</table>\n",
       "<p>5 rows × 25 columns</p>\n",
       "</div>"
      ],
      "text/plain": [
       "  CustomerID  CustomerName  yearofBirth  monthofBirth  dayofBirth  \\\n",
       "0   C5814651  Name_5814651         1980             5          12   \n",
       "1   C6465787  Name_6465787         1986            12          28   \n",
       "2   C3824349  Name_3824349         1999            11          23   \n",
       "3   C8431888  Name_8431888         1969             4           6   \n",
       "4   C2944860  Name_2944860         1993             6          15   \n",
       "\n",
       "   yearofEntry  monthofEntry  dayofEntry  Gender    Location  ...  \\\n",
       "0         2014            11          28    Male  Location11  ...   \n",
       "1         2011             8          17  Female  Location13  ...   \n",
       "2         2013            12           9    Male  Location13  ...   \n",
       "3         2015            12          12  Female  Location11  ...   \n",
       "4         2012            10          10    Male  Location13  ...   \n",
       "\n",
       "  AccountBalance NumberOfProducts IsCreditCardCustomer ActiveMember  \\\n",
       "0           0.00                2                    1            0   \n",
       "1      169399.60                1                    1            0   \n",
       "2       89750.21                1                    1            0   \n",
       "3      204510.94                1                    0            1   \n",
       "4           0.00                2                    1            1   \n",
       "\n",
       "      Salary  Churn  Age  Tenure  ExpenditureRatio  TenureRatio  \n",
       "0  189678.70      0   39       5          0.000000     0.128205  \n",
       "1   61936.22      0   33       8          2.735065     0.242424  \n",
       "2  193008.52      0   20       6          0.465006     0.300000  \n",
       "3     738.88      1   50       4        276.785053     0.080000  \n",
       "4   78358.94      0   26       7          0.000000     0.269231  \n",
       "\n",
       "[5 rows x 25 columns]"
      ]
     },
     "execution_count": 17,
     "metadata": {},
     "output_type": "execute_result"
    }
   ],
   "source": [
    "bank_churn_train.head()"
   ]
  },
  {
   "cell_type": "code",
   "execution_count": 18,
   "metadata": {},
   "outputs": [],
   "source": [
    "# # Identify the columns need to be dropped \n",
    "drop_cols = ['CustomerID','CustomerName','monthofBirth','monthofEntry','dayofEntry','dayofBirth','yearofBirth','yearofEntry']\n",
    "# Drop\n",
    "bank_churn_train.drop(drop_cols, axis = 1, inplace = True)\n",
    "\n"
   ]
  },
  {
   "cell_type": "code",
   "execution_count": 19,
   "metadata": {},
   "outputs": [],
   "source": [
    "bank_churn_test.drop(drop_cols, axis = 1, inplace = True)"
   ]
  },
  {
   "cell_type": "markdown",
   "metadata": {},
   "source": [
    "#### Decide Num and Cat data columns and convert datatypes"
   ]
  },
  {
   "cell_type": "code",
   "execution_count": 20,
   "metadata": {},
   "outputs": [
    {
     "data": {
      "text/html": [
       "<div>\n",
       "<style scoped>\n",
       "    .dataframe tbody tr th:only-of-type {\n",
       "        vertical-align: middle;\n",
       "    }\n",
       "\n",
       "    .dataframe tbody tr th {\n",
       "        vertical-align: top;\n",
       "    }\n",
       "\n",
       "    .dataframe thead th {\n",
       "        text-align: right;\n",
       "    }\n",
       "</style>\n",
       "<table border=\"1\" class=\"dataframe\">\n",
       "  <thead>\n",
       "    <tr style=\"text-align: right;\">\n",
       "      <th></th>\n",
       "      <th>CreditScore</th>\n",
       "      <th>AccountBalance</th>\n",
       "      <th>NumberOfProducts</th>\n",
       "      <th>IsCreditCardCustomer</th>\n",
       "      <th>ActiveMember</th>\n",
       "      <th>Salary</th>\n",
       "      <th>Churn</th>\n",
       "      <th>Age</th>\n",
       "      <th>Tenure</th>\n",
       "      <th>ExpenditureRatio</th>\n",
       "      <th>TenureRatio</th>\n",
       "    </tr>\n",
       "  </thead>\n",
       "  <tbody>\n",
       "    <tr>\n",
       "      <td>count</td>\n",
       "      <td>7360.000000</td>\n",
       "      <td>7360.000000</td>\n",
       "      <td>7360.000000</td>\n",
       "      <td>7360.000000</td>\n",
       "      <td>7360.000000</td>\n",
       "      <td>7360.000000</td>\n",
       "      <td>7360.000000</td>\n",
       "      <td>7360.000000</td>\n",
       "      <td>7360.000000</td>\n",
       "      <td>7360.000000</td>\n",
       "      <td>7360.000000</td>\n",
       "    </tr>\n",
       "    <tr>\n",
       "      <td>mean</td>\n",
       "      <td>650.648777</td>\n",
       "      <td>76601.068011</td>\n",
       "      <td>1.524592</td>\n",
       "      <td>0.704212</td>\n",
       "      <td>0.510462</td>\n",
       "      <td>99967.894062</td>\n",
       "      <td>0.202717</td>\n",
       "      <td>39.941168</td>\n",
       "      <td>6.015217</td>\n",
       "      <td>4.285643</td>\n",
       "      <td>0.160504</td>\n",
       "    </tr>\n",
       "    <tr>\n",
       "      <td>std</td>\n",
       "      <td>96.769231</td>\n",
       "      <td>62442.214871</td>\n",
       "      <td>0.577415</td>\n",
       "      <td>0.456427</td>\n",
       "      <td>0.499924</td>\n",
       "      <td>57342.390262</td>\n",
       "      <td>0.402051</td>\n",
       "      <td>10.464673</td>\n",
       "      <td>2.898385</td>\n",
       "      <td>125.870516</td>\n",
       "      <td>0.089302</td>\n",
       "    </tr>\n",
       "    <tr>\n",
       "      <td>min</td>\n",
       "      <td>350.000000</td>\n",
       "      <td>0.000000</td>\n",
       "      <td>1.000000</td>\n",
       "      <td>0.000000</td>\n",
       "      <td>0.000000</td>\n",
       "      <td>11.580000</td>\n",
       "      <td>0.000000</td>\n",
       "      <td>19.000000</td>\n",
       "      <td>1.000000</td>\n",
       "      <td>0.000000</td>\n",
       "      <td>0.012500</td>\n",
       "    </tr>\n",
       "    <tr>\n",
       "      <td>25%</td>\n",
       "      <td>584.000000</td>\n",
       "      <td>0.000000</td>\n",
       "      <td>1.000000</td>\n",
       "      <td>0.000000</td>\n",
       "      <td>0.000000</td>\n",
       "      <td>51361.780000</td>\n",
       "      <td>0.000000</td>\n",
       "      <td>33.000000</td>\n",
       "      <td>3.750000</td>\n",
       "      <td>0.000000</td>\n",
       "      <td>0.088235</td>\n",
       "    </tr>\n",
       "    <tr>\n",
       "      <td>50%</td>\n",
       "      <td>652.000000</td>\n",
       "      <td>96913.725000</td>\n",
       "      <td>1.000000</td>\n",
       "      <td>1.000000</td>\n",
       "      <td>1.000000</td>\n",
       "      <td>99446.940000</td>\n",
       "      <td>0.000000</td>\n",
       "      <td>38.000000</td>\n",
       "      <td>6.000000</td>\n",
       "      <td>0.749151</td>\n",
       "      <td>0.151515</td>\n",
       "    </tr>\n",
       "    <tr>\n",
       "      <td>75%</td>\n",
       "      <td>718.000000</td>\n",
       "      <td>127660.767500</td>\n",
       "      <td>2.000000</td>\n",
       "      <td>1.000000</td>\n",
       "      <td>1.000000</td>\n",
       "      <td>149068.075000</td>\n",
       "      <td>0.000000</td>\n",
       "      <td>45.000000</td>\n",
       "      <td>9.000000</td>\n",
       "      <td>1.522935</td>\n",
       "      <td>0.222222</td>\n",
       "    </tr>\n",
       "    <tr>\n",
       "      <td>max</td>\n",
       "      <td>850.000000</td>\n",
       "      <td>250898.090000</td>\n",
       "      <td>4.000000</td>\n",
       "      <td>1.000000</td>\n",
       "      <td>1.000000</td>\n",
       "      <td>199992.480000</td>\n",
       "      <td>1.000000</td>\n",
       "      <td>93.000000</td>\n",
       "      <td>11.000000</td>\n",
       "      <td>10614.655440</td>\n",
       "      <td>0.578947</td>\n",
       "    </tr>\n",
       "  </tbody>\n",
       "</table>\n",
       "</div>"
      ],
      "text/plain": [
       "       CreditScore  AccountBalance  NumberOfProducts  IsCreditCardCustomer  \\\n",
       "count  7360.000000     7360.000000       7360.000000           7360.000000   \n",
       "mean    650.648777    76601.068011          1.524592              0.704212   \n",
       "std      96.769231    62442.214871          0.577415              0.456427   \n",
       "min     350.000000        0.000000          1.000000              0.000000   \n",
       "25%     584.000000        0.000000          1.000000              0.000000   \n",
       "50%     652.000000    96913.725000          1.000000              1.000000   \n",
       "75%     718.000000   127660.767500          2.000000              1.000000   \n",
       "max     850.000000   250898.090000          4.000000              1.000000   \n",
       "\n",
       "       ActiveMember         Salary        Churn          Age       Tenure  \\\n",
       "count   7360.000000    7360.000000  7360.000000  7360.000000  7360.000000   \n",
       "mean       0.510462   99967.894062     0.202717    39.941168     6.015217   \n",
       "std        0.499924   57342.390262     0.402051    10.464673     2.898385   \n",
       "min        0.000000      11.580000     0.000000    19.000000     1.000000   \n",
       "25%        0.000000   51361.780000     0.000000    33.000000     3.750000   \n",
       "50%        1.000000   99446.940000     0.000000    38.000000     6.000000   \n",
       "75%        1.000000  149068.075000     0.000000    45.000000     9.000000   \n",
       "max        1.000000  199992.480000     1.000000    93.000000    11.000000   \n",
       "\n",
       "       ExpenditureRatio  TenureRatio  \n",
       "count       7360.000000  7360.000000  \n",
       "mean           4.285643     0.160504  \n",
       "std          125.870516     0.089302  \n",
       "min            0.000000     0.012500  \n",
       "25%            0.000000     0.088235  \n",
       "50%            0.749151     0.151515  \n",
       "75%            1.522935     0.222222  \n",
       "max        10614.655440     0.578947  "
      ]
     },
     "execution_count": 20,
     "metadata": {},
     "output_type": "execute_result"
    }
   ],
   "source": [
    "bank_churn_train.describe()"
   ]
  },
  {
   "cell_type": "code",
   "execution_count": 21,
   "metadata": {},
   "outputs": [
    {
     "data": {
      "text/plain": [
       "Gender                  0\n",
       "Location                0\n",
       "Education               0\n",
       "MaritalStatus           0\n",
       "Occupation              0\n",
       "Ownhouse                0\n",
       "CreditScore             0\n",
       "AccountBalance          0\n",
       "NumberOfProducts        0\n",
       "IsCreditCardCustomer    0\n",
       "ActiveMember            0\n",
       "Salary                  0\n",
       "Age                     0\n",
       "Tenure                  0\n",
       "ExpenditureRatio        0\n",
       "TenureRatio             0\n",
       "dtype: int64"
      ]
     },
     "execution_count": 21,
     "metadata": {},
     "output_type": "execute_result"
    }
   ],
   "source": [
    "bank_churn_test.isnull().sum()"
   ]
  },
  {
   "cell_type": "code",
   "execution_count": 22,
   "metadata": {},
   "outputs": [
    {
     "data": {
      "text/html": [
       "<div>\n",
       "<style scoped>\n",
       "    .dataframe tbody tr th:only-of-type {\n",
       "        vertical-align: middle;\n",
       "    }\n",
       "\n",
       "    .dataframe tbody tr th {\n",
       "        vertical-align: top;\n",
       "    }\n",
       "\n",
       "    .dataframe thead th {\n",
       "        text-align: right;\n",
       "    }\n",
       "</style>\n",
       "<table border=\"1\" class=\"dataframe\">\n",
       "  <thead>\n",
       "    <tr style=\"text-align: right;\">\n",
       "      <th></th>\n",
       "      <th>Gender</th>\n",
       "      <th>Location</th>\n",
       "      <th>Education</th>\n",
       "      <th>MaritalStatus</th>\n",
       "      <th>Occupation</th>\n",
       "      <th>Ownhouse</th>\n",
       "      <th>CreditScore</th>\n",
       "      <th>AccountBalance</th>\n",
       "      <th>NumberOfProducts</th>\n",
       "      <th>IsCreditCardCustomer</th>\n",
       "      <th>ActiveMember</th>\n",
       "      <th>Salary</th>\n",
       "      <th>Churn</th>\n",
       "      <th>Age</th>\n",
       "      <th>Tenure</th>\n",
       "      <th>ExpenditureRatio</th>\n",
       "      <th>TenureRatio</th>\n",
       "    </tr>\n",
       "  </thead>\n",
       "  <tbody>\n",
       "    <tr>\n",
       "      <td>0</td>\n",
       "      <td>Male</td>\n",
       "      <td>Location11</td>\n",
       "      <td>primary</td>\n",
       "      <td>divorced</td>\n",
       "      <td>management</td>\n",
       "      <td>no</td>\n",
       "      <td>716</td>\n",
       "      <td>0.00</td>\n",
       "      <td>2</td>\n",
       "      <td>1</td>\n",
       "      <td>0</td>\n",
       "      <td>189678.70</td>\n",
       "      <td>0</td>\n",
       "      <td>39</td>\n",
       "      <td>5</td>\n",
       "      <td>0.000000</td>\n",
       "      <td>0.128205</td>\n",
       "    </tr>\n",
       "    <tr>\n",
       "      <td>1</td>\n",
       "      <td>Female</td>\n",
       "      <td>Location13</td>\n",
       "      <td>primary</td>\n",
       "      <td>divorced</td>\n",
       "      <td>admin.</td>\n",
       "      <td>no</td>\n",
       "      <td>568</td>\n",
       "      <td>169399.60</td>\n",
       "      <td>1</td>\n",
       "      <td>1</td>\n",
       "      <td>0</td>\n",
       "      <td>61936.22</td>\n",
       "      <td>0</td>\n",
       "      <td>33</td>\n",
       "      <td>8</td>\n",
       "      <td>2.735065</td>\n",
       "      <td>0.242424</td>\n",
       "    </tr>\n",
       "    <tr>\n",
       "      <td>2</td>\n",
       "      <td>Male</td>\n",
       "      <td>Location13</td>\n",
       "      <td>secondary</td>\n",
       "      <td>married</td>\n",
       "      <td>unknown</td>\n",
       "      <td>unknown</td>\n",
       "      <td>739</td>\n",
       "      <td>89750.21</td>\n",
       "      <td>1</td>\n",
       "      <td>1</td>\n",
       "      <td>0</td>\n",
       "      <td>193008.52</td>\n",
       "      <td>0</td>\n",
       "      <td>20</td>\n",
       "      <td>6</td>\n",
       "      <td>0.465006</td>\n",
       "      <td>0.300000</td>\n",
       "    </tr>\n",
       "    <tr>\n",
       "      <td>3</td>\n",
       "      <td>Female</td>\n",
       "      <td>Location11</td>\n",
       "      <td>tertiary</td>\n",
       "      <td>married</td>\n",
       "      <td>admin.</td>\n",
       "      <td>yes</td>\n",
       "      <td>678</td>\n",
       "      <td>204510.94</td>\n",
       "      <td>1</td>\n",
       "      <td>0</td>\n",
       "      <td>1</td>\n",
       "      <td>738.88</td>\n",
       "      <td>1</td>\n",
       "      <td>50</td>\n",
       "      <td>4</td>\n",
       "      <td>276.785053</td>\n",
       "      <td>0.080000</td>\n",
       "    </tr>\n",
       "    <tr>\n",
       "      <td>4</td>\n",
       "      <td>Male</td>\n",
       "      <td>Location13</td>\n",
       "      <td>tertiary</td>\n",
       "      <td>single</td>\n",
       "      <td>management</td>\n",
       "      <td>no</td>\n",
       "      <td>670</td>\n",
       "      <td>0.00</td>\n",
       "      <td>2</td>\n",
       "      <td>1</td>\n",
       "      <td>1</td>\n",
       "      <td>78358.94</td>\n",
       "      <td>0</td>\n",
       "      <td>26</td>\n",
       "      <td>7</td>\n",
       "      <td>0.000000</td>\n",
       "      <td>0.269231</td>\n",
       "    </tr>\n",
       "  </tbody>\n",
       "</table>\n",
       "</div>"
      ],
      "text/plain": [
       "   Gender    Location  Education MaritalStatus  Occupation Ownhouse  \\\n",
       "0    Male  Location11    primary      divorced  management       no   \n",
       "1  Female  Location13    primary      divorced      admin.       no   \n",
       "2    Male  Location13  secondary       married     unknown  unknown   \n",
       "3  Female  Location11   tertiary       married      admin.      yes   \n",
       "4    Male  Location13   tertiary        single  management       no   \n",
       "\n",
       "   CreditScore  AccountBalance  NumberOfProducts  IsCreditCardCustomer  \\\n",
       "0          716            0.00                 2                     1   \n",
       "1          568       169399.60                 1                     1   \n",
       "2          739        89750.21                 1                     1   \n",
       "3          678       204510.94                 1                     0   \n",
       "4          670            0.00                 2                     1   \n",
       "\n",
       "   ActiveMember     Salary  Churn  Age  Tenure  ExpenditureRatio  TenureRatio  \n",
       "0             0  189678.70      0   39       5          0.000000     0.128205  \n",
       "1             0   61936.22      0   33       8          2.735065     0.242424  \n",
       "2             0  193008.52      0   20       6          0.465006     0.300000  \n",
       "3             1     738.88      1   50       4        276.785053     0.080000  \n",
       "4             1   78358.94      0   26       7          0.000000     0.269231  "
      ]
     },
     "execution_count": 22,
     "metadata": {},
     "output_type": "execute_result"
    }
   ],
   "source": [
    "bank_churn_train.head()"
   ]
  },
  {
   "cell_type": "code",
   "execution_count": 23,
   "metadata": {},
   "outputs": [
    {
     "data": {
      "text/plain": [
       "Index(['Gender', 'Location', 'Education', 'MaritalStatus', 'Occupation',\n",
       "       'Ownhouse', 'CreditScore', 'AccountBalance', 'NumberOfProducts',\n",
       "       'IsCreditCardCustomer', 'ActiveMember', 'Salary', 'Churn', 'Age',\n",
       "       'Tenure', 'ExpenditureRatio', 'TenureRatio'],\n",
       "      dtype='object')"
      ]
     },
     "execution_count": 23,
     "metadata": {},
     "output_type": "execute_result"
    }
   ],
   "source": [
    "bank_churn_train.columns"
   ]
  },
  {
   "cell_type": "code",
   "execution_count": 24,
   "metadata": {},
   "outputs": [],
   "source": [
    "cat_cols = ['Gender','Location', 'Education', 'MaritalStatus', 'Occupation',\n",
    "       'Ownhouse','IsCreditCardCustomer', 'ActiveMember','Churn']\n",
    "\n",
    "test_cat_cols = ['Gender','Location', 'Education', 'MaritalStatus', 'Occupation',\n",
    "       'Ownhouse','IsCreditCardCustomer', 'ActiveMember']\n",
    "\n",
    "num_cols = bank_churn_train.columns.difference(cat_cols)"
   ]
  },
  {
   "cell_type": "code",
   "execution_count": 25,
   "metadata": {},
   "outputs": [],
   "source": [
    "bank_churn_train[cat_cols] = bank_churn_train[cat_cols].apply(lambda x: x.astype('category'))\n",
    "bank_churn_train[num_cols] = bank_churn_train[num_cols].apply(lambda x: x.astype('float'))"
   ]
  },
  {
   "cell_type": "code",
   "execution_count": 26,
   "metadata": {},
   "outputs": [],
   "source": [
    "bank_churn_test[test_cat_cols] = bank_churn_train[test_cat_cols].apply(lambda x: x.astype('category'))\n",
    "bank_churn_test[num_cols] = bank_churn_train[num_cols].apply(lambda x: x.astype('float'))"
   ]
  },
  {
   "cell_type": "code",
   "execution_count": 27,
   "metadata": {},
   "outputs": [
    {
     "data": {
      "text/plain": [
       "Index(['Gender', 'Location', 'Education', 'MaritalStatus', 'Occupation',\n",
       "       'Ownhouse', 'CreditScore', 'AccountBalance', 'NumberOfProducts',\n",
       "       'IsCreditCardCustomer', 'ActiveMember', 'Salary', 'Churn', 'Age',\n",
       "       'Tenure', 'ExpenditureRatio', 'TenureRatio'],\n",
       "      dtype='object')"
      ]
     },
     "execution_count": 27,
     "metadata": {},
     "output_type": "execute_result"
    }
   ],
   "source": [
    "bank_churn_train.columns"
   ]
  },
  {
   "cell_type": "markdown",
   "metadata": {},
   "source": [
    "#### Place target column at end"
   ]
  },
  {
   "cell_type": "code",
   "execution_count": 28,
   "metadata": {},
   "outputs": [],
   "source": [
    "bank_churn_train = bank_churn_train[['Gender', 'Location', 'Education', 'MaritalStatus', 'Occupation',\n",
    "       'Ownhouse', 'CreditScore', 'AccountBalance', 'NumberOfProducts',\n",
    "       'IsCreditCardCustomer', 'ActiveMember', 'Salary', 'Age',\n",
    "       'Tenure','ExpenditureRatio', 'TenureRatio', 'Churn']]"
   ]
  },
  {
   "cell_type": "code",
   "execution_count": 29,
   "metadata": {},
   "outputs": [
    {
     "data": {
      "text/html": [
       "<div>\n",
       "<style scoped>\n",
       "    .dataframe tbody tr th:only-of-type {\n",
       "        vertical-align: middle;\n",
       "    }\n",
       "\n",
       "    .dataframe tbody tr th {\n",
       "        vertical-align: top;\n",
       "    }\n",
       "\n",
       "    .dataframe thead th {\n",
       "        text-align: right;\n",
       "    }\n",
       "</style>\n",
       "<table border=\"1\" class=\"dataframe\">\n",
       "  <thead>\n",
       "    <tr style=\"text-align: right;\">\n",
       "      <th></th>\n",
       "      <th>Gender</th>\n",
       "      <th>Location</th>\n",
       "      <th>Education</th>\n",
       "      <th>MaritalStatus</th>\n",
       "      <th>Occupation</th>\n",
       "      <th>Ownhouse</th>\n",
       "      <th>CreditScore</th>\n",
       "      <th>AccountBalance</th>\n",
       "      <th>NumberOfProducts</th>\n",
       "      <th>IsCreditCardCustomer</th>\n",
       "      <th>ActiveMember</th>\n",
       "      <th>Salary</th>\n",
       "      <th>Age</th>\n",
       "      <th>Tenure</th>\n",
       "      <th>ExpenditureRatio</th>\n",
       "      <th>TenureRatio</th>\n",
       "      <th>Churn</th>\n",
       "    </tr>\n",
       "  </thead>\n",
       "  <tbody>\n",
       "    <tr>\n",
       "      <td>0</td>\n",
       "      <td>Male</td>\n",
       "      <td>Location11</td>\n",
       "      <td>primary</td>\n",
       "      <td>divorced</td>\n",
       "      <td>management</td>\n",
       "      <td>no</td>\n",
       "      <td>716.0</td>\n",
       "      <td>0.00</td>\n",
       "      <td>2.0</td>\n",
       "      <td>1</td>\n",
       "      <td>0</td>\n",
       "      <td>189678.70</td>\n",
       "      <td>39.0</td>\n",
       "      <td>5.0</td>\n",
       "      <td>0.000000</td>\n",
       "      <td>0.128205</td>\n",
       "      <td>0</td>\n",
       "    </tr>\n",
       "    <tr>\n",
       "      <td>1</td>\n",
       "      <td>Female</td>\n",
       "      <td>Location13</td>\n",
       "      <td>primary</td>\n",
       "      <td>divorced</td>\n",
       "      <td>admin.</td>\n",
       "      <td>no</td>\n",
       "      <td>568.0</td>\n",
       "      <td>169399.60</td>\n",
       "      <td>1.0</td>\n",
       "      <td>1</td>\n",
       "      <td>0</td>\n",
       "      <td>61936.22</td>\n",
       "      <td>33.0</td>\n",
       "      <td>8.0</td>\n",
       "      <td>2.735065</td>\n",
       "      <td>0.242424</td>\n",
       "      <td>0</td>\n",
       "    </tr>\n",
       "    <tr>\n",
       "      <td>2</td>\n",
       "      <td>Male</td>\n",
       "      <td>Location13</td>\n",
       "      <td>secondary</td>\n",
       "      <td>married</td>\n",
       "      <td>unknown</td>\n",
       "      <td>unknown</td>\n",
       "      <td>739.0</td>\n",
       "      <td>89750.21</td>\n",
       "      <td>1.0</td>\n",
       "      <td>1</td>\n",
       "      <td>0</td>\n",
       "      <td>193008.52</td>\n",
       "      <td>20.0</td>\n",
       "      <td>6.0</td>\n",
       "      <td>0.465006</td>\n",
       "      <td>0.300000</td>\n",
       "      <td>0</td>\n",
       "    </tr>\n",
       "    <tr>\n",
       "      <td>3</td>\n",
       "      <td>Female</td>\n",
       "      <td>Location11</td>\n",
       "      <td>tertiary</td>\n",
       "      <td>married</td>\n",
       "      <td>admin.</td>\n",
       "      <td>yes</td>\n",
       "      <td>678.0</td>\n",
       "      <td>204510.94</td>\n",
       "      <td>1.0</td>\n",
       "      <td>0</td>\n",
       "      <td>1</td>\n",
       "      <td>738.88</td>\n",
       "      <td>50.0</td>\n",
       "      <td>4.0</td>\n",
       "      <td>276.785053</td>\n",
       "      <td>0.080000</td>\n",
       "      <td>1</td>\n",
       "    </tr>\n",
       "    <tr>\n",
       "      <td>4</td>\n",
       "      <td>Male</td>\n",
       "      <td>Location13</td>\n",
       "      <td>tertiary</td>\n",
       "      <td>single</td>\n",
       "      <td>management</td>\n",
       "      <td>no</td>\n",
       "      <td>670.0</td>\n",
       "      <td>0.00</td>\n",
       "      <td>2.0</td>\n",
       "      <td>1</td>\n",
       "      <td>1</td>\n",
       "      <td>78358.94</td>\n",
       "      <td>26.0</td>\n",
       "      <td>7.0</td>\n",
       "      <td>0.000000</td>\n",
       "      <td>0.269231</td>\n",
       "      <td>0</td>\n",
       "    </tr>\n",
       "  </tbody>\n",
       "</table>\n",
       "</div>"
      ],
      "text/plain": [
       "   Gender    Location  Education MaritalStatus  Occupation Ownhouse  \\\n",
       "0    Male  Location11    primary      divorced  management       no   \n",
       "1  Female  Location13    primary      divorced      admin.       no   \n",
       "2    Male  Location13  secondary       married     unknown  unknown   \n",
       "3  Female  Location11   tertiary       married      admin.      yes   \n",
       "4    Male  Location13   tertiary        single  management       no   \n",
       "\n",
       "   CreditScore  AccountBalance  NumberOfProducts IsCreditCardCustomer  \\\n",
       "0        716.0            0.00               2.0                    1   \n",
       "1        568.0       169399.60               1.0                    1   \n",
       "2        739.0        89750.21               1.0                    1   \n",
       "3        678.0       204510.94               1.0                    0   \n",
       "4        670.0            0.00               2.0                    1   \n",
       "\n",
       "  ActiveMember     Salary   Age  Tenure  ExpenditureRatio  TenureRatio Churn  \n",
       "0            0  189678.70  39.0     5.0          0.000000     0.128205     0  \n",
       "1            0   61936.22  33.0     8.0          2.735065     0.242424     0  \n",
       "2            0  193008.52  20.0     6.0          0.465006     0.300000     0  \n",
       "3            1     738.88  50.0     4.0        276.785053     0.080000     1  \n",
       "4            1   78358.94  26.0     7.0          0.000000     0.269231     0  "
      ]
     },
     "execution_count": 29,
     "metadata": {},
     "output_type": "execute_result"
    }
   ],
   "source": [
    "bank_churn_train.head()"
   ]
  },
  {
   "cell_type": "markdown",
   "metadata": {},
   "source": [
    "### Step 3 :  Univariate and Bivariate Visualizations"
   ]
  },
  {
   "cell_type": "markdown",
   "metadata": {},
   "source": [
    "#### Correlation plot"
   ]
  },
  {
   "cell_type": "code",
   "execution_count": 30,
   "metadata": {},
   "outputs": [
    {
     "data": {
      "image/png": "[encoded data removed]",
      "text/plain": [
       "<Figure size 576x576 with 2 Axes>"
      ]
     },
     "metadata": {},
     "output_type": "display_data"
    }
   ],
   "source": [
    "plt.figure(figsize=(8,8))\n",
    "sns.heatmap(bank_churn_train.corr(),cmap='coolwarm',annot = True)\n",
    "plt.show();"
   ]
  },
  {
   "cell_type": "code",
   "execution_count": null,
   "metadata": {},
   "outputs": [],
   "source": [
    "\n",
    "# box plots for distribution"
   ]
  },
  {
   "cell_type": "code",
   "execution_count": 68,
   "metadata": {},
   "outputs": [
    {
     "data": {
      "text/plain": [
       "0    5868\n",
       "1    1492\n",
       "Name: Churn, dtype: int64"
      ]
     },
     "execution_count": 68,
     "metadata": {},
     "output_type": "execute_result"
    }
   ],
   "source": [
    "#bank_churn_train.Churn.value_counts()"
   ]
  },
  {
   "cell_type": "code",
   "execution_count": 31,
   "metadata": {},
   "outputs": [
    {
     "ename": "RecursionError",
     "evalue": "maximum recursion depth exceeded while calling a Python object",
     "output_type": "error",
     "traceback": [
      "\u001b[1;31m---------------------------------------------------------------------------\u001b[0m",
      "\u001b[1;31mRecursionError\u001b[0m                            Traceback (most recent call last)",
      "\u001b[1;32m~\\Anac3\\lib\\abc.py\u001b[0m in \u001b[0;36m__instancecheck__\u001b[1;34m(cls, instance)\u001b[0m\n\u001b[0;32m    180\u001b[0m         \u001b[1;31m# Inline the cache checking\u001b[0m\u001b[1;33m\u001b[0m\u001b[1;33m\u001b[0m\u001b[0m\n\u001b[0;32m    181\u001b[0m         \u001b[0msubclass\u001b[0m \u001b[1;33m=\u001b[0m \u001b[0minstance\u001b[0m\u001b[1;33m.\u001b[0m\u001b[0m__class__\u001b[0m\u001b[1;33m\u001b[0m\u001b[0m\n\u001b[1;32m--> 182\u001b[1;33m         \u001b[1;32mif\u001b[0m \u001b[0msubclass\u001b[0m \u001b[1;32min\u001b[0m \u001b[0mcls\u001b[0m\u001b[1;33m.\u001b[0m\u001b[0m_abc_cache\u001b[0m\u001b[1;33m:\u001b[0m\u001b[1;33m\u001b[0m\u001b[0m\n\u001b[0m\u001b[0;32m    183\u001b[0m             \u001b[1;32mreturn\u001b[0m \u001b[1;32mTrue\u001b[0m\u001b[1;33m\u001b[0m\u001b[0m\n\u001b[0;32m    184\u001b[0m         \u001b[0msubtype\u001b[0m \u001b[1;33m=\u001b[0m \u001b[0mtype\u001b[0m\u001b[1;33m(\u001b[0m\u001b[0minstance\u001b[0m\u001b[1;33m)\u001b[0m\u001b[1;33m\u001b[0m\u001b[0m\n",
      "\u001b[1;31mRecursionError\u001b[0m: maximum recursion depth exceeded while calling a Python object"
     ]
    },
    {
     "name": "stderr",
     "output_type": "stream",
     "text": [
      "Exception ignored in: 'pandas._libs.lib.c_is_list_like'\n",
      "Traceback (most recent call last):\n",
      "  File \"C:\\Users\\Kaustubh Coolkarni\\Anac3\\lib\\abc.py\", line 182, in __instancecheck__\n",
      "    if subclass in cls._abc_cache:\n",
      "RecursionError: maximum recursion depth exceeded while calling a Python object\n"
     ]
    },
    {
     "name": "stdout",
     "output_type": "stream",
     "text": [
      "Retained: 5868\n",
      "Churned: 1492\n"
     ]
    },
    {
     "ename": "RecursionError",
     "evalue": "maximum recursion depth exceeded while calling a Python object",
     "output_type": "error",
     "traceback": [
      "\u001b[1;31m---------------------------------------------------------------------------\u001b[0m",
      "\u001b[1;31mRecursionError\u001b[0m                            Traceback (most recent call last)",
      "\u001b[1;32m~\\Anac3\\lib\\abc.py\u001b[0m in \u001b[0;36m__instancecheck__\u001b[1;34m(cls, instance)\u001b[0m\n\u001b[0;32m    180\u001b[0m         \u001b[1;31m# Inline the cache checking\u001b[0m\u001b[1;33m\u001b[0m\u001b[1;33m\u001b[0m\u001b[0m\n\u001b[0;32m    181\u001b[0m         \u001b[0msubclass\u001b[0m \u001b[1;33m=\u001b[0m \u001b[0minstance\u001b[0m\u001b[1;33m.\u001b[0m\u001b[0m__class__\u001b[0m\u001b[1;33m\u001b[0m\u001b[0m\n\u001b[1;32m--> 182\u001b[1;33m         \u001b[1;32mif\u001b[0m \u001b[0msubclass\u001b[0m \u001b[1;32min\u001b[0m \u001b[0mcls\u001b[0m\u001b[1;33m.\u001b[0m\u001b[0m_abc_cache\u001b[0m\u001b[1;33m:\u001b[0m\u001b[1;33m\u001b[0m\u001b[0m\n\u001b[0m\u001b[0;32m    183\u001b[0m             \u001b[1;32mreturn\u001b[0m \u001b[1;32mTrue\u001b[0m\u001b[1;33m\u001b[0m\u001b[0m\n\u001b[0;32m    184\u001b[0m         \u001b[0msubtype\u001b[0m \u001b[1;33m=\u001b[0m \u001b[0mtype\u001b[0m\u001b[1;33m(\u001b[0m\u001b[0minstance\u001b[0m\u001b[1;33m)\u001b[0m\u001b[1;33m\u001b[0m\u001b[0m\n",
      "\u001b[1;31mRecursionError\u001b[0m: maximum recursion depth exceeded while calling a Python object"
     ]
    },
    {
     "name": "stderr",
     "output_type": "stream",
     "text": [
      "Exception ignored in: 'pandas._libs.lib.c_is_list_like'\n",
      "Traceback (most recent call last):\n",
      "  File \"C:\\Users\\Kaustubh Coolkarni\\Anac3\\lib\\abc.py\", line 182, in __instancecheck__\n",
      "    if subclass in cls._abc_cache:\n",
      "RecursionError: maximum recursion depth exceeded while calling a Python object\n"
     ]
    },
    {
     "name": "stdout",
     "output_type": "stream",
     "text": [
      "Proportion: 3.93 : 1\n"
     ]
    },
    {
     "data": {
      "image/png": "[encoded data removed]",
      "text/plain": [
       "<Figure size 576x396 with 1 Axes>"
      ]
     },
     "metadata": {},
     "output_type": "display_data"
    }
   ],
   "source": [
    "target_count = bank_churn_train.Churn.value_counts()\n",
    "print('Retained:', target_count[0])\n",
    "print('Churned:', target_count[1])\n",
    "print('Proportion:', round(target_count[0] / target_count[1], 2), ': 1')\n",
    "\n",
    "target_count.plot(kind='bar', title='Chrun Count');"
   ]
  },
  {
   "cell_type": "code",
   "execution_count": 30,
   "metadata": {},
   "outputs": [
    {
     "data": {
      "image/png": "[encoded data removed]",
      "text/plain": [
       "<Figure size 720x576 with 1 Axes>"
      ]
     },
     "metadata": {},
     "output_type": "display_data"
    }
   ],
   "source": [
    "labels = 'Churned', 'Retained'\n",
    "sizes = [bank_churn_train.Churn[bank_churn_train['Churn']==1].count(), bank_churn_train.Churn[bank_churn_train['Churn']==0].count()]\n",
    "explode = (0, 0.1)\n",
    "fig1, ax1 = plt.subplots(figsize=(10, 8))\n",
    "ax1.pie(sizes, explode=explode, labels=labels, autopct='%1.1f%%',\n",
    "        shadow=True, startangle=90)\n",
    "ax1.axis('equal')\n",
    "plt.title(\"Proportion of customer churned and retained\", size = 20)\n",
    "plt.show()"
   ]
  },
  {
   "cell_type": "code",
   "execution_count": null,
   "metadata": {},
   "outputs": [],
   "source": [
    "sns.countplot(x=, data=train_data)"
   ]
  },
  {
   "cell_type": "code",
   "execution_count": 37,
   "metadata": {},
   "outputs": [
    {
     "data": {
      "text/plain": [
       "<matplotlib.axes._subplots.AxesSubplot at 0x22f4187aba8>"
      ]
     },
     "execution_count": 37,
     "metadata": {},
     "output_type": "execute_result"
    },
    {
     "data": {
      "image/png": "[encoded data removed]",
      "text/plain": [
       "<Figure size 1440x864 with 6 Axes>"
      ]
     },
     "metadata": {},
     "output_type": "display_data"
    }
   ],
   "source": [
    "    # We first review the 'Status' relation with categorical variables\n",
    "    fig, axarr = plt.subplots(3, 2, figsize=(20, 12))\n",
    "    sns.countplot(x='Location', hue = 'Churn',data = bank_churn_train, ax=axarr[0][0])\n",
    "    sns.countplot(x='Gender', hue = 'Churn',data = bank_churn_train, ax=axarr[0][1])\n",
    "    sns.countplot(x='Age', hue = 'Churn',data = bank_churn_train, ax=axarr[1][0])\n",
    "    sns.countplot(x='ActiveMember', hue = 'Churn',data = bank_churn_train, ax=axarr[1][1])\n",
    "    sns.countplot(x='IsCreditCardCustomer', hue = 'Churn',data = bank_churn_train, ax=axarr[1][0])\n",
    "    #sns.countplot(x='ActiveMember', hue = 'Churn',data = bank_churn_train, ax=axarr[1][1])"
   ]
  },
  {
   "cell_type": "code",
   "execution_count": 89,
   "metadata": {},
   "outputs": [
    {
     "data": {
      "text/html": [
       "<div>\n",
       "<style scoped>\n",
       "    .dataframe tbody tr th:only-of-type {\n",
       "        vertical-align: middle;\n",
       "    }\n",
       "\n",
       "    .dataframe tbody tr th {\n",
       "        vertical-align: top;\n",
       "    }\n",
       "\n",
       "    .dataframe thead th {\n",
       "        text-align: right;\n",
       "    }\n",
       "</style>\n",
       "<table border=\"1\" class=\"dataframe\">\n",
       "  <thead>\n",
       "    <tr style=\"text-align: right;\">\n",
       "      <th></th>\n",
       "      <th>Gender</th>\n",
       "      <th>Location</th>\n",
       "      <th>Education</th>\n",
       "      <th>MaritalStatus</th>\n",
       "      <th>Occupation</th>\n",
       "      <th>Ownhouse</th>\n",
       "      <th>CreditScore</th>\n",
       "      <th>AccountBalance</th>\n",
       "      <th>NumberOfProducts</th>\n",
       "      <th>IsCreditCardCustomer</th>\n",
       "      <th>ActiveMember</th>\n",
       "      <th>Salary</th>\n",
       "      <th>Age</th>\n",
       "      <th>Tenure</th>\n",
       "      <th>ExpenditureRatio</th>\n",
       "      <th>Churn</th>\n",
       "    </tr>\n",
       "  </thead>\n",
       "  <tbody>\n",
       "    <tr>\n",
       "      <td>0</td>\n",
       "      <td>Male</td>\n",
       "      <td>Location11</td>\n",
       "      <td>primary</td>\n",
       "      <td>divorced</td>\n",
       "      <td>management</td>\n",
       "      <td>no</td>\n",
       "      <td>716.0</td>\n",
       "      <td>0.00</td>\n",
       "      <td>2.0</td>\n",
       "      <td>1</td>\n",
       "      <td>0</td>\n",
       "      <td>189678.70</td>\n",
       "      <td>39.0</td>\n",
       "      <td>5.0</td>\n",
       "      <td>0.000000</td>\n",
       "      <td>0</td>\n",
       "    </tr>\n",
       "    <tr>\n",
       "      <td>1</td>\n",
       "      <td>Female</td>\n",
       "      <td>Location13</td>\n",
       "      <td>primary</td>\n",
       "      <td>divorced</td>\n",
       "      <td>admin.</td>\n",
       "      <td>no</td>\n",
       "      <td>568.0</td>\n",
       "      <td>169399.60</td>\n",
       "      <td>1.0</td>\n",
       "      <td>1</td>\n",
       "      <td>0</td>\n",
       "      <td>61936.22</td>\n",
       "      <td>33.0</td>\n",
       "      <td>8.0</td>\n",
       "      <td>2.735065</td>\n",
       "      <td>0</td>\n",
       "    </tr>\n",
       "    <tr>\n",
       "      <td>2</td>\n",
       "      <td>Male</td>\n",
       "      <td>Location13</td>\n",
       "      <td>secondary</td>\n",
       "      <td>married</td>\n",
       "      <td>unknown</td>\n",
       "      <td>unknown</td>\n",
       "      <td>739.0</td>\n",
       "      <td>89750.21</td>\n",
       "      <td>1.0</td>\n",
       "      <td>1</td>\n",
       "      <td>0</td>\n",
       "      <td>193008.52</td>\n",
       "      <td>20.0</td>\n",
       "      <td>6.0</td>\n",
       "      <td>0.465006</td>\n",
       "      <td>0</td>\n",
       "    </tr>\n",
       "    <tr>\n",
       "      <td>3</td>\n",
       "      <td>Female</td>\n",
       "      <td>Location11</td>\n",
       "      <td>tertiary</td>\n",
       "      <td>married</td>\n",
       "      <td>admin.</td>\n",
       "      <td>yes</td>\n",
       "      <td>678.0</td>\n",
       "      <td>204510.94</td>\n",
       "      <td>1.0</td>\n",
       "      <td>0</td>\n",
       "      <td>1</td>\n",
       "      <td>738.88</td>\n",
       "      <td>50.0</td>\n",
       "      <td>4.0</td>\n",
       "      <td>276.785053</td>\n",
       "      <td>1</td>\n",
       "    </tr>\n",
       "    <tr>\n",
       "      <td>4</td>\n",
       "      <td>Male</td>\n",
       "      <td>Location13</td>\n",
       "      <td>tertiary</td>\n",
       "      <td>single</td>\n",
       "      <td>management</td>\n",
       "      <td>no</td>\n",
       "      <td>670.0</td>\n",
       "      <td>0.00</td>\n",
       "      <td>2.0</td>\n",
       "      <td>1</td>\n",
       "      <td>1</td>\n",
       "      <td>78358.94</td>\n",
       "      <td>26.0</td>\n",
       "      <td>7.0</td>\n",
       "      <td>0.000000</td>\n",
       "      <td>0</td>\n",
       "    </tr>\n",
       "  </tbody>\n",
       "</table>\n",
       "</div>"
      ],
      "text/plain": [
       "   Gender    Location  Education MaritalStatus  Occupation Ownhouse  \\\n",
       "0    Male  Location11    primary      divorced  management       no   \n",
       "1  Female  Location13    primary      divorced      admin.       no   \n",
       "2    Male  Location13  secondary       married     unknown  unknown   \n",
       "3  Female  Location11   tertiary       married      admin.      yes   \n",
       "4    Male  Location13   tertiary        single  management       no   \n",
       "\n",
       "   CreditScore  AccountBalance  NumberOfProducts IsCreditCardCustomer  \\\n",
       "0        716.0            0.00               2.0                    1   \n",
       "1        568.0       169399.60               1.0                    1   \n",
       "2        739.0        89750.21               1.0                    1   \n",
       "3        678.0       204510.94               1.0                    0   \n",
       "4        670.0            0.00               2.0                    1   \n",
       "\n",
       "  ActiveMember     Salary   Age  Tenure  ExpenditureRatio Churn  \n",
       "0            0  189678.70  39.0     5.0          0.000000     0  \n",
       "1            0   61936.22  33.0     8.0          2.735065     0  \n",
       "2            0  193008.52  20.0     6.0          0.465006     0  \n",
       "3            1     738.88  50.0     4.0        276.785053     1  \n",
       "4            1   78358.94  26.0     7.0          0.000000     0  "
      ]
     },
     "execution_count": 89,
     "metadata": {},
     "output_type": "execute_result"
    }
   ],
   "source": [
    "bank_churn_train.head()"
   ]
  },
  {
   "cell_type": "code",
   "execution_count": 38,
   "metadata": {},
   "outputs": [
    {
     "data": {
      "text/plain": [
       "<matplotlib.axes._subplots.AxesSubplot at 0x22f44ebe6d8>"
      ]
     },
     "execution_count": 38,
     "metadata": {},
     "output_type": "execute_result"
    },
    {
     "data": {
      "image/png": "[encoded data removed]",
      "text/plain": [
       "<Figure size 1440x864 with 6 Axes>"
      ]
     },
     "metadata": {},
     "output_type": "display_data"
    }
   ],
   "source": [
    "    # Relations based on the continuous data attributes\n",
    "    fig, axarr = plt.subplots(3, 2, figsize=(20, 12))\n",
    "    sns.boxplot(y='CreditScore',x = 'Churn', hue = 'Churn',data = bank_churn_train, ax=axarr[0][0])\n",
    "    sns.boxplot(y='AccountBalance',x = 'Churn', hue = 'Churn',data = bank_churn_train , ax=axarr[0][1])\n",
    "    sns.boxplot(y='NumberOfProducts',x = 'Churn', hue = 'Churn',data = bank_churn_train, ax=axarr[2][0])\n",
    "    sns.boxplot(y='Salary',x = 'Churn', hue = 'Churn',data = bank_churn_train, ax=axarr[2][1])\n"
   ]
  },
  {
   "cell_type": "code",
   "execution_count": 39,
   "metadata": {},
   "outputs": [
    {
     "data": {
      "image/png": "[encoded data removed]",
      "text/plain": [
       "<Figure size 2160x1440 with 6 Axes>"
      ]
     },
     "metadata": {},
     "output_type": "display_data"
    }
   ],
   "source": [
    "#Show frequency of each categorical column\n",
    "fig, ax = plt.subplots(3,2, figsize=(30,20))\n",
    "for variable, subplot in zip(cat_cols, ax.flatten()):\n",
    "    sns.countplot(bank_churn_train[variable], ax=subplot)\n",
    "    for label in subplot.get_xticklabels():\n",
    "        label.set_rotation(90)\n",
    "fig.suptitle('Fig : Frequency of each categorical feature', fontsize=30)\n",
    "fig.tight_layout()\n",
    "fig.subplots_adjust(top=0.95)"
   ]
  },
  {
   "cell_type": "code",
   "execution_count": 97,
   "metadata": {},
   "outputs": [
    {
     "data": {
      "image/png": "[encoded data removed]",
      "text/plain": [
       "<Figure size 576x396 with 1 Axes>"
      ]
     },
     "metadata": {},
     "output_type": "display_data"
    },
    {
     "data": {
      "image/png": "[encoded data removed]",
      "text/plain": [
       "<Figure size 576x396 with 1 Axes>"
      ]
     },
     "metadata": {},
     "output_type": "display_data"
    },
    {
     "data": {
      "image/png": "[encoded data removed]",
      "text/plain": [
       "<Figure size 576x396 with 1 Axes>"
      ]
     },
     "metadata": {},
     "output_type": "display_data"
    },
    {
     "data": {
      "image/png": "[encoded data removed]",
      "text/plain": [
       "<Figure size 576x396 with 1 Axes>"
      ]
     },
     "metadata": {},
     "output_type": "display_data"
    },
    {
     "data": {
      "image/png": "[encoded data removed]",
      "text/plain": [
       "<Figure size 576x396 with 1 Axes>"
      ]
     },
     "metadata": {},
     "output_type": "display_data"
    },
    {
     "data": {
      "image/png": "[encoded data removed]",
      "text/plain": [
       "<Figure size 576x396 with 1 Axes>"
      ]
     },
     "metadata": {},
     "output_type": "display_data"
    },
    {
     "data": {
      "image/png": "[encoded data removed]",
      "text/plain": [
       "<Figure size 576x396 with 1 Axes>"
      ]
     },
     "metadata": {},
     "output_type": "display_data"
    },
    {
     "data": {
      "image/png": "[encoded data removed]",
      "text/plain": [
       "<Figure size 576x396 with 1 Axes>"
      ]
     },
     "metadata": {},
     "output_type": "display_data"
    },
    {
     "data": {
      "image/png": "[encoded data removed]",
      "text/plain": [
       "<Figure size 576x396 with 1 Axes>"
      ]
     },
     "metadata": {},
     "output_type": "display_data"
    }
   ],
   "source": [
    "#Comparing each categorical column with status\n",
    "for i,j in enumerate(cat_cols):\n",
    "    if(j!=\"status\"):\n",
    "        cat_plot = pd.crosstab(bank_churn_train[j],bank_churn_train[\"Churn\"])\n",
    "        cat_plot.plot(kind='bar')\n",
    "        plt.xticks(rotation=90)\n",
    "    plt.show()"
   ]
  },
  {
   "cell_type": "code",
   "execution_count": null,
   "metadata": {},
   "outputs": [],
   "source": []
  },
  {
   "cell_type": "code",
   "execution_count": null,
   "metadata": {},
   "outputs": [],
   "source": []
  },
  {
   "cell_type": "code",
   "execution_count": null,
   "metadata": {},
   "outputs": [],
   "source": []
  },
  {
   "cell_type": "markdown",
   "metadata": {},
   "source": [
    "### Step 4 : Feature Engineering (Add new / remove Unecessary)"
   ]
  },
  {
   "cell_type": "code",
   "execution_count": null,
   "metadata": {},
   "outputs": [],
   "source": []
  },
  {
   "cell_type": "code",
   "execution_count": null,
   "metadata": {},
   "outputs": [],
   "source": []
  },
  {
   "cell_type": "code",
   "execution_count": null,
   "metadata": {},
   "outputs": [],
   "source": []
  },
  {
   "cell_type": "markdown",
   "metadata": {},
   "source": [
    "### Step 5 : Train/Test  Split"
   ]
  },
  {
   "cell_type": "code",
   "execution_count": 31,
   "metadata": {},
   "outputs": [
    {
     "name": "stdout",
     "output_type": "stream",
     "text": [
      "(7360, 17)\n",
      "(5152, 16)\n",
      "(2208, 16)\n"
     ]
    }
   ],
   "source": [
    "trainx,vldx,trainy,vldy = train_test_split(bank_churn_train.iloc[:,:-1],bank_churn_train.iloc[:,-1],test_size=0.3,random_state=1)\n",
    "print(bank_churn_train.shape)\n",
    "print(trainx.shape)\n",
    "print(vldx.shape)"
   ]
  },
  {
   "cell_type": "code",
   "execution_count": 33,
   "metadata": {},
   "outputs": [
    {
     "data": {
      "text/html": [
       "<div>\n",
       "<style scoped>\n",
       "    .dataframe tbody tr th:only-of-type {\n",
       "        vertical-align: middle;\n",
       "    }\n",
       "\n",
       "    .dataframe tbody tr th {\n",
       "        vertical-align: top;\n",
       "    }\n",
       "\n",
       "    .dataframe thead th {\n",
       "        text-align: right;\n",
       "    }\n",
       "</style>\n",
       "<table border=\"1\" class=\"dataframe\">\n",
       "  <thead>\n",
       "    <tr style=\"text-align: right;\">\n",
       "      <th></th>\n",
       "      <th>Gender</th>\n",
       "      <th>Location</th>\n",
       "      <th>Education</th>\n",
       "      <th>MaritalStatus</th>\n",
       "      <th>Occupation</th>\n",
       "      <th>Ownhouse</th>\n",
       "      <th>CreditScore</th>\n",
       "      <th>AccountBalance</th>\n",
       "      <th>NumberOfProducts</th>\n",
       "      <th>IsCreditCardCustomer</th>\n",
       "      <th>ActiveMember</th>\n",
       "      <th>Salary</th>\n",
       "      <th>Age</th>\n",
       "      <th>Tenure</th>\n",
       "    </tr>\n",
       "  </thead>\n",
       "  <tbody>\n",
       "    <tr>\n",
       "      <td>4844</td>\n",
       "      <td>Female</td>\n",
       "      <td>Location11</td>\n",
       "      <td>primary</td>\n",
       "      <td>divorced</td>\n",
       "      <td>admin.</td>\n",
       "      <td>no</td>\n",
       "      <td>610.0</td>\n",
       "      <td>81905.95</td>\n",
       "      <td>1.0</td>\n",
       "      <td>1</td>\n",
       "      <td>1</td>\n",
       "      <td>61623.19</td>\n",
       "      <td>36.0</td>\n",
       "      <td>8.0</td>\n",
       "    </tr>\n",
       "    <tr>\n",
       "      <td>6660</td>\n",
       "      <td>Female</td>\n",
       "      <td>Location13</td>\n",
       "      <td>primary</td>\n",
       "      <td>single</td>\n",
       "      <td>admin.</td>\n",
       "      <td>yes</td>\n",
       "      <td>692.0</td>\n",
       "      <td>0.00</td>\n",
       "      <td>2.0</td>\n",
       "      <td>1</td>\n",
       "      <td>0</td>\n",
       "      <td>150802.41</td>\n",
       "      <td>48.0</td>\n",
       "      <td>4.0</td>\n",
       "    </tr>\n",
       "    <tr>\n",
       "      <td>1893</td>\n",
       "      <td>Male</td>\n",
       "      <td>Location11</td>\n",
       "      <td>secondary</td>\n",
       "      <td>married</td>\n",
       "      <td>retired</td>\n",
       "      <td>yes</td>\n",
       "      <td>748.0</td>\n",
       "      <td>0.00</td>\n",
       "      <td>1.0</td>\n",
       "      <td>1</td>\n",
       "      <td>1</td>\n",
       "      <td>163331.65</td>\n",
       "      <td>67.0</td>\n",
       "      <td>9.0</td>\n",
       "    </tr>\n",
       "    <tr>\n",
       "      <td>2053</td>\n",
       "      <td>Male</td>\n",
       "      <td>Location11</td>\n",
       "      <td>unknown</td>\n",
       "      <td>married</td>\n",
       "      <td>retired</td>\n",
       "      <td>yes</td>\n",
       "      <td>753.0</td>\n",
       "      <td>121513.31</td>\n",
       "      <td>1.0</td>\n",
       "      <td>0</td>\n",
       "      <td>1</td>\n",
       "      <td>195563.99</td>\n",
       "      <td>93.0</td>\n",
       "      <td>4.0</td>\n",
       "    </tr>\n",
       "    <tr>\n",
       "      <td>2978</td>\n",
       "      <td>Male</td>\n",
       "      <td>Location11</td>\n",
       "      <td>tertiary</td>\n",
       "      <td>divorced</td>\n",
       "      <td>unknown</td>\n",
       "      <td>no</td>\n",
       "      <td>697.0</td>\n",
       "      <td>141223.68</td>\n",
       "      <td>2.0</td>\n",
       "      <td>1</td>\n",
       "      <td>0</td>\n",
       "      <td>90591.15</td>\n",
       "      <td>28.0</td>\n",
       "      <td>9.0</td>\n",
       "    </tr>\n",
       "  </tbody>\n",
       "</table>\n",
       "</div>"
      ],
      "text/plain": [
       "      Gender    Location  Education MaritalStatus Occupation Ownhouse  \\\n",
       "4844  Female  Location11    primary      divorced     admin.       no   \n",
       "6660  Female  Location13    primary        single     admin.      yes   \n",
       "1893    Male  Location11  secondary       married    retired      yes   \n",
       "2053    Male  Location11    unknown       married    retired      yes   \n",
       "2978    Male  Location11   tertiary      divorced    unknown       no   \n",
       "\n",
       "      CreditScore  AccountBalance  NumberOfProducts IsCreditCardCustomer  \\\n",
       "4844        610.0        81905.95               1.0                    1   \n",
       "6660        692.0            0.00               2.0                    1   \n",
       "1893        748.0            0.00               1.0                    1   \n",
       "2053        753.0       121513.31               1.0                    0   \n",
       "2978        697.0       141223.68               2.0                    1   \n",
       "\n",
       "     ActiveMember     Salary   Age  Tenure  \n",
       "4844            1   61623.19  36.0     8.0  \n",
       "6660            0  150802.41  48.0     4.0  \n",
       "1893            1  163331.65  67.0     9.0  \n",
       "2053            1  195563.99  93.0     4.0  \n",
       "2978            0   90591.15  28.0     9.0  "
      ]
     },
     "execution_count": 33,
     "metadata": {},
     "output_type": "execute_result"
    }
   ],
   "source": [
    "trainx.head()"
   ]
  },
  {
   "cell_type": "markdown",
   "metadata": {},
   "source": [
    "### Step 6 : Pre-Processing steps on train data"
   ]
  },
  {
   "cell_type": "code",
   "execution_count": 32,
   "metadata": {},
   "outputs": [],
   "source": [
    "cat_col = ['Gender','Location', 'Education', 'MaritalStatus', 'Occupation',\n",
    "       'Ownhouse','IsCreditCardCustomer', 'ActiveMember']\n",
    "\n",
    "num_col = ['AccountBalance', 'Age', 'CreditScore', 'NumberOfProducts',\n",
    "       'Salary', 'Tenure','ExpenditureRatio', 'TenureRatio']"
   ]
  },
  {
   "cell_type": "markdown",
   "metadata": {},
   "source": [
    "#### Step 6.1 : Differenciate Num and categorical data"
   ]
  },
  {
   "cell_type": "code",
   "execution_count": 33,
   "metadata": {},
   "outputs": [],
   "source": [
    "train_num_data = trainx.loc[:,num_col]\n",
    "train_cat_data = trainx.loc[:,cat_col]"
   ]
  },
  {
   "cell_type": "markdown",
   "metadata": {},
   "source": [
    "#### Step 6.2 : Standardize"
   ]
  },
  {
   "cell_type": "code",
   "execution_count": 35,
   "metadata": {},
   "outputs": [],
   "source": [
    "standardizer = StandardScaler()\n",
    "standardizer.fit(train_num_data)\n",
    "train_num_data = pd.DataFrame(standardizer.transform(train_num_data),columns=num_col)"
   ]
  },
  {
   "cell_type": "code",
   "execution_count": 36,
   "metadata": {},
   "outputs": [],
   "source": [
    "train_num_data.reset_index(drop=True, inplace=True)\n",
    "train_cat_data.reset_index(drop=True, inplace=True)"
   ]
  },
  {
   "cell_type": "markdown",
   "metadata": {},
   "source": [
    "#### Step 6.3 : Concat Num and Cat columns"
   ]
  },
  {
   "cell_type": "code",
   "execution_count": 37,
   "metadata": {},
   "outputs": [],
   "source": [
    "trainx = pd.concat([train_num_data,train_cat_data],axis=1)"
   ]
  },
  {
   "cell_type": "code",
   "execution_count": 38,
   "metadata": {},
   "outputs": [
    {
     "data": {
      "text/html": [
       "<div>\n",
       "<style scoped>\n",
       "    .dataframe tbody tr th:only-of-type {\n",
       "        vertical-align: middle;\n",
       "    }\n",
       "\n",
       "    .dataframe tbody tr th {\n",
       "        vertical-align: top;\n",
       "    }\n",
       "\n",
       "    .dataframe thead th {\n",
       "        text-align: right;\n",
       "    }\n",
       "</style>\n",
       "<table border=\"1\" class=\"dataframe\">\n",
       "  <thead>\n",
       "    <tr style=\"text-align: right;\">\n",
       "      <th></th>\n",
       "      <th>AccountBalance</th>\n",
       "      <th>Age</th>\n",
       "      <th>CreditScore</th>\n",
       "      <th>NumberOfProducts</th>\n",
       "      <th>Salary</th>\n",
       "      <th>Tenure</th>\n",
       "      <th>ExpenditureRatio</th>\n",
       "      <th>TenureRatio</th>\n",
       "      <th>Gender</th>\n",
       "      <th>Location</th>\n",
       "      <th>Education</th>\n",
       "      <th>MaritalStatus</th>\n",
       "      <th>Occupation</th>\n",
       "      <th>Ownhouse</th>\n",
       "      <th>IsCreditCardCustomer</th>\n",
       "      <th>ActiveMember</th>\n",
       "    </tr>\n",
       "  </thead>\n",
       "  <tbody>\n",
       "    <tr>\n",
       "      <td>0</td>\n",
       "      <td>0.097583</td>\n",
       "      <td>-0.370663</td>\n",
       "      <td>-0.436011</td>\n",
       "      <td>-0.895985</td>\n",
       "      <td>-0.662168</td>\n",
       "      <td>0.690172</td>\n",
       "      <td>-0.023309</td>\n",
       "      <td>0.688116</td>\n",
       "      <td>Female</td>\n",
       "      <td>Location11</td>\n",
       "      <td>primary</td>\n",
       "      <td>divorced</td>\n",
       "      <td>admin.</td>\n",
       "      <td>no</td>\n",
       "      <td>1</td>\n",
       "      <td>1</td>\n",
       "    </tr>\n",
       "    <tr>\n",
       "      <td>1</td>\n",
       "      <td>-1.217800</td>\n",
       "      <td>0.773815</td>\n",
       "      <td>0.412390</td>\n",
       "      <td>0.827732</td>\n",
       "      <td>0.893026</td>\n",
       "      <td>-0.690306</td>\n",
       "      <td>-0.032228</td>\n",
       "      <td>-0.859047</td>\n",
       "      <td>Female</td>\n",
       "      <td>Location13</td>\n",
       "      <td>primary</td>\n",
       "      <td>single</td>\n",
       "      <td>admin.</td>\n",
       "      <td>yes</td>\n",
       "      <td>1</td>\n",
       "      <td>0</td>\n",
       "    </tr>\n",
       "    <tr>\n",
       "      <td>2</td>\n",
       "      <td>-1.217800</td>\n",
       "      <td>2.585904</td>\n",
       "      <td>0.991786</td>\n",
       "      <td>-0.895985</td>\n",
       "      <td>1.111523</td>\n",
       "      <td>1.035292</td>\n",
       "      <td>-0.032228</td>\n",
       "      <td>-0.290984</td>\n",
       "      <td>Male</td>\n",
       "      <td>Location11</td>\n",
       "      <td>secondary</td>\n",
       "      <td>married</td>\n",
       "      <td>retired</td>\n",
       "      <td>yes</td>\n",
       "      <td>1</td>\n",
       "      <td>1</td>\n",
       "    </tr>\n",
       "    <tr>\n",
       "      <td>3</td>\n",
       "      <td>0.733664</td>\n",
       "      <td>5.065606</td>\n",
       "      <td>1.043517</td>\n",
       "      <td>-0.895985</td>\n",
       "      <td>1.673622</td>\n",
       "      <td>-0.690306</td>\n",
       "      <td>-0.028059</td>\n",
       "      <td>-1.308223</td>\n",
       "      <td>Male</td>\n",
       "      <td>Location11</td>\n",
       "      <td>unknown</td>\n",
       "      <td>married</td>\n",
       "      <td>retired</td>\n",
       "      <td>yes</td>\n",
       "      <td>0</td>\n",
       "      <td>1</td>\n",
       "    </tr>\n",
       "    <tr>\n",
       "      <td>4</td>\n",
       "      <td>1.050206</td>\n",
       "      <td>-1.133648</td>\n",
       "      <td>0.464122</td>\n",
       "      <td>0.827732</td>\n",
       "      <td>-0.156997</td>\n",
       "      <td>1.035292</td>\n",
       "      <td>-0.021767</td>\n",
       "      <td>1.793232</td>\n",
       "      <td>Male</td>\n",
       "      <td>Location11</td>\n",
       "      <td>tertiary</td>\n",
       "      <td>divorced</td>\n",
       "      <td>unknown</td>\n",
       "      <td>no</td>\n",
       "      <td>1</td>\n",
       "      <td>0</td>\n",
       "    </tr>\n",
       "  </tbody>\n",
       "</table>\n",
       "</div>"
      ],
      "text/plain": [
       "   AccountBalance       Age  CreditScore  NumberOfProducts    Salary  \\\n",
       "0        0.097583 -0.370663    -0.436011         -0.895985 -0.662168   \n",
       "1       -1.217800  0.773815     0.412390          0.827732  0.893026   \n",
       "2       -1.217800  2.585904     0.991786         -0.895985  1.111523   \n",
       "3        0.733664  5.065606     1.043517         -0.895985  1.673622   \n",
       "4        1.050206 -1.133648     0.464122          0.827732 -0.156997   \n",
       "\n",
       "     Tenure  ExpenditureRatio  TenureRatio  Gender    Location  Education  \\\n",
       "0  0.690172         -0.023309     0.688116  Female  Location11    primary   \n",
       "1 -0.690306         -0.032228    -0.859047  Female  Location13    primary   \n",
       "2  1.035292         -0.032228    -0.290984    Male  Location11  secondary   \n",
       "3 -0.690306         -0.028059    -1.308223    Male  Location11    unknown   \n",
       "4  1.035292         -0.021767     1.793232    Male  Location11   tertiary   \n",
       "\n",
       "  MaritalStatus Occupation Ownhouse IsCreditCardCustomer ActiveMember  \n",
       "0      divorced     admin.       no                    1            1  \n",
       "1        single     admin.      yes                    1            0  \n",
       "2       married    retired      yes                    1            1  \n",
       "3       married    retired      yes                    0            1  \n",
       "4      divorced    unknown       no                    1            0  "
      ]
     },
     "execution_count": 38,
     "metadata": {},
     "output_type": "execute_result"
    }
   ],
   "source": [
    "trainx.head()"
   ]
  },
  {
   "cell_type": "markdown",
   "metadata": {},
   "source": [
    "#### Step 6.4 : Dummify"
   ]
  },
  {
   "cell_type": "code",
   "execution_count": 39,
   "metadata": {},
   "outputs": [
    {
     "data": {
      "text/html": [
       "<div>\n",
       "<style scoped>\n",
       "    .dataframe tbody tr th:only-of-type {\n",
       "        vertical-align: middle;\n",
       "    }\n",
       "\n",
       "    .dataframe tbody tr th {\n",
       "        vertical-align: top;\n",
       "    }\n",
       "\n",
       "    .dataframe thead th {\n",
       "        text-align: right;\n",
       "    }\n",
       "</style>\n",
       "<table border=\"1\" class=\"dataframe\">\n",
       "  <thead>\n",
       "    <tr style=\"text-align: right;\">\n",
       "      <th></th>\n",
       "      <th>AccountBalance</th>\n",
       "      <th>Age</th>\n",
       "      <th>CreditScore</th>\n",
       "      <th>NumberOfProducts</th>\n",
       "      <th>Salary</th>\n",
       "      <th>Tenure</th>\n",
       "      <th>ExpenditureRatio</th>\n",
       "      <th>TenureRatio</th>\n",
       "      <th>Gender_Female</th>\n",
       "      <th>Gender_Male</th>\n",
       "      <th>...</th>\n",
       "      <th>Occupation_services</th>\n",
       "      <th>Occupation_technician</th>\n",
       "      <th>Occupation_unknown</th>\n",
       "      <th>Ownhouse_no</th>\n",
       "      <th>Ownhouse_unknown</th>\n",
       "      <th>Ownhouse_yes</th>\n",
       "      <th>IsCreditCardCustomer_0</th>\n",
       "      <th>IsCreditCardCustomer_1</th>\n",
       "      <th>ActiveMember_0</th>\n",
       "      <th>ActiveMember_1</th>\n",
       "    </tr>\n",
       "  </thead>\n",
       "  <tbody>\n",
       "    <tr>\n",
       "      <td>0</td>\n",
       "      <td>0.097583</td>\n",
       "      <td>-0.370663</td>\n",
       "      <td>-0.436011</td>\n",
       "      <td>-0.895985</td>\n",
       "      <td>-0.662168</td>\n",
       "      <td>0.690172</td>\n",
       "      <td>-0.023309</td>\n",
       "      <td>0.688116</td>\n",
       "      <td>1</td>\n",
       "      <td>0</td>\n",
       "      <td>...</td>\n",
       "      <td>0</td>\n",
       "      <td>0</td>\n",
       "      <td>0</td>\n",
       "      <td>1</td>\n",
       "      <td>0</td>\n",
       "      <td>0</td>\n",
       "      <td>0</td>\n",
       "      <td>1</td>\n",
       "      <td>0</td>\n",
       "      <td>1</td>\n",
       "    </tr>\n",
       "    <tr>\n",
       "      <td>1</td>\n",
       "      <td>-1.217800</td>\n",
       "      <td>0.773815</td>\n",
       "      <td>0.412390</td>\n",
       "      <td>0.827732</td>\n",
       "      <td>0.893026</td>\n",
       "      <td>-0.690306</td>\n",
       "      <td>-0.032228</td>\n",
       "      <td>-0.859047</td>\n",
       "      <td>1</td>\n",
       "      <td>0</td>\n",
       "      <td>...</td>\n",
       "      <td>0</td>\n",
       "      <td>0</td>\n",
       "      <td>0</td>\n",
       "      <td>0</td>\n",
       "      <td>0</td>\n",
       "      <td>1</td>\n",
       "      <td>0</td>\n",
       "      <td>1</td>\n",
       "      <td>1</td>\n",
       "      <td>0</td>\n",
       "    </tr>\n",
       "    <tr>\n",
       "      <td>2</td>\n",
       "      <td>-1.217800</td>\n",
       "      <td>2.585904</td>\n",
       "      <td>0.991786</td>\n",
       "      <td>-0.895985</td>\n",
       "      <td>1.111523</td>\n",
       "      <td>1.035292</td>\n",
       "      <td>-0.032228</td>\n",
       "      <td>-0.290984</td>\n",
       "      <td>0</td>\n",
       "      <td>1</td>\n",
       "      <td>...</td>\n",
       "      <td>0</td>\n",
       "      <td>0</td>\n",
       "      <td>0</td>\n",
       "      <td>0</td>\n",
       "      <td>0</td>\n",
       "      <td>1</td>\n",
       "      <td>0</td>\n",
       "      <td>1</td>\n",
       "      <td>0</td>\n",
       "      <td>1</td>\n",
       "    </tr>\n",
       "    <tr>\n",
       "      <td>3</td>\n",
       "      <td>0.733664</td>\n",
       "      <td>5.065606</td>\n",
       "      <td>1.043517</td>\n",
       "      <td>-0.895985</td>\n",
       "      <td>1.673622</td>\n",
       "      <td>-0.690306</td>\n",
       "      <td>-0.028059</td>\n",
       "      <td>-1.308223</td>\n",
       "      <td>0</td>\n",
       "      <td>1</td>\n",
       "      <td>...</td>\n",
       "      <td>0</td>\n",
       "      <td>0</td>\n",
       "      <td>0</td>\n",
       "      <td>0</td>\n",
       "      <td>0</td>\n",
       "      <td>1</td>\n",
       "      <td>1</td>\n",
       "      <td>0</td>\n",
       "      <td>0</td>\n",
       "      <td>1</td>\n",
       "    </tr>\n",
       "    <tr>\n",
       "      <td>4</td>\n",
       "      <td>1.050206</td>\n",
       "      <td>-1.133648</td>\n",
       "      <td>0.464122</td>\n",
       "      <td>0.827732</td>\n",
       "      <td>-0.156997</td>\n",
       "      <td>1.035292</td>\n",
       "      <td>-0.021767</td>\n",
       "      <td>1.793232</td>\n",
       "      <td>0</td>\n",
       "      <td>1</td>\n",
       "      <td>...</td>\n",
       "      <td>0</td>\n",
       "      <td>0</td>\n",
       "      <td>1</td>\n",
       "      <td>1</td>\n",
       "      <td>0</td>\n",
       "      <td>0</td>\n",
       "      <td>0</td>\n",
       "      <td>1</td>\n",
       "      <td>1</td>\n",
       "      <td>0</td>\n",
       "    </tr>\n",
       "  </tbody>\n",
       "</table>\n",
       "<p>5 rows × 34 columns</p>\n",
       "</div>"
      ],
      "text/plain": [
       "   AccountBalance       Age  CreditScore  NumberOfProducts    Salary  \\\n",
       "0        0.097583 -0.370663    -0.436011         -0.895985 -0.662168   \n",
       "1       -1.217800  0.773815     0.412390          0.827732  0.893026   \n",
       "2       -1.217800  2.585904     0.991786         -0.895985  1.111523   \n",
       "3        0.733664  5.065606     1.043517         -0.895985  1.673622   \n",
       "4        1.050206 -1.133648     0.464122          0.827732 -0.156997   \n",
       "\n",
       "     Tenure  ExpenditureRatio  TenureRatio  Gender_Female  Gender_Male  ...  \\\n",
       "0  0.690172         -0.023309     0.688116              1            0  ...   \n",
       "1 -0.690306         -0.032228    -0.859047              1            0  ...   \n",
       "2  1.035292         -0.032228    -0.290984              0            1  ...   \n",
       "3 -0.690306         -0.028059    -1.308223              0            1  ...   \n",
       "4  1.035292         -0.021767     1.793232              0            1  ...   \n",
       "\n",
       "   Occupation_services  Occupation_technician  Occupation_unknown  \\\n",
       "0                    0                      0                   0   \n",
       "1                    0                      0                   0   \n",
       "2                    0                      0                   0   \n",
       "3                    0                      0                   0   \n",
       "4                    0                      0                   1   \n",
       "\n",
       "   Ownhouse_no  Ownhouse_unknown  Ownhouse_yes  IsCreditCardCustomer_0  \\\n",
       "0            1                 0             0                       0   \n",
       "1            0                 0             1                       0   \n",
       "2            0                 0             1                       0   \n",
       "3            0                 0             1                       1   \n",
       "4            1                 0             0                       0   \n",
       "\n",
       "   IsCreditCardCustomer_1  ActiveMember_0  ActiveMember_1  \n",
       "0                       1               0               1  \n",
       "1                       1               1               0  \n",
       "2                       1               0               1  \n",
       "3                       0               0               1  \n",
       "4                       1               1               0  \n",
       "\n",
       "[5 rows x 34 columns]"
      ]
     },
     "execution_count": 39,
     "metadata": {},
     "output_type": "execute_result"
    }
   ],
   "source": [
    "trainx=pd.get_dummies(trainx,columns=cat_col.extend(['cat_cc']))\n",
    "trainx.head()"
   ]
  },
  {
   "cell_type": "code",
   "execution_count": null,
   "metadata": {},
   "outputs": [],
   "source": []
  },
  {
   "cell_type": "markdown",
   "metadata": {},
   "source": [
    "### Step 7 : Pre-Processing steps on validation data"
   ]
  },
  {
   "cell_type": "markdown",
   "metadata": {},
   "source": [
    "#### Step 7.1 :  Differenciate Num and categorical data"
   ]
  },
  {
   "cell_type": "code",
   "execution_count": 40,
   "metadata": {},
   "outputs": [],
   "source": [
    "vld_num_data = vldx.loc[:,num_col]\n",
    "vld_cat_data = vldx.loc[:,cat_col]"
   ]
  },
  {
   "cell_type": "code",
   "execution_count": 41,
   "metadata": {},
   "outputs": [
    {
     "data": {
      "text/html": [
       "<div>\n",
       "<style scoped>\n",
       "    .dataframe tbody tr th:only-of-type {\n",
       "        vertical-align: middle;\n",
       "    }\n",
       "\n",
       "    .dataframe tbody tr th {\n",
       "        vertical-align: top;\n",
       "    }\n",
       "\n",
       "    .dataframe thead th {\n",
       "        text-align: right;\n",
       "    }\n",
       "</style>\n",
       "<table border=\"1\" class=\"dataframe\">\n",
       "  <thead>\n",
       "    <tr style=\"text-align: right;\">\n",
       "      <th></th>\n",
       "      <th>Gender</th>\n",
       "      <th>Location</th>\n",
       "      <th>Education</th>\n",
       "      <th>MaritalStatus</th>\n",
       "      <th>Occupation</th>\n",
       "      <th>Ownhouse</th>\n",
       "      <th>IsCreditCardCustomer</th>\n",
       "      <th>ActiveMember</th>\n",
       "      <th>cat_cc</th>\n",
       "    </tr>\n",
       "  </thead>\n",
       "  <tbody>\n",
       "    <tr>\n",
       "      <td>3321</td>\n",
       "      <td>Female</td>\n",
       "      <td>Location12</td>\n",
       "      <td>secondary</td>\n",
       "      <td>single</td>\n",
       "      <td>admin.</td>\n",
       "      <td>no</td>\n",
       "      <td>1</td>\n",
       "      <td>0</td>\n",
       "      <td>NaN</td>\n",
       "    </tr>\n",
       "    <tr>\n",
       "      <td>6307</td>\n",
       "      <td>Male</td>\n",
       "      <td>Location12</td>\n",
       "      <td>tertiary</td>\n",
       "      <td>single</td>\n",
       "      <td>unknown</td>\n",
       "      <td>no</td>\n",
       "      <td>1</td>\n",
       "      <td>0</td>\n",
       "      <td>NaN</td>\n",
       "    </tr>\n",
       "    <tr>\n",
       "      <td>7040</td>\n",
       "      <td>Female</td>\n",
       "      <td>Location12</td>\n",
       "      <td>unknown</td>\n",
       "      <td>married</td>\n",
       "      <td>admin.</td>\n",
       "      <td>yes</td>\n",
       "      <td>1</td>\n",
       "      <td>1</td>\n",
       "      <td>NaN</td>\n",
       "    </tr>\n",
       "    <tr>\n",
       "      <td>2514</td>\n",
       "      <td>Female</td>\n",
       "      <td>Location11</td>\n",
       "      <td>unknown</td>\n",
       "      <td>single</td>\n",
       "      <td>admin.</td>\n",
       "      <td>no</td>\n",
       "      <td>1</td>\n",
       "      <td>1</td>\n",
       "      <td>NaN</td>\n",
       "    </tr>\n",
       "    <tr>\n",
       "      <td>7250</td>\n",
       "      <td>Female</td>\n",
       "      <td>Location11</td>\n",
       "      <td>tertiary</td>\n",
       "      <td>married</td>\n",
       "      <td>admin.</td>\n",
       "      <td>yes</td>\n",
       "      <td>1</td>\n",
       "      <td>1</td>\n",
       "      <td>NaN</td>\n",
       "    </tr>\n",
       "  </tbody>\n",
       "</table>\n",
       "</div>"
      ],
      "text/plain": [
       "      Gender    Location  Education MaritalStatus Occupation Ownhouse  \\\n",
       "3321  Female  Location12  secondary        single     admin.       no   \n",
       "6307    Male  Location12   tertiary        single    unknown       no   \n",
       "7040  Female  Location12    unknown       married     admin.      yes   \n",
       "2514  Female  Location11    unknown        single     admin.       no   \n",
       "7250  Female  Location11   tertiary       married     admin.      yes   \n",
       "\n",
       "     IsCreditCardCustomer ActiveMember  cat_cc  \n",
       "3321                    1            0     NaN  \n",
       "6307                    1            0     NaN  \n",
       "7040                    1            1     NaN  \n",
       "2514                    1            1     NaN  \n",
       "7250                    1            1     NaN  "
      ]
     },
     "execution_count": 41,
     "metadata": {},
     "output_type": "execute_result"
    }
   ],
   "source": [
    "vld_cat_data.head()"
   ]
  },
  {
   "cell_type": "markdown",
   "metadata": {},
   "source": [
    "#### Step 7.2 : Standardize"
   ]
  },
  {
   "cell_type": "code",
   "execution_count": 42,
   "metadata": {},
   "outputs": [],
   "source": [
    "standardizer = StandardScaler()\n",
    "standardizer.fit(train_num_data)\n",
    "vld_num_data = pd.DataFrame(standardizer.transform(vld_num_data),columns=num_col)"
   ]
  },
  {
   "cell_type": "code",
   "execution_count": 43,
   "metadata": {},
   "outputs": [
    {
     "data": {
      "text/html": [
       "<div>\n",
       "<style scoped>\n",
       "    .dataframe tbody tr th:only-of-type {\n",
       "        vertical-align: middle;\n",
       "    }\n",
       "\n",
       "    .dataframe tbody tr th {\n",
       "        vertical-align: top;\n",
       "    }\n",
       "\n",
       "    .dataframe thead th {\n",
       "        text-align: right;\n",
       "    }\n",
       "</style>\n",
       "<table border=\"1\" class=\"dataframe\">\n",
       "  <thead>\n",
       "    <tr style=\"text-align: right;\">\n",
       "      <th></th>\n",
       "      <th>AccountBalance</th>\n",
       "      <th>Age</th>\n",
       "      <th>CreditScore</th>\n",
       "      <th>NumberOfProducts</th>\n",
       "      <th>Salary</th>\n",
       "      <th>Tenure</th>\n",
       "      <th>ExpenditureRatio</th>\n",
       "      <th>TenureRatio</th>\n",
       "    </tr>\n",
       "  </thead>\n",
       "  <tbody>\n",
       "    <tr>\n",
       "      <td>0</td>\n",
       "      <td>8.155689e+04</td>\n",
       "      <td>49.0</td>\n",
       "      <td>635.0</td>\n",
       "      <td>2.0</td>\n",
       "      <td>191914.37</td>\n",
       "      <td>5.0</td>\n",
       "      <td>4.249650e-01</td>\n",
       "      <td>0.102041</td>\n",
       "    </tr>\n",
       "    <tr>\n",
       "      <td>1</td>\n",
       "      <td>1.040138e+05</td>\n",
       "      <td>26.0</td>\n",
       "      <td>501.0</td>\n",
       "      <td>1.0</td>\n",
       "      <td>114774.35</td>\n",
       "      <td>7.0</td>\n",
       "      <td>9.062460e-01</td>\n",
       "      <td>0.269231</td>\n",
       "    </tr>\n",
       "    <tr>\n",
       "      <td>2</td>\n",
       "      <td>1.263844e+05</td>\n",
       "      <td>49.0</td>\n",
       "      <td>684.0</td>\n",
       "      <td>1.0</td>\n",
       "      <td>198129.36</td>\n",
       "      <td>11.0</td>\n",
       "      <td>6.378884e-01</td>\n",
       "      <td>0.224490</td>\n",
       "    </tr>\n",
       "    <tr>\n",
       "      <td>3</td>\n",
       "      <td>1.188511e+05</td>\n",
       "      <td>37.0</td>\n",
       "      <td>725.0</td>\n",
       "      <td>1.0</td>\n",
       "      <td>102747.02</td>\n",
       "      <td>2.0</td>\n",
       "      <td>1.156735e+00</td>\n",
       "      <td>0.054054</td>\n",
       "    </tr>\n",
       "    <tr>\n",
       "      <td>4</td>\n",
       "      <td>-4.827057e-17</td>\n",
       "      <td>35.0</td>\n",
       "      <td>678.0</td>\n",
       "      <td>2.0</td>\n",
       "      <td>124592.84</td>\n",
       "      <td>7.0</td>\n",
       "      <td>1.379159e-18</td>\n",
       "      <td>0.200000</td>\n",
       "    </tr>\n",
       "  </tbody>\n",
       "</table>\n",
       "</div>"
      ],
      "text/plain": [
       "   AccountBalance   Age  CreditScore  NumberOfProducts     Salary  Tenure  \\\n",
       "0    8.155689e+04  49.0        635.0               2.0  191914.37     5.0   \n",
       "1    1.040138e+05  26.0        501.0               1.0  114774.35     7.0   \n",
       "2    1.263844e+05  49.0        684.0               1.0  198129.36    11.0   \n",
       "3    1.188511e+05  37.0        725.0               1.0  102747.02     2.0   \n",
       "4   -4.827057e-17  35.0        678.0               2.0  124592.84     7.0   \n",
       "\n",
       "   ExpenditureRatio  TenureRatio  \n",
       "0      4.249650e-01     0.102041  \n",
       "1      9.062460e-01     0.269231  \n",
       "2      6.378884e-01     0.224490  \n",
       "3      1.156735e+00     0.054054  \n",
       "4      1.379159e-18     0.200000  "
      ]
     },
     "execution_count": 43,
     "metadata": {},
     "output_type": "execute_result"
    }
   ],
   "source": [
    "vld_num_data.head()"
   ]
  },
  {
   "cell_type": "code",
   "execution_count": 44,
   "metadata": {},
   "outputs": [],
   "source": [
    "vld_num_data.reset_index(drop=True, inplace=True)\n",
    "vld_cat_data.reset_index(drop=True, inplace=True)"
   ]
  },
  {
   "cell_type": "markdown",
   "metadata": {},
   "source": [
    "#### Step 7.3 : Concat Num and Cat columns"
   ]
  },
  {
   "cell_type": "code",
   "execution_count": 45,
   "metadata": {},
   "outputs": [],
   "source": [
    "vldx = pd.concat([vld_num_data,vld_cat_data],axis=1)"
   ]
  },
  {
   "cell_type": "code",
   "execution_count": 46,
   "metadata": {},
   "outputs": [
    {
     "data": {
      "text/html": [
       "<div>\n",
       "<style scoped>\n",
       "    .dataframe tbody tr th:only-of-type {\n",
       "        vertical-align: middle;\n",
       "    }\n",
       "\n",
       "    .dataframe tbody tr th {\n",
       "        vertical-align: top;\n",
       "    }\n",
       "\n",
       "    .dataframe thead th {\n",
       "        text-align: right;\n",
       "    }\n",
       "</style>\n",
       "<table border=\"1\" class=\"dataframe\">\n",
       "  <thead>\n",
       "    <tr style=\"text-align: right;\">\n",
       "      <th></th>\n",
       "      <th>AccountBalance</th>\n",
       "      <th>Age</th>\n",
       "      <th>CreditScore</th>\n",
       "      <th>NumberOfProducts</th>\n",
       "      <th>Salary</th>\n",
       "      <th>Tenure</th>\n",
       "      <th>ExpenditureRatio</th>\n",
       "      <th>TenureRatio</th>\n",
       "      <th>Gender</th>\n",
       "      <th>Location</th>\n",
       "      <th>Education</th>\n",
       "      <th>MaritalStatus</th>\n",
       "      <th>Occupation</th>\n",
       "      <th>Ownhouse</th>\n",
       "      <th>IsCreditCardCustomer</th>\n",
       "      <th>ActiveMember</th>\n",
       "      <th>cat_cc</th>\n",
       "    </tr>\n",
       "  </thead>\n",
       "  <tbody>\n",
       "    <tr>\n",
       "      <td>0</td>\n",
       "      <td>8.155689e+04</td>\n",
       "      <td>49.0</td>\n",
       "      <td>635.0</td>\n",
       "      <td>2.0</td>\n",
       "      <td>191914.37</td>\n",
       "      <td>5.0</td>\n",
       "      <td>4.249650e-01</td>\n",
       "      <td>0.102041</td>\n",
       "      <td>Female</td>\n",
       "      <td>Location12</td>\n",
       "      <td>secondary</td>\n",
       "      <td>single</td>\n",
       "      <td>admin.</td>\n",
       "      <td>no</td>\n",
       "      <td>1</td>\n",
       "      <td>0</td>\n",
       "      <td>NaN</td>\n",
       "    </tr>\n",
       "    <tr>\n",
       "      <td>1</td>\n",
       "      <td>1.040138e+05</td>\n",
       "      <td>26.0</td>\n",
       "      <td>501.0</td>\n",
       "      <td>1.0</td>\n",
       "      <td>114774.35</td>\n",
       "      <td>7.0</td>\n",
       "      <td>9.062460e-01</td>\n",
       "      <td>0.269231</td>\n",
       "      <td>Male</td>\n",
       "      <td>Location12</td>\n",
       "      <td>tertiary</td>\n",
       "      <td>single</td>\n",
       "      <td>unknown</td>\n",
       "      <td>no</td>\n",
       "      <td>1</td>\n",
       "      <td>0</td>\n",
       "      <td>NaN</td>\n",
       "    </tr>\n",
       "    <tr>\n",
       "      <td>2</td>\n",
       "      <td>1.263844e+05</td>\n",
       "      <td>49.0</td>\n",
       "      <td>684.0</td>\n",
       "      <td>1.0</td>\n",
       "      <td>198129.36</td>\n",
       "      <td>11.0</td>\n",
       "      <td>6.378884e-01</td>\n",
       "      <td>0.224490</td>\n",
       "      <td>Female</td>\n",
       "      <td>Location12</td>\n",
       "      <td>unknown</td>\n",
       "      <td>married</td>\n",
       "      <td>admin.</td>\n",
       "      <td>yes</td>\n",
       "      <td>1</td>\n",
       "      <td>1</td>\n",
       "      <td>NaN</td>\n",
       "    </tr>\n",
       "    <tr>\n",
       "      <td>3</td>\n",
       "      <td>1.188511e+05</td>\n",
       "      <td>37.0</td>\n",
       "      <td>725.0</td>\n",
       "      <td>1.0</td>\n",
       "      <td>102747.02</td>\n",
       "      <td>2.0</td>\n",
       "      <td>1.156735e+00</td>\n",
       "      <td>0.054054</td>\n",
       "      <td>Female</td>\n",
       "      <td>Location11</td>\n",
       "      <td>unknown</td>\n",
       "      <td>single</td>\n",
       "      <td>admin.</td>\n",
       "      <td>no</td>\n",
       "      <td>1</td>\n",
       "      <td>1</td>\n",
       "      <td>NaN</td>\n",
       "    </tr>\n",
       "    <tr>\n",
       "      <td>4</td>\n",
       "      <td>-4.827057e-17</td>\n",
       "      <td>35.0</td>\n",
       "      <td>678.0</td>\n",
       "      <td>2.0</td>\n",
       "      <td>124592.84</td>\n",
       "      <td>7.0</td>\n",
       "      <td>1.379159e-18</td>\n",
       "      <td>0.200000</td>\n",
       "      <td>Female</td>\n",
       "      <td>Location11</td>\n",
       "      <td>tertiary</td>\n",
       "      <td>married</td>\n",
       "      <td>admin.</td>\n",
       "      <td>yes</td>\n",
       "      <td>1</td>\n",
       "      <td>1</td>\n",
       "      <td>NaN</td>\n",
       "    </tr>\n",
       "  </tbody>\n",
       "</table>\n",
       "</div>"
      ],
      "text/plain": [
       "   AccountBalance   Age  CreditScore  NumberOfProducts     Salary  Tenure  \\\n",
       "0    8.155689e+04  49.0        635.0               2.0  191914.37     5.0   \n",
       "1    1.040138e+05  26.0        501.0               1.0  114774.35     7.0   \n",
       "2    1.263844e+05  49.0        684.0               1.0  198129.36    11.0   \n",
       "3    1.188511e+05  37.0        725.0               1.0  102747.02     2.0   \n",
       "4   -4.827057e-17  35.0        678.0               2.0  124592.84     7.0   \n",
       "\n",
       "   ExpenditureRatio  TenureRatio  Gender    Location  Education MaritalStatus  \\\n",
       "0      4.249650e-01     0.102041  Female  Location12  secondary        single   \n",
       "1      9.062460e-01     0.269231    Male  Location12   tertiary        single   \n",
       "2      6.378884e-01     0.224490  Female  Location12    unknown       married   \n",
       "3      1.156735e+00     0.054054  Female  Location11    unknown        single   \n",
       "4      1.379159e-18     0.200000  Female  Location11   tertiary       married   \n",
       "\n",
       "  Occupation Ownhouse IsCreditCardCustomer ActiveMember  cat_cc  \n",
       "0     admin.       no                    1            0     NaN  \n",
       "1    unknown       no                    1            0     NaN  \n",
       "2     admin.      yes                    1            1     NaN  \n",
       "3     admin.       no                    1            1     NaN  \n",
       "4     admin.      yes                    1            1     NaN  "
      ]
     },
     "execution_count": 46,
     "metadata": {},
     "output_type": "execute_result"
    }
   ],
   "source": [
    "vldx.head()"
   ]
  },
  {
   "cell_type": "markdown",
   "metadata": {},
   "source": [
    "#### Step 7.4 :Dummify"
   ]
  },
  {
   "cell_type": "code",
   "execution_count": 47,
   "metadata": {},
   "outputs": [],
   "source": [
    "vldx=pd.get_dummies(vldx,columns=cat_col.extend(['cat_cc']))\n"
   ]
  },
  {
   "cell_type": "code",
   "execution_count": 48,
   "metadata": {},
   "outputs": [],
   "source": [
    "vldx.drop('cat_cc', axis = 1, inplace = True)"
   ]
  },
  {
   "cell_type": "code",
   "execution_count": 49,
   "metadata": {},
   "outputs": [
    {
     "data": {
      "text/html": [
       "<div>\n",
       "<style scoped>\n",
       "    .dataframe tbody tr th:only-of-type {\n",
       "        vertical-align: middle;\n",
       "    }\n",
       "\n",
       "    .dataframe tbody tr th {\n",
       "        vertical-align: top;\n",
       "    }\n",
       "\n",
       "    .dataframe thead th {\n",
       "        text-align: right;\n",
       "    }\n",
       "</style>\n",
       "<table border=\"1\" class=\"dataframe\">\n",
       "  <thead>\n",
       "    <tr style=\"text-align: right;\">\n",
       "      <th></th>\n",
       "      <th>AccountBalance</th>\n",
       "      <th>Age</th>\n",
       "      <th>CreditScore</th>\n",
       "      <th>NumberOfProducts</th>\n",
       "      <th>Salary</th>\n",
       "      <th>Tenure</th>\n",
       "      <th>ExpenditureRatio</th>\n",
       "      <th>TenureRatio</th>\n",
       "      <th>Gender_Female</th>\n",
       "      <th>Gender_Male</th>\n",
       "      <th>...</th>\n",
       "      <th>Occupation_services</th>\n",
       "      <th>Occupation_technician</th>\n",
       "      <th>Occupation_unknown</th>\n",
       "      <th>Ownhouse_no</th>\n",
       "      <th>Ownhouse_unknown</th>\n",
       "      <th>Ownhouse_yes</th>\n",
       "      <th>IsCreditCardCustomer_0</th>\n",
       "      <th>IsCreditCardCustomer_1</th>\n",
       "      <th>ActiveMember_0</th>\n",
       "      <th>ActiveMember_1</th>\n",
       "    </tr>\n",
       "  </thead>\n",
       "  <tbody>\n",
       "    <tr>\n",
       "      <td>0</td>\n",
       "      <td>8.155689e+04</td>\n",
       "      <td>49.0</td>\n",
       "      <td>635.0</td>\n",
       "      <td>2.0</td>\n",
       "      <td>191914.37</td>\n",
       "      <td>5.0</td>\n",
       "      <td>4.249650e-01</td>\n",
       "      <td>0.102041</td>\n",
       "      <td>1</td>\n",
       "      <td>0</td>\n",
       "      <td>...</td>\n",
       "      <td>0</td>\n",
       "      <td>0</td>\n",
       "      <td>0</td>\n",
       "      <td>1</td>\n",
       "      <td>0</td>\n",
       "      <td>0</td>\n",
       "      <td>0</td>\n",
       "      <td>1</td>\n",
       "      <td>1</td>\n",
       "      <td>0</td>\n",
       "    </tr>\n",
       "    <tr>\n",
       "      <td>1</td>\n",
       "      <td>1.040138e+05</td>\n",
       "      <td>26.0</td>\n",
       "      <td>501.0</td>\n",
       "      <td>1.0</td>\n",
       "      <td>114774.35</td>\n",
       "      <td>7.0</td>\n",
       "      <td>9.062460e-01</td>\n",
       "      <td>0.269231</td>\n",
       "      <td>0</td>\n",
       "      <td>1</td>\n",
       "      <td>...</td>\n",
       "      <td>0</td>\n",
       "      <td>0</td>\n",
       "      <td>1</td>\n",
       "      <td>1</td>\n",
       "      <td>0</td>\n",
       "      <td>0</td>\n",
       "      <td>0</td>\n",
       "      <td>1</td>\n",
       "      <td>1</td>\n",
       "      <td>0</td>\n",
       "    </tr>\n",
       "    <tr>\n",
       "      <td>2</td>\n",
       "      <td>1.263844e+05</td>\n",
       "      <td>49.0</td>\n",
       "      <td>684.0</td>\n",
       "      <td>1.0</td>\n",
       "      <td>198129.36</td>\n",
       "      <td>11.0</td>\n",
       "      <td>6.378884e-01</td>\n",
       "      <td>0.224490</td>\n",
       "      <td>1</td>\n",
       "      <td>0</td>\n",
       "      <td>...</td>\n",
       "      <td>0</td>\n",
       "      <td>0</td>\n",
       "      <td>0</td>\n",
       "      <td>0</td>\n",
       "      <td>0</td>\n",
       "      <td>1</td>\n",
       "      <td>0</td>\n",
       "      <td>1</td>\n",
       "      <td>0</td>\n",
       "      <td>1</td>\n",
       "    </tr>\n",
       "    <tr>\n",
       "      <td>3</td>\n",
       "      <td>1.188511e+05</td>\n",
       "      <td>37.0</td>\n",
       "      <td>725.0</td>\n",
       "      <td>1.0</td>\n",
       "      <td>102747.02</td>\n",
       "      <td>2.0</td>\n",
       "      <td>1.156735e+00</td>\n",
       "      <td>0.054054</td>\n",
       "      <td>1</td>\n",
       "      <td>0</td>\n",
       "      <td>...</td>\n",
       "      <td>0</td>\n",
       "      <td>0</td>\n",
       "      <td>0</td>\n",
       "      <td>1</td>\n",
       "      <td>0</td>\n",
       "      <td>0</td>\n",
       "      <td>0</td>\n",
       "      <td>1</td>\n",
       "      <td>0</td>\n",
       "      <td>1</td>\n",
       "    </tr>\n",
       "    <tr>\n",
       "      <td>4</td>\n",
       "      <td>-4.827057e-17</td>\n",
       "      <td>35.0</td>\n",
       "      <td>678.0</td>\n",
       "      <td>2.0</td>\n",
       "      <td>124592.84</td>\n",
       "      <td>7.0</td>\n",
       "      <td>1.379159e-18</td>\n",
       "      <td>0.200000</td>\n",
       "      <td>1</td>\n",
       "      <td>0</td>\n",
       "      <td>...</td>\n",
       "      <td>0</td>\n",
       "      <td>0</td>\n",
       "      <td>0</td>\n",
       "      <td>0</td>\n",
       "      <td>0</td>\n",
       "      <td>1</td>\n",
       "      <td>0</td>\n",
       "      <td>1</td>\n",
       "      <td>0</td>\n",
       "      <td>1</td>\n",
       "    </tr>\n",
       "  </tbody>\n",
       "</table>\n",
       "<p>5 rows × 34 columns</p>\n",
       "</div>"
      ],
      "text/plain": [
       "   AccountBalance   Age  CreditScore  NumberOfProducts     Salary  Tenure  \\\n",
       "0    8.155689e+04  49.0        635.0               2.0  191914.37     5.0   \n",
       "1    1.040138e+05  26.0        501.0               1.0  114774.35     7.0   \n",
       "2    1.263844e+05  49.0        684.0               1.0  198129.36    11.0   \n",
       "3    1.188511e+05  37.0        725.0               1.0  102747.02     2.0   \n",
       "4   -4.827057e-17  35.0        678.0               2.0  124592.84     7.0   \n",
       "\n",
       "   ExpenditureRatio  TenureRatio  Gender_Female  Gender_Male  ...  \\\n",
       "0      4.249650e-01     0.102041              1            0  ...   \n",
       "1      9.062460e-01     0.269231              0            1  ...   \n",
       "2      6.378884e-01     0.224490              1            0  ...   \n",
       "3      1.156735e+00     0.054054              1            0  ...   \n",
       "4      1.379159e-18     0.200000              1            0  ...   \n",
       "\n",
       "   Occupation_services  Occupation_technician  Occupation_unknown  \\\n",
       "0                    0                      0                   0   \n",
       "1                    0                      0                   1   \n",
       "2                    0                      0                   0   \n",
       "3                    0                      0                   0   \n",
       "4                    0                      0                   0   \n",
       "\n",
       "   Ownhouse_no  Ownhouse_unknown  Ownhouse_yes  IsCreditCardCustomer_0  \\\n",
       "0            1                 0             0                       0   \n",
       "1            1                 0             0                       0   \n",
       "2            0                 0             1                       0   \n",
       "3            1                 0             0                       0   \n",
       "4            0                 0             1                       0   \n",
       "\n",
       "   IsCreditCardCustomer_1  ActiveMember_0  ActiveMember_1  \n",
       "0                       1               1               0  \n",
       "1                       1               1               0  \n",
       "2                       1               0               1  \n",
       "3                       1               0               1  \n",
       "4                       1               0               1  \n",
       "\n",
       "[5 rows x 34 columns]"
      ]
     },
     "execution_count": 49,
     "metadata": {},
     "output_type": "execute_result"
    }
   ],
   "source": [
    "vldx.head()"
   ]
  },
  {
   "cell_type": "markdown",
   "metadata": {},
   "source": [
    "### Smoting"
   ]
  },
  {
   "cell_type": "code",
   "execution_count": 50,
   "metadata": {},
   "outputs": [
    {
     "name": "stderr",
     "output_type": "stream",
     "text": [
      "Using TensorFlow backend.\n"
     ]
    }
   ],
   "source": [
    "from imblearn.over_sampling import SMOTE"
   ]
  },
  {
   "cell_type": "code",
   "execution_count": 51,
   "metadata": {},
   "outputs": [
    {
     "data": {
      "text/plain": [
       "0    4106\n",
       "1    1046\n",
       "Name: Churn, dtype: int64"
      ]
     },
     "execution_count": 51,
     "metadata": {},
     "output_type": "execute_result"
    }
   ],
   "source": [
    "trainy.value_counts()"
   ]
  },
  {
   "cell_type": "code",
   "execution_count": 52,
   "metadata": {},
   "outputs": [],
   "source": [
    "smt = SMOTE()\n",
    "trainx, trainy = smt.fit_sample(trainx, trainy)"
   ]
  },
  {
   "cell_type": "code",
   "execution_count": 54,
   "metadata": {},
   "outputs": [
    {
     "ename": "AttributeError",
     "evalue": "'numpy.ndarray' object has no attribute 'value_counts'",
     "output_type": "error",
     "traceback": [
      "\u001b[1;31m---------------------------------------------------------------------------\u001b[0m",
      "\u001b[1;31mAttributeError\u001b[0m                            Traceback (most recent call last)",
      "\u001b[1;32m<ipython-input-54-e4000efe027e>\u001b[0m in \u001b[0;36m<module>\u001b[1;34m()\u001b[0m\n\u001b[1;32m----> 1\u001b[1;33m \u001b[0mtrainy\u001b[0m\u001b[1;33m.\u001b[0m\u001b[0mvalue_counts\u001b[0m\u001b[1;33m(\u001b[0m\u001b[1;33m)\u001b[0m\u001b[1;33m\u001b[0m\u001b[0m\n\u001b[0m",
      "\u001b[1;31mAttributeError\u001b[0m: 'numpy.ndarray' object has no attribute 'value_counts'"
     ]
    }
   ],
   "source": [
    "trainy.value_counts()"
   ]
  },
  {
   "cell_type": "markdown",
   "metadata": {},
   "source": [
    "### Up Samplinig"
   ]
  },
  {
   "cell_type": "code",
   "execution_count": 78,
   "metadata": {},
   "outputs": [],
   "source": [
    "from sklearn.utils import resample"
   ]
  },
  {
   "cell_type": "code",
   "execution_count": 99,
   "metadata": {},
   "outputs": [],
   "source": [
    "y = bank_churn_train.Churn\n",
    "X = bank_churn_train.iloc[:, :-1]\n",
    "\n",
    "# setting up testing and training sets\n",
    "X_train, X_test, y_train, y_test = train_test_split(X, y, test_size=0.25, random_state=27)\n",
    "\n",
    "# concatenate our training data back together\n",
    "X = pd.concat([X_train, y_train], axis=1)\n",
    "\n",
    "# separate minority and majority classes\n",
    "Retained = X[X.Churn==0]\n",
    "Churned = X[X.Churn==1]\n",
    "\n",
    "# upsample minority\n",
    "Churned_upsampled = resample(Churned,\n",
    "                          replace=True, # sample with replacement\n",
    "                          n_samples=len(Retained), # match number in majority class\n",
    "                          random_state=27) # reproducible results\n"
   ]
  },
  {
   "cell_type": "code",
   "execution_count": 104,
   "metadata": {},
   "outputs": [
    {
     "data": {
      "text/plain": [
       "(7360, 16)"
      ]
     },
     "execution_count": 104,
     "metadata": {},
     "output_type": "execute_result"
    }
   ],
   "source": [
    "bank_churn_train.shape"
   ]
  },
  {
   "cell_type": "code",
   "execution_count": 102,
   "metadata": {},
   "outputs": [
    {
     "data": {
      "text/plain": [
       "(8816, 16)"
      ]
     },
     "execution_count": 102,
     "metadata": {},
     "output_type": "execute_result"
    }
   ],
   "source": [
    "# combine majority and upsampled minority\n",
    "upsampled = pd.concat([Retained, Churned_upsampled])\n",
    "\n",
    "# check new class counts\n",
    "upsampled.shape"
   ]
  },
  {
   "cell_type": "code",
   "execution_count": 86,
   "metadata": {},
   "outputs": [],
   "source": [
    "y_train = upsampled.Churn\n",
    "X_train = bank_churn_train.iloc[:, :-1]"
   ]
  },
  {
   "cell_type": "code",
   "execution_count": 126,
   "metadata": {},
   "outputs": [
    {
     "data": {
      "text/plain": [
       "(2208,)"
      ]
     },
     "execution_count": 126,
     "metadata": {},
     "output_type": "execute_result"
    }
   ],
   "source": [
    "vldy.shape"
   ]
  },
  {
   "cell_type": "code",
   "execution_count": 128,
   "metadata": {},
   "outputs": [
    {
     "data": {
      "text/plain": [
       "(5152,)"
      ]
     },
     "execution_count": 128,
     "metadata": {},
     "output_type": "execute_result"
    }
   ],
   "source": [
    "trainy.shape"
   ]
  },
  {
   "cell_type": "code",
   "execution_count": null,
   "metadata": {},
   "outputs": [],
   "source": []
  },
  {
   "cell_type": "markdown",
   "metadata": {},
   "source": [
    "## Class Imbalance Analysis"
   ]
  },
  {
   "cell_type": "code",
   "execution_count": 134,
   "metadata": {},
   "outputs": [],
   "source": [
    "# Class count\n",
    "count_class_0, count_class_1 = trainy.value_counts()\n",
    "\n",
    "# Divide by class\n",
    "df_class_0 = trainy == 0\n",
    "df_class_1 = trainy == 1\n"
   ]
  },
  {
   "cell_type": "code",
   "execution_count": 136,
   "metadata": {},
   "outputs": [
    {
     "name": "stdout",
     "output_type": "stream",
     "text": [
      "Random under-sampling:\n",
      "False    4319\n",
      "True     1879\n",
      "Name: Churn, dtype: int64\n"
     ]
    },
    {
     "data": {
      "image/png": "[encoded data removed]",
      "text/plain": [
       "<Figure size 432x288 with 1 Axes>"
      ]
     },
     "metadata": {},
     "output_type": "display_data"
    }
   ],
   "source": [
    "df_class_0_under = df_class_0.sample(count_class_1)\n",
    "df_test_under = pd.concat([df_class_0_under, df_class_1], axis=0)\n",
    "\n",
    "print('Random under-sampling:')\n",
    "print(df_test_under.value_counts())\n",
    "\n",
    "df_test_under.value_counts().plot(kind='bar', title='Count (target)');"
   ]
  },
  {
   "cell_type": "code",
   "execution_count": 137,
   "metadata": {},
   "outputs": [
    {
     "name": "stdout",
     "output_type": "stream",
     "text": [
      "Random over-sampling:\n",
      "True     4899\n",
      "False    4359\n",
      "Name: Churn, dtype: int64\n"
     ]
    },
    {
     "data": {
      "image/png": "[encoded data removed]",
      "text/plain": [
       "<Figure size 432x288 with 1 Axes>"
      ]
     },
     "metadata": {},
     "output_type": "display_data"
    }
   ],
   "source": [
    "df_class_1_over = df_class_1.sample(count_class_0, replace=True)\n",
    "df_test_over = pd.concat([df_class_0, df_class_1_over], axis=0)\n",
    "\n",
    "print('Random over-sampling:')\n",
    "print(df_test_over.value_counts())\n",
    "\n",
    "df_test_over.value_counts().plot(kind='bar', title='Count (target)');"
   ]
  },
  {
   "cell_type": "code",
   "execution_count": null,
   "metadata": {},
   "outputs": [],
   "source": [
    "Retained_under = Retained.sample(count_class_1)\n",
    "df_test_under = pd.concat([df_class_0_under, df_class_1], axis=0)\n",
    "\n",
    "print('Random under-sampling:')\n",
    "print(df_test_under.target.value_counts())\n",
    "\n",
    "df_test_under.target.value_counts().plot(kind='bar', title='Count (target)');"
   ]
  },
  {
   "cell_type": "code",
   "execution_count": null,
   "metadata": {},
   "outputs": [],
   "source": [
    "df_test_over"
   ]
  },
  {
   "cell_type": "code",
   "execution_count": 138,
   "metadata": {},
   "outputs": [],
   "source": [
    "y_train = trainy\n",
    "X_train = df_test_over"
   ]
  },
  {
   "cell_type": "code",
   "execution_count": null,
   "metadata": {},
   "outputs": [],
   "source": []
  },
  {
   "cell_type": "markdown",
   "metadata": {},
   "source": [
    "### Step 8: Model Building "
   ]
  },
  {
   "cell_type": "markdown",
   "metadata": {},
   "source": [
    "#### 1. Logistic regression"
   ]
  },
  {
   "cell_type": "code",
   "execution_count": null,
   "metadata": {},
   "outputs": [],
   "source": []
  },
  {
   "cell_type": "code",
   "execution_count": 53,
   "metadata": {},
   "outputs": [
    {
     "data": {
      "text/plain": [
       "LogisticRegression(C=1.0, class_weight=None, dual=False, fit_intercept=True,\n",
       "                   intercept_scaling=1, l1_ratio=None, max_iter=100,\n",
       "                   multi_class='warn', n_jobs=None, penalty='l2',\n",
       "                   random_state=None, solver='warn', tol=0.0001, verbose=0,\n",
       "                   warm_start=False)"
      ]
     },
     "execution_count": 53,
     "metadata": {},
     "output_type": "execute_result"
    }
   ],
   "source": [
    "from sklearn.linear_model import LogisticRegression\n",
    "#create an instance and fit the model \n",
    "logmodel = LogisticRegression()\n",
    "logmodel.fit(trainx,trainy)"
   ]
  },
  {
   "cell_type": "code",
   "execution_count": 54,
   "metadata": {},
   "outputs": [],
   "source": [
    "lr_train_predictions = logmodel.predict(trainx)\n",
    "lr_test_predictions = logmodel.predict(vldx)"
   ]
  },
  {
   "cell_type": "code",
   "execution_count": 56,
   "metadata": {},
   "outputs": [
    {
     "name": "stdout",
     "output_type": "stream",
     "text": [
      "              precision    recall  f1-score   support\n",
      "\n",
      "           0       0.00      0.00      0.00      1762\n",
      "           1       0.20      1.00      0.34       446\n",
      "\n",
      "    accuracy                           0.20      2208\n",
      "   macro avg       0.10      0.50      0.17      2208\n",
      "weighted avg       0.04      0.20      0.07      2208\n",
      "\n"
     ]
    }
   ],
   "source": [
    "from sklearn.metrics import classification_report\n",
    "print(classification_report(vldy,lr_test_predictions))"
   ]
  },
  {
   "cell_type": "code",
   "execution_count": 57,
   "metadata": {},
   "outputs": [
    {
     "name": "stdout",
     "output_type": "stream",
     "text": [
      "0.7420847540185095\n",
      "0.20199275362318841\n"
     ]
    }
   ],
   "source": [
    "### Train data accuracy\n",
    "from sklearn.metrics import accuracy_score\n",
    "print(accuracy_score(trainy,lr_train_predictions))\n",
    "      \n",
    "### Test data accuracy\n",
    "print(accuracy_score(vldy,lr_test_predictions))"
   ]
  },
  {
   "cell_type": "code",
   "execution_count": 145,
   "metadata": {},
   "outputs": [
    {
     "name": "stdout",
     "output_type": "stream",
     "text": [
      "Accuracy Score : 0.20199275362318841\n",
      "Precision Score : 0.20199275362318841\n",
      "Recall Score : 1.0\n",
      "F1 Score : 0.3360964581763376\n",
      "Confusion Matrix : \n",
      "[[   0 1762]\n",
      " [   0  446]]\n"
     ]
    }
   ],
   "source": [
    "# Model Evaluation metrics \n",
    "from sklearn.metrics import accuracy_score,recall_score,precision_score,f1_score\n",
    "print('Accuracy Score : ' + str(accuracy_score(vldy,lr_test_predictions)))\n",
    "print('Precision Score : ' + str(precision_score(vldy,lr_test_predictions)))\n",
    "print('Recall Score : ' + str(recall_score(vldy,lr_test_predictions)))\n",
    "print('F1 Score : ' + str(f1_score(vldy,lr_test_predictions)))\n",
    "\n",
    "#Dummy Classifier Confusion matrix\n",
    "from sklearn.metrics import confusion_matrix\n",
    "print('Confusion Matrix : \\n' + str(confusion_matrix(vldy,lr_test_predictions)))"
   ]
  },
  {
   "cell_type": "markdown",
   "metadata": {},
   "source": [
    "#### Logistic Reg. using gridsearch"
   ]
  },
  {
   "cell_type": "code",
   "execution_count": 86,
   "metadata": {},
   "outputs": [
    {
     "name": "stdout",
     "output_type": "stream",
     "text": [
      "Best Logistic Reg. Param :  GridSearchCV(cv='warn', error_score='raise-deprecating',\n",
      "             estimator=LogisticRegression(C=1.0, class_weight=None, dual=False,\n",
      "                                          fit_intercept=True,\n",
      "                                          intercept_scaling=1, l1_ratio=None,\n",
      "                                          max_iter=100, multi_class='warn',\n",
      "                                          n_jobs=None, penalty='l2',\n",
      "                                          random_state=None, solver='warn',\n",
      "                                          tol=0.0001, verbose=0,\n",
      "                                          warm_start=False),\n",
      "             iid='warn', n_jobs=None,\n",
      "             param_grid={'C': [0.1, 10, 50], 'fit_intercept': [True],\n",
      "                         'intercept_scaling': [1], 'max_iter': [300, 500],\n",
      "                         'penalty': ['l2'], 'tol': [0.0001, 1e-06]},\n",
      "             pre_dispatch='2*n_jobs', refit=True, return_train_score=False,\n",
      "             scoring='recall', verbose=0)\n"
     ]
    }
   ],
   "source": [
    "from sklearn.model_selection import GridSearchCV\n",
    "logRegGS = LogisticRegression()\n",
    "grid_values = {'C': [0.1,10,50], 'max_iter': [300,500], 'fit_intercept':[True],'intercept_scaling':[1],'penalty':['l2'],\n",
    "              'tol':[0.0001,0.000001]}\n",
    "grid_clf_acc = GridSearchCV(logRegGS, param_grid = grid_values,scoring = 'recall')\n",
    "print(\"Best Logistic Reg. Param : \",grid_clf_acc)"
   ]
  },
  {
   "cell_type": "code",
   "execution_count": 87,
   "metadata": {},
   "outputs": [
    {
     "data": {
      "text/plain": [
       "GridSearchCV(cv='warn', error_score='raise-deprecating',\n",
       "             estimator=LogisticRegression(C=1.0, class_weight=None, dual=False,\n",
       "                                          fit_intercept=True,\n",
       "                                          intercept_scaling=1, l1_ratio=None,\n",
       "                                          max_iter=100, multi_class='warn',\n",
       "                                          n_jobs=None, penalty='l2',\n",
       "                                          random_state=None, solver='warn',\n",
       "                                          tol=0.0001, verbose=0,\n",
       "                                          warm_start=False),\n",
       "             iid='warn', n_jobs=None,\n",
       "             param_grid={'C': [0.1, 10, 50], 'fit_intercept': [True],\n",
       "                         'intercept_scaling': [1], 'max_iter': [300, 500],\n",
       "                         'penalty': ['l2'], 'tol': [0.0001, 1e-06]},\n",
       "             pre_dispatch='2*n_jobs', refit=True, return_train_score=False,\n",
       "             scoring='recall', verbose=0)"
      ]
     },
     "execution_count": 87,
     "metadata": {},
     "output_type": "execute_result"
    }
   ],
   "source": [
    "grid_clf_acc.fit(trainx, trainy)"
   ]
  },
  {
   "cell_type": "code",
   "execution_count": 88,
   "metadata": {},
   "outputs": [],
   "source": [
    "pred_gs = grid_clf_acc.best_estimator_.predict(vldx)"
   ]
  },
  {
   "cell_type": "code",
   "execution_count": 89,
   "metadata": {},
   "outputs": [
    {
     "name": "stdout",
     "output_type": "stream",
     "text": [
      "              precision    recall  f1-score   support\n",
      "\n",
      "           0       0.00      0.00      0.00      1762\n",
      "           1       0.20      1.00      0.34       446\n",
      "\n",
      "    accuracy                           0.20      2208\n",
      "   macro avg       0.10      0.50      0.17      2208\n",
      "weighted avg       0.04      0.20      0.07      2208\n",
      "\n"
     ]
    }
   ],
   "source": [
    "from sklearn.metrics import classification_report\n",
    "print(classification_report(vldy,pred_gs))"
   ]
  },
  {
   "cell_type": "markdown",
   "metadata": {},
   "source": [
    "### SVC"
   ]
  },
  {
   "cell_type": "code",
   "execution_count": 58,
   "metadata": {},
   "outputs": [],
   "source": [
    "from sklearn.svm import SVC"
   ]
  },
  {
   "cell_type": "code",
   "execution_count": 105,
   "metadata": {},
   "outputs": [
    {
     "ename": "SyntaxError",
     "evalue": "invalid syntax (<ipython-input-105-742fa033082e>, line 1)",
     "output_type": "error",
     "traceback": [
      "\u001b[1;36m  File \u001b[1;32m\"<ipython-input-105-742fa033082e>\"\u001b[1;36m, line \u001b[1;32m1\u001b[0m\n\u001b[1;33m    svc = SVC('C': [0.5,100,150], 'gamma': [0.1,0.01,0.001],'probability':[True],'kernel': ['rbf'])\u001b[0m\n\u001b[1;37m                 ^\u001b[0m\n\u001b[1;31mSyntaxError\u001b[0m\u001b[1;31m:\u001b[0m invalid syntax\n"
     ]
    }
   ],
   "source": [
    "svc = SVC('C': [0.5,100,150], 'gamma': [0.1,0.01,0.001],'probability':[True],'kernel': ['rbf'])\n",
    "print(svc)"
   ]
  },
  {
   "cell_type": "code",
   "execution_count": 60,
   "metadata": {},
   "outputs": [
    {
     "ename": "KeyboardInterrupt",
     "evalue": "",
     "output_type": "error",
     "traceback": [
      "\u001b[1;31m---------------------------------------------------------------------------\u001b[0m",
      "\u001b[1;31mKeyboardInterrupt\u001b[0m                         Traceback (most recent call last)",
      "\u001b[1;32m<ipython-input-60-f1aa37a19d30>\u001b[0m in \u001b[0;36m<module>\u001b[1;34m()\u001b[0m\n\u001b[0;32m      1\u001b[0m SVM_POL = SVC(C=100, cache_size=200, class_weight=None, coef0=0.0,  decision_function_shape='ovr', degree=2, gamma=0.1, kernel='poly',  max_iter=-1,\n\u001b[0;32m      2\u001b[0m               probability=True, random_state=None, shrinking=True, tol=0.001, verbose=False)\n\u001b[1;32m----> 3\u001b[1;33m \u001b[0mSVM_POL\u001b[0m\u001b[1;33m.\u001b[0m\u001b[0mfit\u001b[0m\u001b[1;33m(\u001b[0m\u001b[0mtrainx\u001b[0m\u001b[1;33m,\u001b[0m\u001b[0mtrainy\u001b[0m\u001b[1;33m)\u001b[0m\u001b[1;33m\u001b[0m\u001b[0m\n\u001b[0m",
      "\u001b[1;32m~\\Anac3\\lib\\site-packages\\sklearn\\svm\\base.py\u001b[0m in \u001b[0;36mfit\u001b[1;34m(self, X, y, sample_weight)\u001b[0m\n\u001b[0;32m    207\u001b[0m \u001b[1;33m\u001b[0m\u001b[0m\n\u001b[0;32m    208\u001b[0m         \u001b[0mseed\u001b[0m \u001b[1;33m=\u001b[0m \u001b[0mrnd\u001b[0m\u001b[1;33m.\u001b[0m\u001b[0mrandint\u001b[0m\u001b[1;33m(\u001b[0m\u001b[0mnp\u001b[0m\u001b[1;33m.\u001b[0m\u001b[0miinfo\u001b[0m\u001b[1;33m(\u001b[0m\u001b[1;34m'i'\u001b[0m\u001b[1;33m)\u001b[0m\u001b[1;33m.\u001b[0m\u001b[0mmax\u001b[0m\u001b[1;33m)\u001b[0m\u001b[1;33m\u001b[0m\u001b[0m\n\u001b[1;32m--> 209\u001b[1;33m         \u001b[0mfit\u001b[0m\u001b[1;33m(\u001b[0m\u001b[0mX\u001b[0m\u001b[1;33m,\u001b[0m \u001b[0my\u001b[0m\u001b[1;33m,\u001b[0m \u001b[0msample_weight\u001b[0m\u001b[1;33m,\u001b[0m \u001b[0msolver_type\u001b[0m\u001b[1;33m,\u001b[0m \u001b[0mkernel\u001b[0m\u001b[1;33m,\u001b[0m \u001b[0mrandom_seed\u001b[0m\u001b[1;33m=\u001b[0m\u001b[0mseed\u001b[0m\u001b[1;33m)\u001b[0m\u001b[1;33m\u001b[0m\u001b[0m\n\u001b[0m\u001b[0;32m    210\u001b[0m         \u001b[1;31m# see comment on the other call to np.iinfo in this file\u001b[0m\u001b[1;33m\u001b[0m\u001b[1;33m\u001b[0m\u001b[0m\n\u001b[0;32m    211\u001b[0m \u001b[1;33m\u001b[0m\u001b[0m\n",
      "\u001b[1;32m~\\Anac3\\lib\\site-packages\\sklearn\\svm\\base.py\u001b[0m in \u001b[0;36m_dense_fit\u001b[1;34m(self, X, y, sample_weight, solver_type, kernel, random_seed)\u001b[0m\n\u001b[0;32m    266\u001b[0m                 \u001b[0mcache_size\u001b[0m\u001b[1;33m=\u001b[0m\u001b[0mself\u001b[0m\u001b[1;33m.\u001b[0m\u001b[0mcache_size\u001b[0m\u001b[1;33m,\u001b[0m \u001b[0mcoef0\u001b[0m\u001b[1;33m=\u001b[0m\u001b[0mself\u001b[0m\u001b[1;33m.\u001b[0m\u001b[0mcoef0\u001b[0m\u001b[1;33m,\u001b[0m\u001b[1;33m\u001b[0m\u001b[0m\n\u001b[0;32m    267\u001b[0m                 \u001b[0mgamma\u001b[0m\u001b[1;33m=\u001b[0m\u001b[0mself\u001b[0m\u001b[1;33m.\u001b[0m\u001b[0m_gamma\u001b[0m\u001b[1;33m,\u001b[0m \u001b[0mepsilon\u001b[0m\u001b[1;33m=\u001b[0m\u001b[0mself\u001b[0m\u001b[1;33m.\u001b[0m\u001b[0mepsilon\u001b[0m\u001b[1;33m,\u001b[0m\u001b[1;33m\u001b[0m\u001b[0m\n\u001b[1;32m--> 268\u001b[1;33m                 max_iter=self.max_iter, random_seed=random_seed)\n\u001b[0m\u001b[0;32m    269\u001b[0m \u001b[1;33m\u001b[0m\u001b[0m\n\u001b[0;32m    270\u001b[0m         \u001b[0mself\u001b[0m\u001b[1;33m.\u001b[0m\u001b[0m_warn_from_fit_status\u001b[0m\u001b[1;33m(\u001b[0m\u001b[1;33m)\u001b[0m\u001b[1;33m\u001b[0m\u001b[0m\n",
      "\u001b[1;31mKeyboardInterrupt\u001b[0m: "
     ]
    }
   ],
   "source": [
    "SVM_POL = SVC(C=100, cache_size=200, class_weight=None, coef0=0.0,  decision_function_shape='ovr', degree=2, gamma=0.1, kernel='poly',  max_iter=-1,\n",
    "              probability=True, random_state=None, shrinking=True, tol=0.001, verbose=False)\n",
    "SVM_POL.fit(trainx,trainy)"
   ]
  },
  {
   "cell_type": "code",
   "execution_count": 92,
   "metadata": {},
   "outputs": [],
   "source": [
    "#param_grid = {'C': [0.5,100,150], 'gamma': [0.1,0.01,0.001],'probability':[True],'kernel': ['rbf']}\n",
    "#SVM_grid = GridSearchCV(svc, param_grid, cv=3, refit=True, verbose=0)"
   ]
  },
  {
   "cell_type": "code",
   "execution_count": 97,
   "metadata": {},
   "outputs": [],
   "source": [
    "#SVM_grid.fit(trainx,trainy)\n",
    "## Predict\n",
    "svc_train_predictions = SVM_POL.predict(trainx)\n",
    "svc_test_predictions = SVM_POL.predict(vldx)"
   ]
  },
  {
   "cell_type": "code",
   "execution_count": 98,
   "metadata": {},
   "outputs": [
    {
     "name": "stdout",
     "output_type": "stream",
     "text": [
      "0.894179249878227\n",
      "0.20380434782608695\n"
     ]
    }
   ],
   "source": [
    "### Train data accuracy\n",
    "from sklearn.metrics import accuracy_score\n",
    "print(accuracy_score(trainy,svc_train_predictions))\n",
    "      \n",
    "### Test data accuracy\n",
    "print(accuracy_score(vldy,svc_test_predictions))"
   ]
  },
  {
   "cell_type": "code",
   "execution_count": 133,
   "metadata": {},
   "outputs": [
    {
     "name": "stdout",
     "output_type": "stream",
     "text": [
      "Accuracy Score : 0.20516304347826086\n",
      "Precision Score : 0.20209376422394174\n",
      "Recall Score : 0.9955156950672646\n",
      "F1 Score : 0.33598183881952326\n",
      "Confusion Matrix : \n",
      "[[   9 1753]\n",
      " [   2  444]]\n"
     ]
    }
   ],
   "source": [
    "# Model Evaluation metrics \n",
    "from sklearn.metrics import accuracy_score,recall_score,precision_score,f1_score\n",
    "print('Accuracy Score : ' + str(accuracy_score(vldy,svc_test_predictions)))\n",
    "print('Precision Score : ' + str(precision_score(vldy,svc_test_predictions)))\n",
    "print('Recall Score : ' + str(recall_score(vldy,svc_test_predictions)))\n",
    "print('F1 Score : ' + str(f1_score(vldy,svc_test_predictions)))\n",
    "\n",
    "#Dummy Classifier Confusion matrix\n",
    "from sklearn.metrics import confusion_matrix\n",
    "print('Confusion Matrix : \\n' + str(confusion_matrix(vldy,svc_test_predictions)))"
   ]
  },
  {
   "cell_type": "code",
   "execution_count": null,
   "metadata": {},
   "outputs": [],
   "source": []
  },
  {
   "cell_type": "code",
   "execution_count": null,
   "metadata": {},
   "outputs": [],
   "source": [
    "#### Navie Baise"
   ]
  },
  {
   "cell_type": "markdown",
   "metadata": {},
   "source": [
    "### Decison Tree"
   ]
  },
  {
   "cell_type": "code",
   "execution_count": 77,
   "metadata": {},
   "outputs": [],
   "source": [
    "param_grid = {\"max_depth\" : [16,18,20],'max_features':['log2','sqrt']}\n",
    "\n",
    "dtc_cv_grid = GridSearchCV(estimator = dtc, param_grid = param_grid,\n",
    "                                        scoring =\"neg_mean_squared_error\")\n",
    "dtc_cv_grid.fit(trainx, trainy)\n",
    "dtc_cv_grid.best_estimator_.fit(trainx, trainy)\n",
    "pred_train = dtc_cv_grid.best_estimator_.predict(trainx)\n",
    "pred_val = dtc_cv_grid.best_estimator_.predict(vldx)"
   ]
  },
  {
   "cell_type": "code",
   "execution_count": 74,
   "metadata": {},
   "outputs": [],
   "source": [
    "from sklearn.tree import DecisionTreeClassifier, export_graphviz,DecisionTreeRegressor\n",
    "from sklearn.model_selection import train_test_split\n",
    "from sklearn.metrics import accuracy_score,mean_absolute_error\n",
    "from sklearn import tree"
   ]
  },
  {
   "cell_type": "code",
   "execution_count": 67,
   "metadata": {},
   "outputs": [
    {
     "data": {
      "text/plain": [
       "DecisionTreeClassifier(class_weight=None, criterion='gini', max_depth=None,\n",
       "                       max_features=None, max_leaf_nodes=None,\n",
       "                       min_impurity_decrease=0.0, min_impurity_split=None,\n",
       "                       min_samples_leaf=1, min_samples_split=2,\n",
       "                       min_weight_fraction_leaf=0.0, presort=False,\n",
       "                       random_state=None, splitter='best')"
      ]
     },
     "execution_count": 67,
     "metadata": {},
     "output_type": "execute_result"
    }
   ],
   "source": [
    "#dtc = DecisionTreeClassifier()\n",
    "#dtc.fit(trainx,trainy)"
   ]
  },
  {
   "cell_type": "code",
   "execution_count": 72,
   "metadata": {},
   "outputs": [],
   "source": [
    "#pred_train = dtc.predict(trainx)\n",
    "#pred_vld = dtc.predict(vldx)"
   ]
  },
  {
   "cell_type": "code",
   "execution_count": 78,
   "metadata": {},
   "outputs": [
    {
     "name": "stdout",
     "output_type": "stream",
     "text": [
      "Accuracy on train is: 0.9772284461763273\n",
      "Accuracy on test is: 0.5778985507246377\n"
     ]
    }
   ],
   "source": [
    "print(\"Accuracy on train is:\",accuracy_score(trainy,pred_train))\n",
    "print(\"Accuracy on test is:\",accuracy_score(vldy,pred_val))"
   ]
  },
  {
   "cell_type": "code",
   "execution_count": 79,
   "metadata": {},
   "outputs": [
    {
     "name": "stdout",
     "output_type": "stream",
     "text": [
      "Accuracy Score : 0.5778985507246377\n",
      "Precision Score : 0.18685567010309279\n",
      "Recall Score : 0.3251121076233184\n",
      "F1 Score : 0.23731587561374798\n",
      "Confusion Matrix : \n",
      "[[1131  631]\n",
      " [ 301  145]]\n"
     ]
    }
   ],
   "source": [
    "# Model Evaluation metrics \n",
    "from sklearn.metrics import accuracy_score,recall_score,precision_score,f1_score\n",
    "print('Accuracy Score : ' + str(accuracy_score(vldy,pred_val)))\n",
    "print('Precision Score : ' + str(precision_score(vldy,pred_val)))\n",
    "print('Recall Score : ' + str(recall_score(vldy,pred_val)))\n",
    "print('F1 Score : ' + str(f1_score(vldy,pred_val)))\n",
    "\n",
    "#Dummy Classifier Confusion matrix\n",
    "from sklearn.metrics import confusion_matrix\n",
    "print('Confusion Matrix : \\n' + str(confusion_matrix(vldy,pred_val)))"
   ]
  },
  {
   "cell_type": "code",
   "execution_count": 185,
   "metadata": {},
   "outputs": [],
   "source": [
    "dt_pred_val = dtc_cv_grid.best_estimator_.predict(bank_churn_test)"
   ]
  },
  {
   "cell_type": "markdown",
   "metadata": {},
   "source": [
    "#### Plot Decision tree"
   ]
  },
  {
   "cell_type": "code",
   "execution_count": 104,
   "metadata": {},
   "outputs": [
    {
     "data": {
      "image/svg+xml": [
       "<?xml version=\"1.0\" encoding=\"UTF-8\" standalone=\"no\"?>\r\n",
       "<!DOCTYPE svg PUBLIC \"-//W3C//DTD SVG 1.1//EN\"\r\n",
       " \"http://www.w3.org/Graphics/SVG/1.1/DTD/svg11.dtd\">\r\n",
       "<!-- Generated by graphviz version 2.38.0 (20140413.2041)\r\n",
       " -->\r\n",
       "<!-- Title: Tree Pages: 1 -->\r\n",
       "<svg width=\"1079pt\" height=\"433pt\"\r\n",
       " viewBox=\"0.00 0.00 1078.50 433.00\" xmlns=\"http://www.w3.org/2000/svg\" xmlns:xlink=\"http://www.w3.org/1999/xlink\">\r\n",
       "<g id=\"graph0\" class=\"graph\" transform=\"scale(1 1) rotate(0) translate(4 429)\">\r\n",
       "<title>Tree</title>\r\n",
       "<polygon fill=\"white\" stroke=\"none\" points=\"-4,4 -4,-429 1074.5,-429 1074.5,4 -4,4\"/>\r\n",
       "<!-- 0 -->\r\n",
       "<g id=\"node1\" class=\"node\"><title>0</title>\r\n",
       "<polygon fill=\"none\" stroke=\"black\" points=\"620,-425 489,-425 489,-342 620,-342 620,-425\"/>\r\n",
       "<text text-anchor=\"middle\" x=\"554.5\" y=\"-409.8\" font-family=\"Times New Roman,serif\" font-size=\"14.00\">Age &lt;= 0.204</text>\r\n",
       "<text text-anchor=\"middle\" x=\"554.5\" y=\"-394.8\" font-family=\"Times New Roman,serif\" font-size=\"14.00\">gini = 0.5</text>\r\n",
       "<text text-anchor=\"middle\" x=\"554.5\" y=\"-379.8\" font-family=\"Times New Roman,serif\" font-size=\"14.00\">samples = 8212</text>\r\n",
       "<text text-anchor=\"middle\" x=\"554.5\" y=\"-364.8\" font-family=\"Times New Roman,serif\" font-size=\"14.00\">value = [4106, 4106]</text>\r\n",
       "<text text-anchor=\"middle\" x=\"554.5\" y=\"-349.8\" font-family=\"Times New Roman,serif\" font-size=\"14.00\">class = Retained</text>\r\n",
       "</g>\r\n",
       "<!-- 1 -->\r\n",
       "<g id=\"node2\" class=\"node\"><title>1</title>\r\n",
       "<polygon fill=\"none\" stroke=\"black\" points=\"522.5,-306 340.5,-306 340.5,-223 522.5,-223 522.5,-306\"/>\r\n",
       "<text text-anchor=\"middle\" x=\"431.5\" y=\"-290.8\" font-family=\"Times New Roman,serif\" font-size=\"14.00\">NumberOfProducts &lt;= 0.837</text>\r\n",
       "<text text-anchor=\"middle\" x=\"431.5\" y=\"-275.8\" font-family=\"Times New Roman,serif\" font-size=\"14.00\">gini = 0.428</text>\r\n",
       "<text text-anchor=\"middle\" x=\"431.5\" y=\"-260.8\" font-family=\"Times New Roman,serif\" font-size=\"14.00\">samples = 4548</text>\r\n",
       "<text text-anchor=\"middle\" x=\"431.5\" y=\"-245.8\" font-family=\"Times New Roman,serif\" font-size=\"14.00\">value = [3134, 1414]</text>\r\n",
       "<text text-anchor=\"middle\" x=\"431.5\" y=\"-230.8\" font-family=\"Times New Roman,serif\" font-size=\"14.00\">class = Retained</text>\r\n",
       "</g>\r\n",
       "<!-- 0&#45;&gt;1 -->\r\n",
       "<g id=\"edge1\" class=\"edge\"><title>0&#45;&gt;1</title>\r\n",
       "<path fill=\"none\" stroke=\"black\" d=\"M511.826,-341.907C501.999,-332.56 491.463,-322.538 481.361,-312.929\"/>\r\n",
       "<polygon fill=\"black\" stroke=\"black\" points=\"483.757,-310.377 474.099,-306.021 478.932,-315.449 483.757,-310.377\"/>\r\n",
       "<text text-anchor=\"middle\" x=\"474.724\" y=\"-327.313\" font-family=\"Times New Roman,serif\" font-size=\"14.00\">True</text>\r\n",
       "</g>\r\n",
       "<!-- 8 -->\r\n",
       "<g id=\"node9\" class=\"node\"><title>8</title>\r\n",
       "<polygon fill=\"none\" stroke=\"black\" points=\"761.5,-306 593.5,-306 593.5,-223 761.5,-223 761.5,-306\"/>\r\n",
       "<text text-anchor=\"middle\" x=\"677.5\" y=\"-290.8\" font-family=\"Times New Roman,serif\" font-size=\"14.00\">ActiveMember_0 &lt;= 0.004</text>\r\n",
       "<text text-anchor=\"middle\" x=\"677.5\" y=\"-275.8\" font-family=\"Times New Roman,serif\" font-size=\"14.00\">gini = 0.39</text>\r\n",
       "<text text-anchor=\"middle\" x=\"677.5\" y=\"-260.8\" font-family=\"Times New Roman,serif\" font-size=\"14.00\">samples = 3664</text>\r\n",
       "<text text-anchor=\"middle\" x=\"677.5\" y=\"-245.8\" font-family=\"Times New Roman,serif\" font-size=\"14.00\">value = [972, 2692]</text>\r\n",
       "<text text-anchor=\"middle\" x=\"677.5\" y=\"-230.8\" font-family=\"Times New Roman,serif\" font-size=\"14.00\">class = Churned</text>\r\n",
       "</g>\r\n",
       "<!-- 0&#45;&gt;8 -->\r\n",
       "<g id=\"edge8\" class=\"edge\"><title>0&#45;&gt;8</title>\r\n",
       "<path fill=\"none\" stroke=\"black\" d=\"M597.174,-341.907C607.001,-332.56 617.537,-322.538 627.639,-312.929\"/>\r\n",
       "<polygon fill=\"black\" stroke=\"black\" points=\"630.068,-315.449 634.901,-306.021 625.243,-310.377 630.068,-315.449\"/>\r\n",
       "<text text-anchor=\"middle\" x=\"634.276\" y=\"-327.313\" font-family=\"Times New Roman,serif\" font-size=\"14.00\">False</text>\r\n",
       "</g>\r\n",
       "<!-- 2 -->\r\n",
       "<g id=\"node3\" class=\"node\"><title>2</title>\r\n",
       "<polygon fill=\"none\" stroke=\"black\" points=\"302.5,-187 120.5,-187 120.5,-104 302.5,-104 302.5,-187\"/>\r\n",
       "<text text-anchor=\"middle\" x=\"211.5\" y=\"-171.8\" font-family=\"Times New Roman,serif\" font-size=\"14.00\">NumberOfProducts &lt;= 0.812</text>\r\n",
       "<text text-anchor=\"middle\" x=\"211.5\" y=\"-156.8\" font-family=\"Times New Roman,serif\" font-size=\"14.00\">gini = 0.4</text>\r\n",
       "<text text-anchor=\"middle\" x=\"211.5\" y=\"-141.8\" font-family=\"Times New Roman,serif\" font-size=\"14.00\">samples = 4301</text>\r\n",
       "<text text-anchor=\"middle\" x=\"211.5\" y=\"-126.8\" font-family=\"Times New Roman,serif\" font-size=\"14.00\">value = [3114, 1187]</text>\r\n",
       "<text text-anchor=\"middle\" x=\"211.5\" y=\"-111.8\" font-family=\"Times New Roman,serif\" font-size=\"14.00\">class = Retained</text>\r\n",
       "</g>\r\n",
       "<!-- 1&#45;&gt;2 -->\r\n",
       "<g id=\"edge2\" class=\"edge\"><title>1&#45;&gt;2</title>\r\n",
       "<path fill=\"none\" stroke=\"black\" d=\"M355.172,-222.907C336.316,-212.879 315.999,-202.075 296.749,-191.837\"/>\r\n",
       "<polygon fill=\"black\" stroke=\"black\" points=\"298.165,-188.626 287.693,-187.021 294.879,-194.807 298.165,-188.626\"/>\r\n",
       "</g>\r\n",
       "<!-- 5 -->\r\n",
       "<g id=\"node6\" class=\"node\"><title>5</title>\r\n",
       "<polygon fill=\"none\" stroke=\"black\" points=\"518,-187 345,-187 345,-104 518,-104 518,-187\"/>\r\n",
       "<text text-anchor=\"middle\" x=\"431.5\" y=\"-171.8\" font-family=\"Times New Roman,serif\" font-size=\"14.00\">ExpenditureRatio &lt;= &#45;0.032</text>\r\n",
       "<text text-anchor=\"middle\" x=\"431.5\" y=\"-156.8\" font-family=\"Times New Roman,serif\" font-size=\"14.00\">gini = 0.149</text>\r\n",
       "<text text-anchor=\"middle\" x=\"431.5\" y=\"-141.8\" font-family=\"Times New Roman,serif\" font-size=\"14.00\">samples = 247</text>\r\n",
       "<text text-anchor=\"middle\" x=\"431.5\" y=\"-126.8\" font-family=\"Times New Roman,serif\" font-size=\"14.00\">value = [20, 227]</text>\r\n",
       "<text text-anchor=\"middle\" x=\"431.5\" y=\"-111.8\" font-family=\"Times New Roman,serif\" font-size=\"14.00\">class = Churned</text>\r\n",
       "</g>\r\n",
       "<!-- 1&#45;&gt;5 -->\r\n",
       "<g id=\"edge5\" class=\"edge\"><title>1&#45;&gt;5</title>\r\n",
       "<path fill=\"none\" stroke=\"black\" d=\"M431.5,-222.907C431.5,-214.649 431.5,-205.864 431.5,-197.302\"/>\r\n",
       "<polygon fill=\"black\" stroke=\"black\" points=\"435,-197.021 431.5,-187.021 428,-197.021 435,-197.021\"/>\r\n",
       "</g>\r\n",
       "<!-- 3 -->\r\n",
       "<g id=\"node4\" class=\"node\"><title>3</title>\r\n",
       "<polygon fill=\"none\" stroke=\"black\" points=\"131,-68 0,-68 0,-0 131,-0 131,-68\"/>\r\n",
       "<text text-anchor=\"middle\" x=\"65.5\" y=\"-52.8\" font-family=\"Times New Roman,serif\" font-size=\"14.00\">gini = 0.482</text>\r\n",
       "<text text-anchor=\"middle\" x=\"65.5\" y=\"-37.8\" font-family=\"Times New Roman,serif\" font-size=\"14.00\">samples = 2479</text>\r\n",
       "<text text-anchor=\"middle\" x=\"65.5\" y=\"-22.8\" font-family=\"Times New Roman,serif\" font-size=\"14.00\">value = [1475, 1004]</text>\r\n",
       "<text text-anchor=\"middle\" x=\"65.5\" y=\"-7.8\" font-family=\"Times New Roman,serif\" font-size=\"14.00\">class = Retained</text>\r\n",
       "</g>\r\n",
       "<!-- 2&#45;&gt;3 -->\r\n",
       "<g id=\"edge3\" class=\"edge\"><title>2&#45;&gt;3</title>\r\n",
       "<path fill=\"none\" stroke=\"black\" d=\"M157.135,-103.726C144.366,-94.1494 130.781,-83.9611 118.092,-74.4438\"/>\r\n",
       "<polygon fill=\"black\" stroke=\"black\" points=\"119.999,-71.4996 109.899,-68.2996 115.799,-77.0996 119.999,-71.4996\"/>\r\n",
       "</g>\r\n",
       "<!-- 4 -->\r\n",
       "<g id=\"node5\" class=\"node\"><title>4</title>\r\n",
       "<polygon fill=\"none\" stroke=\"black\" points=\"274,-68 149,-68 149,-0 274,-0 274,-68\"/>\r\n",
       "<text text-anchor=\"middle\" x=\"211.5\" y=\"-52.8\" font-family=\"Times New Roman,serif\" font-size=\"14.00\">gini = 0.181</text>\r\n",
       "<text text-anchor=\"middle\" x=\"211.5\" y=\"-37.8\" font-family=\"Times New Roman,serif\" font-size=\"14.00\">samples = 1822</text>\r\n",
       "<text text-anchor=\"middle\" x=\"211.5\" y=\"-22.8\" font-family=\"Times New Roman,serif\" font-size=\"14.00\">value = [1639, 183]</text>\r\n",
       "<text text-anchor=\"middle\" x=\"211.5\" y=\"-7.8\" font-family=\"Times New Roman,serif\" font-size=\"14.00\">class = Retained</text>\r\n",
       "</g>\r\n",
       "<!-- 2&#45;&gt;4 -->\r\n",
       "<g id=\"edge4\" class=\"edge\"><title>2&#45;&gt;4</title>\r\n",
       "<path fill=\"none\" stroke=\"black\" d=\"M211.5,-103.726C211.5,-95.5175 211.5,-86.8595 211.5,-78.56\"/>\r\n",
       "<polygon fill=\"black\" stroke=\"black\" points=\"215,-78.2996 211.5,-68.2996 208,-78.2996 215,-78.2996\"/>\r\n",
       "</g>\r\n",
       "<!-- 6 -->\r\n",
       "<g id=\"node7\" class=\"node\"><title>6</title>\r\n",
       "<polygon fill=\"none\" stroke=\"black\" points=\"400.5,-68 292.5,-68 292.5,-0 400.5,-0 400.5,-68\"/>\r\n",
       "<text text-anchor=\"middle\" x=\"346.5\" y=\"-52.8\" font-family=\"Times New Roman,serif\" font-size=\"14.00\">gini = 0.391</text>\r\n",
       "<text text-anchor=\"middle\" x=\"346.5\" y=\"-37.8\" font-family=\"Times New Roman,serif\" font-size=\"14.00\">samples = 60</text>\r\n",
       "<text text-anchor=\"middle\" x=\"346.5\" y=\"-22.8\" font-family=\"Times New Roman,serif\" font-size=\"14.00\">value = [16, 44]</text>\r\n",
       "<text text-anchor=\"middle\" x=\"346.5\" y=\"-7.8\" font-family=\"Times New Roman,serif\" font-size=\"14.00\">class = Churned</text>\r\n",
       "</g>\r\n",
       "<!-- 5&#45;&gt;6 -->\r\n",
       "<g id=\"edge6\" class=\"edge\"><title>5&#45;&gt;6</title>\r\n",
       "<path fill=\"none\" stroke=\"black\" d=\"M399.849,-103.726C392.911,-94.7878 385.559,-85.3168 378.603,-76.3558\"/>\r\n",
       "<polygon fill=\"black\" stroke=\"black\" points=\"381.246,-74.0528 372.349,-68.2996 375.716,-78.3451 381.246,-74.0528\"/>\r\n",
       "</g>\r\n",
       "<!-- 7 -->\r\n",
       "<g id=\"node8\" class=\"node\"><title>7</title>\r\n",
       "<polygon fill=\"none\" stroke=\"black\" points=\"526.5,-68 418.5,-68 418.5,-0 526.5,-0 526.5,-68\"/>\r\n",
       "<text text-anchor=\"middle\" x=\"472.5\" y=\"-52.8\" font-family=\"Times New Roman,serif\" font-size=\"14.00\">gini = 0.042</text>\r\n",
       "<text text-anchor=\"middle\" x=\"472.5\" y=\"-37.8\" font-family=\"Times New Roman,serif\" font-size=\"14.00\">samples = 187</text>\r\n",
       "<text text-anchor=\"middle\" x=\"472.5\" y=\"-22.8\" font-family=\"Times New Roman,serif\" font-size=\"14.00\">value = [4, 183]</text>\r\n",
       "<text text-anchor=\"middle\" x=\"472.5\" y=\"-7.8\" font-family=\"Times New Roman,serif\" font-size=\"14.00\">class = Churned</text>\r\n",
       "</g>\r\n",
       "<!-- 5&#45;&gt;7 -->\r\n",
       "<g id=\"edge7\" class=\"edge\"><title>5&#45;&gt;7</title>\r\n",
       "<path fill=\"none\" stroke=\"black\" d=\"M446.767,-103.726C449.943,-95.2439 453.299,-86.2819 456.5,-77.7312\"/>\r\n",
       "<polygon fill=\"black\" stroke=\"black\" points=\"459.803,-78.892 460.032,-68.2996 453.247,-76.4373 459.803,-78.892\"/>\r\n",
       "</g>\r\n",
       "<!-- 9 -->\r\n",
       "<g id=\"node10\" class=\"node\"><title>9</title>\r\n",
       "<polygon fill=\"none\" stroke=\"black\" points=\"770,-187 585,-187 585,-104 770,-104 770,-187\"/>\r\n",
       "<text text-anchor=\"middle\" x=\"677.5\" y=\"-171.8\" font-family=\"Times New Roman,serif\" font-size=\"14.00\">Location_Location12 &lt;= 0.01</text>\r\n",
       "<text text-anchor=\"middle\" x=\"677.5\" y=\"-156.8\" font-family=\"Times New Roman,serif\" font-size=\"14.00\">gini = 0.498</text>\r\n",
       "<text text-anchor=\"middle\" x=\"677.5\" y=\"-141.8\" font-family=\"Times New Roman,serif\" font-size=\"14.00\">samples = 1376</text>\r\n",
       "<text text-anchor=\"middle\" x=\"677.5\" y=\"-126.8\" font-family=\"Times New Roman,serif\" font-size=\"14.00\">value = [648, 728]</text>\r\n",
       "<text text-anchor=\"middle\" x=\"677.5\" y=\"-111.8\" font-family=\"Times New Roman,serif\" font-size=\"14.00\">class = Churned</text>\r\n",
       "</g>\r\n",
       "<!-- 8&#45;&gt;9 -->\r\n",
       "<g id=\"edge9\" class=\"edge\"><title>8&#45;&gt;9</title>\r\n",
       "<path fill=\"none\" stroke=\"black\" d=\"M677.5,-222.907C677.5,-214.649 677.5,-205.864 677.5,-197.302\"/>\r\n",
       "<polygon fill=\"black\" stroke=\"black\" points=\"681,-197.021 677.5,-187.021 674,-197.021 681,-197.021\"/>\r\n",
       "</g>\r\n",
       "<!-- 12 -->\r\n",
       "<g id=\"node13\" class=\"node\"><title>12</title>\r\n",
       "<polygon fill=\"none\" stroke=\"black\" points=\"938,-187 813,-187 813,-104 938,-104 938,-187\"/>\r\n",
       "<text text-anchor=\"middle\" x=\"875.5\" y=\"-171.8\" font-family=\"Times New Roman,serif\" font-size=\"14.00\">Age &lt;= 0.774</text>\r\n",
       "<text text-anchor=\"middle\" x=\"875.5\" y=\"-156.8\" font-family=\"Times New Roman,serif\" font-size=\"14.00\">gini = 0.243</text>\r\n",
       "<text text-anchor=\"middle\" x=\"875.5\" y=\"-141.8\" font-family=\"Times New Roman,serif\" font-size=\"14.00\">samples = 2288</text>\r\n",
       "<text text-anchor=\"middle\" x=\"875.5\" y=\"-126.8\" font-family=\"Times New Roman,serif\" font-size=\"14.00\">value = [324, 1964]</text>\r\n",
       "<text text-anchor=\"middle\" x=\"875.5\" y=\"-111.8\" font-family=\"Times New Roman,serif\" font-size=\"14.00\">class = Churned</text>\r\n",
       "</g>\r\n",
       "<!-- 8&#45;&gt;12 -->\r\n",
       "<g id=\"edge12\" class=\"edge\"><title>8&#45;&gt;12</title>\r\n",
       "<path fill=\"none\" stroke=\"black\" d=\"M746.195,-222.907C764.901,-211.854 785.205,-199.856 804.059,-188.715\"/>\r\n",
       "<polygon fill=\"black\" stroke=\"black\" points=\"806.067,-191.594 812.896,-183.493 802.506,-185.567 806.067,-191.594\"/>\r\n",
       "</g>\r\n",
       "<!-- 10 -->\r\n",
       "<g id=\"node11\" class=\"node\"><title>10</title>\r\n",
       "<polygon fill=\"none\" stroke=\"black\" points=\"662.5,-68 544.5,-68 544.5,-0 662.5,-0 662.5,-68\"/>\r\n",
       "<text text-anchor=\"middle\" x=\"603.5\" y=\"-52.8\" font-family=\"Times New Roman,serif\" font-size=\"14.00\">gini = 0.483</text>\r\n",
       "<text text-anchor=\"middle\" x=\"603.5\" y=\"-37.8\" font-family=\"Times New Roman,serif\" font-size=\"14.00\">samples = 873</text>\r\n",
       "<text text-anchor=\"middle\" x=\"603.5\" y=\"-22.8\" font-family=\"Times New Roman,serif\" font-size=\"14.00\">value = [516, 357]</text>\r\n",
       "<text text-anchor=\"middle\" x=\"603.5\" y=\"-7.8\" font-family=\"Times New Roman,serif\" font-size=\"14.00\">class = Retained</text>\r\n",
       "</g>\r\n",
       "<!-- 9&#45;&gt;10 -->\r\n",
       "<g id=\"edge10\" class=\"edge\"><title>9&#45;&gt;10</title>\r\n",
       "<path fill=\"none\" stroke=\"black\" d=\"M649.945,-103.726C643.966,-94.879 637.635,-85.51 631.634,-76.6303\"/>\r\n",
       "<polygon fill=\"black\" stroke=\"black\" points=\"634.503,-74.6253 626.004,-68.2996 628.703,-78.5448 634.503,-74.6253\"/>\r\n",
       "</g>\r\n",
       "<!-- 11 -->\r\n",
       "<g id=\"node12\" class=\"node\"><title>11</title>\r\n",
       "<polygon fill=\"none\" stroke=\"black\" points=\"798.5,-68 680.5,-68 680.5,-0 798.5,-0 798.5,-68\"/>\r\n",
       "<text text-anchor=\"middle\" x=\"739.5\" y=\"-52.8\" font-family=\"Times New Roman,serif\" font-size=\"14.00\">gini = 0.387</text>\r\n",
       "<text text-anchor=\"middle\" x=\"739.5\" y=\"-37.8\" font-family=\"Times New Roman,serif\" font-size=\"14.00\">samples = 503</text>\r\n",
       "<text text-anchor=\"middle\" x=\"739.5\" y=\"-22.8\" font-family=\"Times New Roman,serif\" font-size=\"14.00\">value = [132, 371]</text>\r\n",
       "<text text-anchor=\"middle\" x=\"739.5\" y=\"-7.8\" font-family=\"Times New Roman,serif\" font-size=\"14.00\">class = Churned</text>\r\n",
       "</g>\r\n",
       "<!-- 9&#45;&gt;11 -->\r\n",
       "<g id=\"edge11\" class=\"edge\"><title>9&#45;&gt;11</title>\r\n",
       "<path fill=\"none\" stroke=\"black\" d=\"M700.587,-103.726C705.493,-95.0615 710.682,-85.8962 715.617,-77.1802\"/>\r\n",
       "<polygon fill=\"black\" stroke=\"black\" points=\"718.764,-78.726 720.645,-68.2996 712.673,-75.277 718.764,-78.726\"/>\r\n",
       "</g>\r\n",
       "<!-- 13 -->\r\n",
       "<g id=\"node14\" class=\"node\"><title>13</title>\r\n",
       "<polygon fill=\"none\" stroke=\"black\" points=\"934.5,-68 816.5,-68 816.5,-0 934.5,-0 934.5,-68\"/>\r\n",
       "<text text-anchor=\"middle\" x=\"875.5\" y=\"-52.8\" font-family=\"Times New Roman,serif\" font-size=\"14.00\">gini = 0.36</text>\r\n",
       "<text text-anchor=\"middle\" x=\"875.5\" y=\"-37.8\" font-family=\"Times New Roman,serif\" font-size=\"14.00\">samples = 1049</text>\r\n",
       "<text text-anchor=\"middle\" x=\"875.5\" y=\"-22.8\" font-family=\"Times New Roman,serif\" font-size=\"14.00\">value = [247, 802]</text>\r\n",
       "<text text-anchor=\"middle\" x=\"875.5\" y=\"-7.8\" font-family=\"Times New Roman,serif\" font-size=\"14.00\">class = Churned</text>\r\n",
       "</g>\r\n",
       "<!-- 12&#45;&gt;13 -->\r\n",
       "<g id=\"edge13\" class=\"edge\"><title>12&#45;&gt;13</title>\r\n",
       "<path fill=\"none\" stroke=\"black\" d=\"M875.5,-103.726C875.5,-95.5175 875.5,-86.8595 875.5,-78.56\"/>\r\n",
       "<polygon fill=\"black\" stroke=\"black\" points=\"879,-78.2996 875.5,-68.2996 872,-78.2996 879,-78.2996\"/>\r\n",
       "</g>\r\n",
       "<!-- 14 -->\r\n",
       "<g id=\"node15\" class=\"node\"><title>14</title>\r\n",
       "<polygon fill=\"none\" stroke=\"black\" points=\"1070.5,-68 952.5,-68 952.5,-0 1070.5,-0 1070.5,-68\"/>\r\n",
       "<text text-anchor=\"middle\" x=\"1011.5\" y=\"-52.8\" font-family=\"Times New Roman,serif\" font-size=\"14.00\">gini = 0.117</text>\r\n",
       "<text text-anchor=\"middle\" x=\"1011.5\" y=\"-37.8\" font-family=\"Times New Roman,serif\" font-size=\"14.00\">samples = 1239</text>\r\n",
       "<text text-anchor=\"middle\" x=\"1011.5\" y=\"-22.8\" font-family=\"Times New Roman,serif\" font-size=\"14.00\">value = [77, 1162]</text>\r\n",
       "<text text-anchor=\"middle\" x=\"1011.5\" y=\"-7.8\" font-family=\"Times New Roman,serif\" font-size=\"14.00\">class = Churned</text>\r\n",
       "</g>\r\n",
       "<!-- 12&#45;&gt;14 -->\r\n",
       "<g id=\"edge14\" class=\"edge\"><title>12&#45;&gt;14</title>\r\n",
       "<path fill=\"none\" stroke=\"black\" d=\"M926.141,-103.726C937.923,-94.2406 950.449,-84.1551 962.173,-74.7159\"/>\r\n",
       "<polygon fill=\"black\" stroke=\"black\" points=\"964.547,-77.2972 970.142,-68.2996 960.157,-71.8448 964.547,-77.2972\"/>\r\n",
       "</g>\r\n",
       "</g>\r\n",
       "</svg>\r\n"
      ],
      "text/plain": [
       "<graphviz.files.Source at 0x22f45ba5c88>"
      ]
     },
     "execution_count": 104,
     "metadata": {},
     "output_type": "execute_result"
    }
   ],
   "source": [
    "\n",
    "graphviz.Source(export_graphviz(dtc, feature_names=list(vldx.columns),class_names= ['Retained','Churned'] ,out_file=None))"
   ]
  },
  {
   "cell_type": "markdown",
   "metadata": {},
   "source": [
    "### Random Forest"
   ]
  },
  {
   "cell_type": "code",
   "execution_count": 80,
   "metadata": {},
   "outputs": [],
   "source": [
    "from sklearn.ensemble import RandomForestClassifier\n",
    "from sklearn.metrics import precision_score, \\\n",
    "    recall_score, confusion_matrix, classification_report, \\\n",
    "    accuracy_score, f1_score"
   ]
  },
  {
   "cell_type": "code",
   "execution_count": 81,
   "metadata": {},
   "outputs": [
    {
     "data": {
      "text/plain": [
       "RandomForestClassifier(bootstrap=True, class_weight=None, criterion='gini',\n",
       "                       max_depth=None, max_features='auto', max_leaf_nodes=None,\n",
       "                       min_impurity_decrease=0.0, min_impurity_split=None,\n",
       "                       min_samples_leaf=1, min_samples_split=2,\n",
       "                       min_weight_fraction_leaf=0.0, n_estimators=10,\n",
       "                       n_jobs=None, oob_score=False, random_state=None,\n",
       "                       verbose=0, warm_start=False)"
      ]
     },
     "execution_count": 81,
     "metadata": {},
     "output_type": "execute_result"
    }
   ],
   "source": [
    "from sklearn.model_selection import RandomizedSearchCV,GridSearchCV\n",
    "from sklearn.metrics import make_scorer\n",
    "\n",
    "## n_jobs = -1 uses all cores of processor\n",
    "## max_features is the maximum number of attributes to select for each tree\n",
    "rfc_grid = RandomForestClassifier()\n",
    " \n",
    "# Use a grid over parameters of interest\n",
    "## n_estimators is the number of trees in the forest\n",
    "## max_depth is how deep each tree can be\n",
    "## min_sample_leaf is the minimum samples required in each leaf node for the root node to split\n",
    "## \"A node will only be split if in each of it's leaf nodes there should be min_sample_leaf\"\n",
    "\n",
    "#param_grid = {\"n_estimators\" : [10, 25],\n",
    "          # \"max_depth\" : [10, 12, 14],\n",
    "          ## \"min_samples_leaf\" : [ 10, 15, 20],\n",
    "          # \"class_weight\" : ['balanced','balanced_subsample']}\n",
    " \n",
    "#rfc_cv_grid = GridSearchCV(estimator = rfc_grid, param_grid = param_grid, cv = 3,\n",
    "                               # scoring = make_scorer(lambda yt,yp: f1_score(yt,yp,pos_label = 'yes')))\n",
    "rfc_grid.fit(trainx,trainy)\n",
    "#rfc_cv_grid.best_estimator_"
   ]
  },
  {
   "cell_type": "code",
   "execution_count": 82,
   "metadata": {},
   "outputs": [
    {
     "data": {
      "text/plain": [
       "RandomForestClassifier(bootstrap=True, class_weight=None, criterion='gini',\n",
       "                       max_depth=5, max_features='auto', max_leaf_nodes=None,\n",
       "                       min_impurity_decrease=0.0, min_impurity_split=None,\n",
       "                       min_samples_leaf=1, min_samples_split=2,\n",
       "                       min_weight_fraction_leaf=0.0, n_estimators=10,\n",
       "                       n_jobs=None, oob_score=False, random_state=None,\n",
       "                       verbose=0, warm_start=False)"
      ]
     },
     "execution_count": 82,
     "metadata": {},
     "output_type": "execute_result"
    }
   ],
   "source": [
    "\n",
    "## This line instantiates the model. \n",
    "rf = RandomForestClassifier(max_depth = 5) \n",
    "## Fit the model on your training data.\n",
    "\n",
    "#param_grid = {'max_depth': [3, 5, 6, 7, 8], 'max_features': [2,4,6,7,8,9],'n_estimators':[50,100],'min_samples_split': [3, 5, 6, 7]}\n",
    "#RanFor_grid = GridSearchCV(rf, param_grid, cv=5, refit=True, verbose=0)\n",
    "rf.fit(trainx,trainy)\n",
    "\n"
   ]
  },
  {
   "cell_type": "code",
   "execution_count": 83,
   "metadata": {},
   "outputs": [],
   "source": [
    "## And score it on your testing data.\n",
    "\n",
    "train_pred2 = rf.predict(trainx)\n",
    "test_pred2= rf.predict(vldx)\n"
   ]
  },
  {
   "cell_type": "code",
   "execution_count": 84,
   "metadata": {},
   "outputs": [
    {
     "name": "stdout",
     "output_type": "stream",
     "text": [
      "Accuracy on train is: 0.8259863614223089\n",
      "Accuracy on test is: 0.35688405797101447\n"
     ]
    }
   ],
   "source": [
    "print(\"Accuracy on train is:\",accuracy_score(trainy,train_pred2))\n",
    "print(\"Accuracy on test is:\",accuracy_score(vldy,test_pred2))"
   ]
  },
  {
   "cell_type": "code",
   "execution_count": 86,
   "metadata": {},
   "outputs": [
    {
     "name": "stdout",
     "output_type": "stream",
     "text": [
      "Accuracy Score : 0.35688405797101447\n",
      "Precision Score : 0.22423556058890148\n",
      "Recall Score : 0.8878923766816144\n",
      "F1 Score : 0.35804701627486435\n",
      "Confusion Matrix : \n",
      "[[ 392 1370]\n",
      " [  50  396]]\n"
     ]
    }
   ],
   "source": [
    "# Model Evaluation metrics \n",
    "from sklearn.metrics import accuracy_score,recall_score,precision_score,f1_score\n",
    "print('Accuracy Score : ' + str(accuracy_score(vldy,test_pred2)))\n",
    "print('Precision Score : ' + str(precision_score(vldy,test_pred2)))\n",
    "print('Recall Score : ' + str(recall_score(vldy,test_pred2)))\n",
    "print('F1 Score : ' + str(f1_score(vldy,test_pred2)))\n",
    "\n",
    "#Dummy Classifier Confusion matrix\n",
    "from sklearn.metrics import confusion_matrix\n",
    "print('Confusion Matrix : \\n' + str(confusion_matrix(vldy,test_pred2)))"
   ]
  },
  {
   "cell_type": "code",
   "execution_count": 102,
   "metadata": {},
   "outputs": [],
   "source": [
    "rf_test_pred= rf.predict(bank_churn_test)"
   ]
  },
  {
   "cell_type": "markdown",
   "metadata": {},
   "source": [
    "### Gboost"
   ]
  },
  {
   "cell_type": "code",
   "execution_count": 106,
   "metadata": {},
   "outputs": [],
   "source": [
    "from sklearn.ensemble import GradientBoostingClassifier"
   ]
  },
  {
   "cell_type": "code",
   "execution_count": 111,
   "metadata": {},
   "outputs": [],
   "source": [
    "GBM_model = GradientBoostingClassifier(n_estimators=20,\n",
    "                                       learning_rate=0.3,\n",
    "                                       subsample=0.8)\n",
    "GBM_model.fit(X=trainx, y=trainy)\n",
    "pred_train = GBM_model.predict(trainx)\n",
    "pred_val = GBM_model.predict(vldx)\n"
   ]
  },
  {
   "cell_type": "code",
   "execution_count": 112,
   "metadata": {},
   "outputs": [
    {
     "name": "stdout",
     "output_type": "stream",
     "text": [
      "Accuracy on train is: 0.8815148563078422\n",
      "Accuracy on test is: 0.3641304347826087\n"
     ]
    }
   ],
   "source": [
    "print(\"Accuracy on train is:\",accuracy_score(trainy,pred_train))\n",
    "print(\"Accuracy on test is:\",accuracy_score(vldy,pred_val))"
   ]
  },
  {
   "cell_type": "code",
   "execution_count": 114,
   "metadata": {},
   "outputs": [],
   "source": [
    "gb_pred_test = GBM_model.predict(bank_churn_test)"
   ]
  },
  {
   "cell_type": "code",
   "execution_count": 113,
   "metadata": {},
   "outputs": [
    {
     "name": "stdout",
     "output_type": "stream",
     "text": [
      "Accuracy Score : 0.3641304347826087\n",
      "Precision Score : 0.22628571428571428\n",
      "Recall Score : 0.8878923766816144\n",
      "F1 Score : 0.360655737704918\n",
      "Confusion Matrix : \n",
      "[[ 408 1354]\n",
      " [  50  396]]\n"
     ]
    }
   ],
   "source": [
    "# Model Evaluation metrics \n",
    "from sklearn.metrics import accuracy_score,recall_score,precision_score,f1_score\n",
    "print('Accuracy Score : ' + str(accuracy_score(vldy,pred_val)))\n",
    "print('Precision Score : ' + str(precision_score(vldy,pred_val)))\n",
    "print('Recall Score : ' + str(recall_score(vldy,pred_val)))\n",
    "print('F1 Score : ' + str(f1_score(vldy,pred_val)))\n",
    "\n",
    "#Dummy Classifier Confusion matrix\n",
    "from sklearn.metrics import confusion_matrix\n",
    "print('Confusion Matrix : \\n' + str(confusion_matrix(vldy,pred_val)))"
   ]
  },
  {
   "cell_type": "code",
   "execution_count": 110,
   "metadata": {},
   "outputs": [],
   "source": [
    "rf_test_pred= rf.predict(bank_churn_test)"
   ]
  },
  {
   "cell_type": "code",
   "execution_count": null,
   "metadata": {},
   "outputs": [],
   "source": []
  },
  {
   "cell_type": "code",
   "execution_count": null,
   "metadata": {},
   "outputs": [],
   "source": []
  },
  {
   "cell_type": "code",
   "execution_count": 118,
   "metadata": {},
   "outputs": [],
   "source": [
    "from sklearn.metrics import precision_recall_curve\n",
    "from sklearn.metrics import f1_score\n",
    "from sklearn.metrics import auc\n",
    "from sklearn.metrics import average_precision_score\n",
    "from matplotlib import pyplot"
   ]
  },
  {
   "cell_type": "code",
   "execution_count": 119,
   "metadata": {},
   "outputs": [
    {
     "ename": "NameError",
     "evalue": "name 'roc_auc_score' is not defined",
     "output_type": "error",
     "traceback": [
      "\u001b[1;31m---------------------------------------------------------------------------\u001b[0m",
      "\u001b[1;31mNameError\u001b[0m                                 Traceback (most recent call last)",
      "\u001b[1;32m<ipython-input-119-222014728637>\u001b[0m in \u001b[0;36m<module>\u001b[1;34m()\u001b[0m\n\u001b[0;32m      4\u001b[0m \u001b[0mprobs\u001b[0m \u001b[1;33m=\u001b[0m \u001b[0mprobs\u001b[0m\u001b[1;33m[\u001b[0m\u001b[1;33m:\u001b[0m\u001b[1;33m,\u001b[0m \u001b[1;36m1\u001b[0m\u001b[1;33m]\u001b[0m\u001b[1;33m\u001b[0m\u001b[0m\n\u001b[0;32m      5\u001b[0m \u001b[1;31m# calculate AUC\u001b[0m\u001b[1;33m\u001b[0m\u001b[1;33m\u001b[0m\u001b[0m\n\u001b[1;32m----> 6\u001b[1;33m \u001b[0mauc\u001b[0m \u001b[1;33m=\u001b[0m \u001b[0mroc_auc_score\u001b[0m\u001b[1;33m(\u001b[0m\u001b[0mvldy\u001b[0m\u001b[1;33m,\u001b[0m \u001b[0mprobs\u001b[0m\u001b[1;33m)\u001b[0m\u001b[1;33m\u001b[0m\u001b[0m\n\u001b[0m\u001b[0;32m      7\u001b[0m \u001b[0mprint\u001b[0m\u001b[1;33m(\u001b[0m\u001b[1;34m'AUC: %.3f'\u001b[0m \u001b[1;33m%\u001b[0m \u001b[0mauc\u001b[0m\u001b[1;33m)\u001b[0m\u001b[1;33m\u001b[0m\u001b[0m\n\u001b[0;32m      8\u001b[0m \u001b[1;31m# calculate roc curve\u001b[0m\u001b[1;33m\u001b[0m\u001b[1;33m\u001b[0m\u001b[0m\n",
      "\u001b[1;31mNameError\u001b[0m: name 'roc_auc_score' is not defined"
     ]
    }
   ],
   "source": [
    "# predict probabilities\n",
    "probs = rf.predict_proba(trainx)\n",
    "# keep probabilities for the positive outcome only\n",
    "probs = probs[:, 1]\n",
    "# calculate AUC\n",
    "auc = roc_auc_score(vldy, probs)\n",
    "print('AUC: %.3f' % auc)\n",
    "# calculate roc curve\n",
    "fpr, tpr, thresholds = roc_curve(vldy, probs)\n",
    "# plot no skill\n",
    "pyplot.plot([0, 1], [0, 1], linestyle='--')\n",
    "# plot the roc curve for the model\n",
    "pyplot.plot(fpr, tpr, marker='.')\n",
    "plt.xlabel('False positive rate')\n",
    "plt.ylabel('True positive rate')\n",
    "plt.title('ROC Curve')\n",
    "# show the plot\n",
    "pyplot.show()"
   ]
  },
  {
   "cell_type": "code",
   "execution_count": 98,
   "metadata": {},
   "outputs": [
    {
     "name": "stdout",
     "output_type": "stream",
     "text": [
      "f1=0.343 auc=0.298 ap=0.299\n"
     ]
    },
    {
     "data": {
      "image/png": "[encoded data removed]",
      "text/plain": [
       "<Figure size 576x396 with 1 Axes>"
      ]
     },
     "metadata": {},
     "output_type": "display_data"
    }
   ],
   "source": [
    "probs = GBM_model.predict_proba(vldx)\n",
    "# keep probabilities for the positive outcome only\n",
    "probs = probs[:, 1]\n",
    "# predict class values\n",
    "yhat = GBM_model.predict(vldx)\n",
    "# calculate precision-recall curve\n",
    "precision, recall, thresholds = precision_recall_curve(vldy, probs)\n",
    "# calculate F1 score\n",
    "f1 = f1_score(vldy, yhat)\n",
    "# calculate precision-recall AUC\n",
    "auc = auc(recall, precision)\n",
    "# calculate average precision score\n",
    "ap = average_precision_score(vldy, probs)\n",
    "print('f1=%.3f auc=%.3f ap=%.3f' % (f1, auc, ap))\n",
    "# plot no skill\n",
    "pyplot.plot([0, 1], [0.5, 0.5], linestyle='--')\n",
    "# plot the precision-recall curve for the model\n",
    "pyplot.plot(recall, precision, marker='.')\n",
    "\n",
    "# show the plot\n",
    "pyplot.show()"
   ]
  },
  {
   "cell_type": "code",
   "execution_count": null,
   "metadata": {},
   "outputs": [],
   "source": []
  },
  {
   "cell_type": "markdown",
   "metadata": {},
   "source": [
    "#### XGBoost"
   ]
  },
  {
   "cell_type": "code",
   "execution_count": 96,
   "metadata": {},
   "outputs": [
    {
     "ename": "ValueError",
     "evalue": "feature_names mismatch: ['f0', 'f1', 'f2', 'f3', 'f4', 'f5', 'f6', 'f7', 'f8', 'f9', 'f10', 'f11', 'f12', 'f13', 'f14', 'f15', 'f16', 'f17', 'f18', 'f19', 'f20', 'f21', 'f22', 'f23', 'f24', 'f25', 'f26', 'f27', 'f28', 'f29', 'f30', 'f31'] ['AccountBalance', 'Age', 'CreditScore', 'NumberOfProducts', 'Salary', 'Tenure', 'Gender_Female', 'Gender_Male', 'Location_Location11', 'Location_Location12', 'Location_Location13', 'Education_primary', 'Education_secondary', 'Education_tertiary', 'Education_unknown', 'MaritalStatus_divorced', 'MaritalStatus_married', 'MaritalStatus_single', 'Occupation_admin.', 'Occupation_management', 'Occupation_retired', 'Occupation_self-employed', 'Occupation_services', 'Occupation_technician', 'Occupation_unknown', 'Ownhouse_no', 'Ownhouse_unknown', 'Ownhouse_yes', 'IsCreditCardCustomer_0', 'IsCreditCardCustomer_1', 'ActiveMember_0', 'ActiveMember_1']\nexpected f8, f2, f12, f21, f6, f13, f29, f24, f19, f10, f20, f11, f0, f17, f16, f14, f31, f5, f7, f25, f3, f22, f27, f18, f23, f30, f15, f4, f1, f26, f28, f9 in input data\ntraining data did not have the following fields: Location_Location11, Education_secondary, Salary, AccountBalance, IsCreditCardCustomer_1, CreditScore, Occupation_management, Education_tertiary, MaritalStatus_single, MaritalStatus_divorced, Occupation_admin., Education_unknown, Gender_Male, IsCreditCardCustomer_0, Tenure, Occupation_retired, MaritalStatus_married, Occupation_unknown, ActiveMember_0, Gender_Female, ActiveMember_1, Occupation_technician, Ownhouse_unknown, Age, Occupation_services, Education_primary, Location_Location13, Ownhouse_yes, Location_Location12, Occupation_self-employed, NumberOfProducts, Ownhouse_no",
     "output_type": "error",
     "traceback": [
      "\u001b[1;31m---------------------------------------------------------------------------\u001b[0m",
      "\u001b[1;31mValueError\u001b[0m                                Traceback (most recent call last)",
      "\u001b[1;32m<ipython-input-96-fe9daf5bec97>\u001b[0m in \u001b[0;36m<module>\u001b[1;34m()\u001b[0m\n\u001b[0;32m      9\u001b[0m \u001b[0mX_classifier\u001b[0m\u001b[1;33m.\u001b[0m\u001b[0mfit\u001b[0m\u001b[1;33m(\u001b[0m\u001b[0mtrainx\u001b[0m\u001b[1;33m,\u001b[0m\u001b[0mtrainy\u001b[0m\u001b[1;33m)\u001b[0m\u001b[1;33m\u001b[0m\u001b[0m\n\u001b[0;32m     10\u001b[0m \u001b[0mxgboost_train_preds\u001b[0m\u001b[1;33m=\u001b[0m\u001b[0mX_classifier\u001b[0m\u001b[1;33m.\u001b[0m\u001b[0mpredict\u001b[0m\u001b[1;33m(\u001b[0m\u001b[0mtrainx\u001b[0m\u001b[1;33m)\u001b[0m\u001b[1;33m\u001b[0m\u001b[0m\n\u001b[1;32m---> 11\u001b[1;33m \u001b[0mxgboost_test_preds\u001b[0m\u001b[1;33m=\u001b[0m\u001b[0mX_classifier\u001b[0m\u001b[1;33m.\u001b[0m\u001b[0mpredict\u001b[0m\u001b[1;33m(\u001b[0m\u001b[0mvldx\u001b[0m\u001b[1;33m)\u001b[0m\u001b[1;33m\u001b[0m\u001b[0m\n\u001b[0m",
      "\u001b[1;32m~\\Anac3\\lib\\site-packages\\xgboost\\sklearn.py\u001b[0m in \u001b[0;36mpredict\u001b[1;34m(self, data, output_margin, ntree_limit, validate_features)\u001b[0m\n\u001b[0;32m    789\u001b[0m                                                  \u001b[0moutput_margin\u001b[0m\u001b[1;33m=\u001b[0m\u001b[0moutput_margin\u001b[0m\u001b[1;33m,\u001b[0m\u001b[1;33m\u001b[0m\u001b[0m\n\u001b[0;32m    790\u001b[0m                                                  \u001b[0mntree_limit\u001b[0m\u001b[1;33m=\u001b[0m\u001b[0mntree_limit\u001b[0m\u001b[1;33m,\u001b[0m\u001b[1;33m\u001b[0m\u001b[0m\n\u001b[1;32m--> 791\u001b[1;33m                                                  validate_features=validate_features)\n\u001b[0m\u001b[0;32m    792\u001b[0m         \u001b[1;32mif\u001b[0m \u001b[0moutput_margin\u001b[0m\u001b[1;33m:\u001b[0m\u001b[1;33m\u001b[0m\u001b[0m\n\u001b[0;32m    793\u001b[0m             \u001b[1;31m# If output_margin is active, simply return the scores\u001b[0m\u001b[1;33m\u001b[0m\u001b[1;33m\u001b[0m\u001b[0m\n",
      "\u001b[1;32m~\\Anac3\\lib\\site-packages\\xgboost\\core.py\u001b[0m in \u001b[0;36mpredict\u001b[1;34m(self, data, output_margin, ntree_limit, pred_leaf, pred_contribs, approx_contribs, pred_interactions, validate_features)\u001b[0m\n\u001b[0;32m   1282\u001b[0m \u001b[1;33m\u001b[0m\u001b[0m\n\u001b[0;32m   1283\u001b[0m         \u001b[1;32mif\u001b[0m \u001b[0mvalidate_features\u001b[0m\u001b[1;33m:\u001b[0m\u001b[1;33m\u001b[0m\u001b[0m\n\u001b[1;32m-> 1284\u001b[1;33m             \u001b[0mself\u001b[0m\u001b[1;33m.\u001b[0m\u001b[0m_validate_features\u001b[0m\u001b[1;33m(\u001b[0m\u001b[0mdata\u001b[0m\u001b[1;33m)\u001b[0m\u001b[1;33m\u001b[0m\u001b[0m\n\u001b[0m\u001b[0;32m   1285\u001b[0m \u001b[1;33m\u001b[0m\u001b[0m\n\u001b[0;32m   1286\u001b[0m         \u001b[0mlength\u001b[0m \u001b[1;33m=\u001b[0m \u001b[0mc_bst_ulong\u001b[0m\u001b[1;33m(\u001b[0m\u001b[1;33m)\u001b[0m\u001b[1;33m\u001b[0m\u001b[0m\n",
      "\u001b[1;32m~\\Anac3\\lib\\site-packages\\xgboost\\core.py\u001b[0m in \u001b[0;36m_validate_features\u001b[1;34m(self, data)\u001b[0m\n\u001b[0;32m   1688\u001b[0m \u001b[1;33m\u001b[0m\u001b[0m\n\u001b[0;32m   1689\u001b[0m                 raise ValueError(msg.format(self.feature_names,\n\u001b[1;32m-> 1690\u001b[1;33m                                             data.feature_names))\n\u001b[0m\u001b[0;32m   1691\u001b[0m \u001b[1;33m\u001b[0m\u001b[0m\n\u001b[0;32m   1692\u001b[0m     \u001b[1;32mdef\u001b[0m \u001b[0mget_split_value_histogram\u001b[0m\u001b[1;33m(\u001b[0m\u001b[0mself\u001b[0m\u001b[1;33m,\u001b[0m \u001b[0mfeature\u001b[0m\u001b[1;33m,\u001b[0m \u001b[0mfmap\u001b[0m\u001b[1;33m=\u001b[0m\u001b[1;34m''\u001b[0m\u001b[1;33m,\u001b[0m \u001b[0mbins\u001b[0m\u001b[1;33m=\u001b[0m\u001b[1;32mNone\u001b[0m\u001b[1;33m,\u001b[0m \u001b[0mas_pandas\u001b[0m\u001b[1;33m=\u001b[0m\u001b[1;32mTrue\u001b[0m\u001b[1;33m)\u001b[0m\u001b[1;33m:\u001b[0m\u001b[1;33m\u001b[0m\u001b[0m\n",
      "\u001b[1;31mValueError\u001b[0m: feature_names mismatch: ['f0', 'f1', 'f2', 'f3', 'f4', 'f5', 'f6', 'f7', 'f8', 'f9', 'f10', 'f11', 'f12', 'f13', 'f14', 'f15', 'f16', 'f17', 'f18', 'f19', 'f20', 'f21', 'f22', 'f23', 'f24', 'f25', 'f26', 'f27', 'f28', 'f29', 'f30', 'f31'] ['AccountBalance', 'Age', 'CreditScore', 'NumberOfProducts', 'Salary', 'Tenure', 'Gender_Female', 'Gender_Male', 'Location_Location11', 'Location_Location12', 'Location_Location13', 'Education_primary', 'Education_secondary', 'Education_tertiary', 'Education_unknown', 'MaritalStatus_divorced', 'MaritalStatus_married', 'MaritalStatus_single', 'Occupation_admin.', 'Occupation_management', 'Occupation_retired', 'Occupation_self-employed', 'Occupation_services', 'Occupation_technician', 'Occupation_unknown', 'Ownhouse_no', 'Ownhouse_unknown', 'Ownhouse_yes', 'IsCreditCardCustomer_0', 'IsCreditCardCustomer_1', 'ActiveMember_0', 'ActiveMember_1']\nexpected f8, f2, f12, f21, f6, f13, f29, f24, f19, f10, f20, f11, f0, f17, f16, f14, f31, f5, f7, f25, f3, f22, f27, f18, f23, f30, f15, f4, f1, f26, f28, f9 in input data\ntraining data did not have the following fields: Location_Location11, Education_secondary, Salary, AccountBalance, IsCreditCardCustomer_1, CreditScore, Occupation_management, Education_tertiary, MaritalStatus_single, MaritalStatus_divorced, Occupation_admin., Education_unknown, Gender_Male, IsCreditCardCustomer_0, Tenure, Occupation_retired, MaritalStatus_married, Occupation_unknown, ActiveMember_0, Gender_Female, ActiveMember_1, Occupation_technician, Ownhouse_unknown, Age, Occupation_services, Education_primary, Location_Location13, Ownhouse_yes, Location_Location12, Occupation_self-employed, NumberOfProducts, Ownhouse_no"
     ]
    }
   ],
   "source": [
    "from xgboost import  XGBClassifier\n",
    "X_classifier = XGBClassifier()\n",
    "\n",
    "# Fit Extreme Gradient boosting classifier\n",
    "#param_grid = {'max_depth': [5,6,7,8], 'gamma': [0.01,0.001,0.001],'min_child_weight':[1,5,10], 'learning_rate': [0.05,0.1, 0.2, 0.3], 'n_estimators':[5,10,20,100]}\n",
    "#xgb_grid = GridSearchCV(X_classifier, param_grid, cv=5, refit=True, verbose=0)\n",
    "\n",
    "\n",
    "X_classifier.fit(trainx,trainy)\n",
    "xgboost_train_preds=X_classifier.predict(trainx)\n",
    "xgboost_test_preds=X_classifier.predict(vldx)"
   ]
  },
  {
   "cell_type": "code",
   "execution_count": null,
   "metadata": {},
   "outputs": [],
   "source": [
    "xgboost_train_preds=X_classifier.predict(trainx)\n",
    "xgboost_test_preds=X_classifier.predict(vldx)"
   ]
  },
  {
   "cell_type": "code",
   "execution_count": null,
   "metadata": {},
   "outputs": [],
   "source": []
  },
  {
   "cell_type": "code",
   "execution_count": null,
   "metadata": {},
   "outputs": [],
   "source": []
  },
  {
   "cell_type": "code",
   "execution_count": null,
   "metadata": {},
   "outputs": [],
   "source": [
    "#Predicting the train and test set accuracy, precison recall and f1-score\n",
    "print('Accuracy of XGBoost classifier on train set : ' + str(accuracy_score(trainy,xgboost_train_preds)))\n",
    "print('Accuracy Score of XGBoost classifier on test set  : ' + str(accuracy_score(valdy,xgboost_test_preds)))\n",
    "print(\" \")\n",
    "print('Precision Score of XGBoost classifier on train set : ' + str(precision_score(trainy,xgboost_train_preds)))\n",
    "print('Precision Score of XGBoost classifier on test set : ' + str(precision_score(valdy,xgboost_test_preds)))\n",
    "print(\" \")\n",
    "print('Recall Score of XGBoost classifier on train set : ' + str(recall_score(trainy,xgboost_train_preds)))\n",
    "print('Recall Score of XGBoost classifier on test set  : ' + str(recall_score(valdy,xgboost_test_preds)))\n",
    "print(\" \")\n",
    "print('F1 Score of XGBoost classifier on train set  : ' + str(f1_score(trainy,xgboost_train_preds)))\n",
    "print('F1 Score of XGBoost classifier on test set : ' + str(f1_score(valdy,xgboost_test_preds)))"
   ]
  },
  {
   "cell_type": "markdown",
   "metadata": {},
   "source": [
    "### Step 9: ROC / Lerning curve visulizations"
   ]
  },
  {
   "cell_type": "code",
   "execution_count": 123,
   "metadata": {},
   "outputs": [
    {
     "data": {
      "image/png": "[encoded data removed]",
      "text/plain": [
       "<Figure size 576x396 with 1 Axes>"
      ]
     },
     "metadata": {},
     "output_type": "display_data"
    }
   ],
   "source": [
    "plot_learning_curves(trainx, trainy, vldx, vldy,dtc_cv_grid)\n",
    "plt.title('Random forest ROC Curve')\n",
    "plt.show()"
   ]
  },
  {
   "cell_type": "code",
   "execution_count": null,
   "metadata": {},
   "outputs": [],
   "source": [
    "plot_learning_curves(trainx, trainy, vldx, vldy, rf)\n",
    "plt.title('Random forest ROC Curve')\n",
    "plt.show()"
   ]
  },
  {
   "cell_type": "code",
   "execution_count": 122,
   "metadata": {},
   "outputs": [
    {
     "data": {
      "image/png": "[encoded data removed]",
      "text/plain": [
       "<Figure size 576x396 with 1 Axes>"
      ]
     },
     "metadata": {},
     "output_type": "display_data"
    }
   ],
   "source": [
    "plot_learning_curves(trainx, trainy, vldx, vldy, rf)\n",
    "plt.title('Random forest ROC Curve')\n",
    "plt.show()"
   ]
  },
  {
   "cell_type": "code",
   "execution_count": null,
   "metadata": {},
   "outputs": [],
   "source": []
  },
  {
   "cell_type": "code",
   "execution_count": null,
   "metadata": {},
   "outputs": [],
   "source": []
  },
  {
   "cell_type": "markdown",
   "metadata": {},
   "source": [
    "### Step 10 : Tuning Model (PCA / Feature selection)"
   ]
  },
  {
   "cell_type": "markdown",
   "metadata": {},
   "source": [
    "### Preparing Test data"
   ]
  },
  {
   "cell_type": "code",
   "execution_count": 88,
   "metadata": {},
   "outputs": [
    {
     "data": {
      "text/plain": [
       "(1840, 16)"
      ]
     },
     "execution_count": 88,
     "metadata": {},
     "output_type": "execute_result"
    }
   ],
   "source": [
    "\n",
    "bank_churn_test.shape\n"
   ]
  },
  {
   "cell_type": "code",
   "execution_count": 89,
   "metadata": {},
   "outputs": [
    {
     "data": {
      "text/plain": [
       "Gender                  category\n",
       "Location                category\n",
       "Education               category\n",
       "MaritalStatus           category\n",
       "Occupation              category\n",
       "Ownhouse                category\n",
       "CreditScore              float64\n",
       "AccountBalance           float64\n",
       "NumberOfProducts         float64\n",
       "IsCreditCardCustomer    category\n",
       "ActiveMember            category\n",
       "Salary                   float64\n",
       "Age                      float64\n",
       "Tenure                   float64\n",
       "ExpenditureRatio         float64\n",
       "TenureRatio              float64\n",
       "dtype: object"
      ]
     },
     "execution_count": 89,
     "metadata": {},
     "output_type": "execute_result"
    }
   ],
   "source": [
    "bank_churn_test.dtypes"
   ]
  },
  {
   "cell_type": "code",
   "execution_count": 90,
   "metadata": {},
   "outputs": [
    {
     "data": {
      "text/html": [
       "<div>\n",
       "<style scoped>\n",
       "    .dataframe tbody tr th:only-of-type {\n",
       "        vertical-align: middle;\n",
       "    }\n",
       "\n",
       "    .dataframe tbody tr th {\n",
       "        vertical-align: top;\n",
       "    }\n",
       "\n",
       "    .dataframe thead th {\n",
       "        text-align: right;\n",
       "    }\n",
       "</style>\n",
       "<table border=\"1\" class=\"dataframe\">\n",
       "  <thead>\n",
       "    <tr style=\"text-align: right;\">\n",
       "      <th></th>\n",
       "      <th>Gender</th>\n",
       "      <th>Location</th>\n",
       "      <th>Education</th>\n",
       "      <th>MaritalStatus</th>\n",
       "      <th>Occupation</th>\n",
       "      <th>Ownhouse</th>\n",
       "      <th>CreditScore</th>\n",
       "      <th>AccountBalance</th>\n",
       "      <th>NumberOfProducts</th>\n",
       "      <th>IsCreditCardCustomer</th>\n",
       "      <th>ActiveMember</th>\n",
       "      <th>Salary</th>\n",
       "      <th>Age</th>\n",
       "      <th>Tenure</th>\n",
       "      <th>ExpenditureRatio</th>\n",
       "      <th>TenureRatio</th>\n",
       "    </tr>\n",
       "  </thead>\n",
       "  <tbody>\n",
       "    <tr>\n",
       "      <td>0</td>\n",
       "      <td>Male</td>\n",
       "      <td>Location11</td>\n",
       "      <td>primary</td>\n",
       "      <td>divorced</td>\n",
       "      <td>management</td>\n",
       "      <td>no</td>\n",
       "      <td>716.0</td>\n",
       "      <td>0.00</td>\n",
       "      <td>2.0</td>\n",
       "      <td>1</td>\n",
       "      <td>0</td>\n",
       "      <td>189678.70</td>\n",
       "      <td>39.0</td>\n",
       "      <td>5.0</td>\n",
       "      <td>0.000000</td>\n",
       "      <td>0.128205</td>\n",
       "    </tr>\n",
       "    <tr>\n",
       "      <td>1</td>\n",
       "      <td>Female</td>\n",
       "      <td>Location13</td>\n",
       "      <td>primary</td>\n",
       "      <td>divorced</td>\n",
       "      <td>admin.</td>\n",
       "      <td>no</td>\n",
       "      <td>568.0</td>\n",
       "      <td>169399.60</td>\n",
       "      <td>1.0</td>\n",
       "      <td>1</td>\n",
       "      <td>0</td>\n",
       "      <td>61936.22</td>\n",
       "      <td>33.0</td>\n",
       "      <td>8.0</td>\n",
       "      <td>2.735065</td>\n",
       "      <td>0.242424</td>\n",
       "    </tr>\n",
       "    <tr>\n",
       "      <td>2</td>\n",
       "      <td>Male</td>\n",
       "      <td>Location13</td>\n",
       "      <td>secondary</td>\n",
       "      <td>married</td>\n",
       "      <td>unknown</td>\n",
       "      <td>unknown</td>\n",
       "      <td>739.0</td>\n",
       "      <td>89750.21</td>\n",
       "      <td>1.0</td>\n",
       "      <td>1</td>\n",
       "      <td>0</td>\n",
       "      <td>193008.52</td>\n",
       "      <td>20.0</td>\n",
       "      <td>6.0</td>\n",
       "      <td>0.465006</td>\n",
       "      <td>0.300000</td>\n",
       "    </tr>\n",
       "    <tr>\n",
       "      <td>3</td>\n",
       "      <td>Female</td>\n",
       "      <td>Location11</td>\n",
       "      <td>tertiary</td>\n",
       "      <td>married</td>\n",
       "      <td>admin.</td>\n",
       "      <td>yes</td>\n",
       "      <td>678.0</td>\n",
       "      <td>204510.94</td>\n",
       "      <td>1.0</td>\n",
       "      <td>0</td>\n",
       "      <td>1</td>\n",
       "      <td>738.88</td>\n",
       "      <td>50.0</td>\n",
       "      <td>4.0</td>\n",
       "      <td>276.785053</td>\n",
       "      <td>0.080000</td>\n",
       "    </tr>\n",
       "    <tr>\n",
       "      <td>4</td>\n",
       "      <td>Male</td>\n",
       "      <td>Location13</td>\n",
       "      <td>tertiary</td>\n",
       "      <td>single</td>\n",
       "      <td>management</td>\n",
       "      <td>no</td>\n",
       "      <td>670.0</td>\n",
       "      <td>0.00</td>\n",
       "      <td>2.0</td>\n",
       "      <td>1</td>\n",
       "      <td>1</td>\n",
       "      <td>78358.94</td>\n",
       "      <td>26.0</td>\n",
       "      <td>7.0</td>\n",
       "      <td>0.000000</td>\n",
       "      <td>0.269231</td>\n",
       "    </tr>\n",
       "    <tr>\n",
       "      <td>...</td>\n",
       "      <td>...</td>\n",
       "      <td>...</td>\n",
       "      <td>...</td>\n",
       "      <td>...</td>\n",
       "      <td>...</td>\n",
       "      <td>...</td>\n",
       "      <td>...</td>\n",
       "      <td>...</td>\n",
       "      <td>...</td>\n",
       "      <td>...</td>\n",
       "      <td>...</td>\n",
       "      <td>...</td>\n",
       "      <td>...</td>\n",
       "      <td>...</td>\n",
       "      <td>...</td>\n",
       "      <td>...</td>\n",
       "    </tr>\n",
       "    <tr>\n",
       "      <td>1835</td>\n",
       "      <td>Male</td>\n",
       "      <td>Location11</td>\n",
       "      <td>primary</td>\n",
       "      <td>married</td>\n",
       "      <td>technician</td>\n",
       "      <td>yes</td>\n",
       "      <td>536.0</td>\n",
       "      <td>178011.50</td>\n",
       "      <td>2.0</td>\n",
       "      <td>1</td>\n",
       "      <td>0</td>\n",
       "      <td>22375.14</td>\n",
       "      <td>33.0</td>\n",
       "      <td>8.0</td>\n",
       "      <td>7.955771</td>\n",
       "      <td>0.242424</td>\n",
       "    </tr>\n",
       "    <tr>\n",
       "      <td>1836</td>\n",
       "      <td>Male</td>\n",
       "      <td>Location11</td>\n",
       "      <td>primary</td>\n",
       "      <td>divorced</td>\n",
       "      <td>unknown</td>\n",
       "      <td>no</td>\n",
       "      <td>557.0</td>\n",
       "      <td>146200.01</td>\n",
       "      <td>1.0</td>\n",
       "      <td>1</td>\n",
       "      <td>0</td>\n",
       "      <td>177944.64</td>\n",
       "      <td>40.0</td>\n",
       "      <td>9.0</td>\n",
       "      <td>0.821604</td>\n",
       "      <td>0.225000</td>\n",
       "    </tr>\n",
       "    <tr>\n",
       "      <td>1837</td>\n",
       "      <td>Male</td>\n",
       "      <td>Location12</td>\n",
       "      <td>unknown</td>\n",
       "      <td>single</td>\n",
       "      <td>services</td>\n",
       "      <td>no</td>\n",
       "      <td>747.0</td>\n",
       "      <td>135776.36</td>\n",
       "      <td>3.0</td>\n",
       "      <td>1</td>\n",
       "      <td>0</td>\n",
       "      <td>85470.45</td>\n",
       "      <td>38.0</td>\n",
       "      <td>10.0</td>\n",
       "      <td>1.588577</td>\n",
       "      <td>0.263158</td>\n",
       "    </tr>\n",
       "    <tr>\n",
       "      <td>1838</td>\n",
       "      <td>Female</td>\n",
       "      <td>Location11</td>\n",
       "      <td>primary</td>\n",
       "      <td>single</td>\n",
       "      <td>admin.</td>\n",
       "      <td>no</td>\n",
       "      <td>834.0</td>\n",
       "      <td>0.00</td>\n",
       "      <td>1.0</td>\n",
       "      <td>1</td>\n",
       "      <td>0</td>\n",
       "      <td>74287.53</td>\n",
       "      <td>29.0</td>\n",
       "      <td>7.0</td>\n",
       "      <td>0.000000</td>\n",
       "      <td>0.241379</td>\n",
       "    </tr>\n",
       "    <tr>\n",
       "      <td>1839</td>\n",
       "      <td>Female</td>\n",
       "      <td>Location11</td>\n",
       "      <td>secondary</td>\n",
       "      <td>single</td>\n",
       "      <td>admin.</td>\n",
       "      <td>yes</td>\n",
       "      <td>818.0</td>\n",
       "      <td>186796.37</td>\n",
       "      <td>1.0</td>\n",
       "      <td>0</td>\n",
       "      <td>0</td>\n",
       "      <td>178252.63</td>\n",
       "      <td>32.0</td>\n",
       "      <td>2.0</td>\n",
       "      <td>1.047931</td>\n",
       "      <td>0.062500</td>\n",
       "    </tr>\n",
       "  </tbody>\n",
       "</table>\n",
       "<p>1840 rows × 16 columns</p>\n",
       "</div>"
      ],
      "text/plain": [
       "      Gender    Location  Education MaritalStatus  Occupation Ownhouse  \\\n",
       "0       Male  Location11    primary      divorced  management       no   \n",
       "1     Female  Location13    primary      divorced      admin.       no   \n",
       "2       Male  Location13  secondary       married     unknown  unknown   \n",
       "3     Female  Location11   tertiary       married      admin.      yes   \n",
       "4       Male  Location13   tertiary        single  management       no   \n",
       "...      ...         ...        ...           ...         ...      ...   \n",
       "1835    Male  Location11    primary       married  technician      yes   \n",
       "1836    Male  Location11    primary      divorced     unknown       no   \n",
       "1837    Male  Location12    unknown        single    services       no   \n",
       "1838  Female  Location11    primary        single      admin.       no   \n",
       "1839  Female  Location11  secondary        single      admin.      yes   \n",
       "\n",
       "      CreditScore  AccountBalance  NumberOfProducts IsCreditCardCustomer  \\\n",
       "0           716.0            0.00               2.0                    1   \n",
       "1           568.0       169399.60               1.0                    1   \n",
       "2           739.0        89750.21               1.0                    1   \n",
       "3           678.0       204510.94               1.0                    0   \n",
       "4           670.0            0.00               2.0                    1   \n",
       "...           ...             ...               ...                  ...   \n",
       "1835        536.0       178011.50               2.0                    1   \n",
       "1836        557.0       146200.01               1.0                    1   \n",
       "1837        747.0       135776.36               3.0                    1   \n",
       "1838        834.0            0.00               1.0                    1   \n",
       "1839        818.0       186796.37               1.0                    0   \n",
       "\n",
       "     ActiveMember     Salary   Age  Tenure  ExpenditureRatio  TenureRatio  \n",
       "0               0  189678.70  39.0     5.0          0.000000     0.128205  \n",
       "1               0   61936.22  33.0     8.0          2.735065     0.242424  \n",
       "2               0  193008.52  20.0     6.0          0.465006     0.300000  \n",
       "3               1     738.88  50.0     4.0        276.785053     0.080000  \n",
       "4               1   78358.94  26.0     7.0          0.000000     0.269231  \n",
       "...           ...        ...   ...     ...               ...          ...  \n",
       "1835            0   22375.14  33.0     8.0          7.955771     0.242424  \n",
       "1836            0  177944.64  40.0     9.0          0.821604     0.225000  \n",
       "1837            0   85470.45  38.0    10.0          1.588577     0.263158  \n",
       "1838            0   74287.53  29.0     7.0          0.000000     0.241379  \n",
       "1839            0  178252.63  32.0     2.0          1.047931     0.062500  \n",
       "\n",
       "[1840 rows x 16 columns]"
      ]
     },
     "execution_count": 90,
     "metadata": {},
     "output_type": "execute_result"
    }
   ],
   "source": [
    "bank_churn_test"
   ]
  },
  {
   "cell_type": "code",
   "execution_count": 91,
   "metadata": {},
   "outputs": [],
   "source": [
    "test_num_data = bank_churn_test.loc[:,num_col]\n",
    "test_cat_data = bank_churn_test.loc[:,cat_col]"
   ]
  },
  {
   "cell_type": "code",
   "execution_count": 92,
   "metadata": {},
   "outputs": [],
   "source": [
    "standardizer = StandardScaler()\n",
    "standardizer.fit(test_num_data)\n",
    "test_num_data = pd.DataFrame(standardizer.transform(test_num_data),columns=num_col)"
   ]
  },
  {
   "cell_type": "code",
   "execution_count": 93,
   "metadata": {},
   "outputs": [],
   "source": [
    "test_num_data.reset_index(drop=True, inplace=True)\n",
    "test_cat_data.reset_index(drop=True, inplace=True)"
   ]
  },
  {
   "cell_type": "code",
   "execution_count": 94,
   "metadata": {},
   "outputs": [],
   "source": [
    "bank_churn_test = pd.concat([test_num_data,test_cat_data],axis=1)"
   ]
  },
  {
   "cell_type": "code",
   "execution_count": 95,
   "metadata": {},
   "outputs": [],
   "source": [
    "bank_churn_test=pd.get_dummies(bank_churn_test,columns=cat_col.extend(['cat_cc']))"
   ]
  },
  {
   "cell_type": "code",
   "execution_count": 97,
   "metadata": {},
   "outputs": [],
   "source": [
    "bank_churn_test.drop('cat_cc', axis = 1, inplace = True)"
   ]
  },
  {
   "cell_type": "code",
   "execution_count": 98,
   "metadata": {},
   "outputs": [
    {
     "data": {
      "text/html": [
       "<div>\n",
       "<style scoped>\n",
       "    .dataframe tbody tr th:only-of-type {\n",
       "        vertical-align: middle;\n",
       "    }\n",
       "\n",
       "    .dataframe tbody tr th {\n",
       "        vertical-align: top;\n",
       "    }\n",
       "\n",
       "    .dataframe thead th {\n",
       "        text-align: right;\n",
       "    }\n",
       "</style>\n",
       "<table border=\"1\" class=\"dataframe\">\n",
       "  <thead>\n",
       "    <tr style=\"text-align: right;\">\n",
       "      <th></th>\n",
       "      <th>AccountBalance</th>\n",
       "      <th>Age</th>\n",
       "      <th>CreditScore</th>\n",
       "      <th>NumberOfProducts</th>\n",
       "      <th>Salary</th>\n",
       "      <th>Tenure</th>\n",
       "      <th>ExpenditureRatio</th>\n",
       "      <th>TenureRatio</th>\n",
       "      <th>Gender_Female</th>\n",
       "      <th>Gender_Male</th>\n",
       "      <th>...</th>\n",
       "      <th>Occupation_services</th>\n",
       "      <th>Occupation_technician</th>\n",
       "      <th>Occupation_unknown</th>\n",
       "      <th>Ownhouse_no</th>\n",
       "      <th>Ownhouse_unknown</th>\n",
       "      <th>Ownhouse_yes</th>\n",
       "      <th>IsCreditCardCustomer_0</th>\n",
       "      <th>IsCreditCardCustomer_1</th>\n",
       "      <th>ActiveMember_0</th>\n",
       "      <th>ActiveMember_1</th>\n",
       "    </tr>\n",
       "  </thead>\n",
       "  <tbody>\n",
       "    <tr>\n",
       "      <td>0</td>\n",
       "      <td>-1.228994</td>\n",
       "      <td>-0.081272</td>\n",
       "      <td>0.678686</td>\n",
       "      <td>0.799019</td>\n",
       "      <td>1.578071</td>\n",
       "      <td>-0.351396</td>\n",
       "      <td>-0.162828</td>\n",
       "      <td>-0.369353</td>\n",
       "      <td>0</td>\n",
       "      <td>1</td>\n",
       "      <td>...</td>\n",
       "      <td>0</td>\n",
       "      <td>0</td>\n",
       "      <td>0</td>\n",
       "      <td>1</td>\n",
       "      <td>0</td>\n",
       "      <td>0</td>\n",
       "      <td>0</td>\n",
       "      <td>1</td>\n",
       "      <td>1</td>\n",
       "      <td>0</td>\n",
       "    </tr>\n",
       "    <tr>\n",
       "      <td>1</td>\n",
       "      <td>1.483021</td>\n",
       "      <td>-0.652039</td>\n",
       "      <td>-0.863175</td>\n",
       "      <td>-0.898666</td>\n",
       "      <td>-0.638972</td>\n",
       "      <td>0.666822</td>\n",
       "      <td>-0.004311</td>\n",
       "      <td>0.885290</td>\n",
       "      <td>1</td>\n",
       "      <td>0</td>\n",
       "      <td>...</td>\n",
       "      <td>0</td>\n",
       "      <td>0</td>\n",
       "      <td>0</td>\n",
       "      <td>1</td>\n",
       "      <td>0</td>\n",
       "      <td>0</td>\n",
       "      <td>0</td>\n",
       "      <td>1</td>\n",
       "      <td>1</td>\n",
       "      <td>0</td>\n",
       "    </tr>\n",
       "    <tr>\n",
       "      <td>2</td>\n",
       "      <td>0.207869</td>\n",
       "      <td>-1.888699</td>\n",
       "      <td>0.918300</td>\n",
       "      <td>-0.898666</td>\n",
       "      <td>1.635862</td>\n",
       "      <td>-0.011990</td>\n",
       "      <td>-0.135877</td>\n",
       "      <td>1.517733</td>\n",
       "      <td>0</td>\n",
       "      <td>1</td>\n",
       "      <td>...</td>\n",
       "      <td>0</td>\n",
       "      <td>0</td>\n",
       "      <td>1</td>\n",
       "      <td>0</td>\n",
       "      <td>1</td>\n",
       "      <td>0</td>\n",
       "      <td>0</td>\n",
       "      <td>1</td>\n",
       "      <td>1</td>\n",
       "      <td>0</td>\n",
       "    </tr>\n",
       "    <tr>\n",
       "      <td>3</td>\n",
       "      <td>2.045139</td>\n",
       "      <td>0.965133</td>\n",
       "      <td>0.282803</td>\n",
       "      <td>-0.898666</td>\n",
       "      <td>-1.701087</td>\n",
       "      <td>-0.690802</td>\n",
       "      <td>15.878809</td>\n",
       "      <td>-0.898864</td>\n",
       "      <td>1</td>\n",
       "      <td>0</td>\n",
       "      <td>...</td>\n",
       "      <td>0</td>\n",
       "      <td>0</td>\n",
       "      <td>0</td>\n",
       "      <td>0</td>\n",
       "      <td>0</td>\n",
       "      <td>1</td>\n",
       "      <td>1</td>\n",
       "      <td>0</td>\n",
       "      <td>0</td>\n",
       "      <td>1</td>\n",
       "    </tr>\n",
       "    <tr>\n",
       "      <td>4</td>\n",
       "      <td>-1.228994</td>\n",
       "      <td>-1.317933</td>\n",
       "      <td>0.199459</td>\n",
       "      <td>0.799019</td>\n",
       "      <td>-0.353947</td>\n",
       "      <td>0.327416</td>\n",
       "      <td>-0.162828</td>\n",
       "      <td>1.179747</td>\n",
       "      <td>0</td>\n",
       "      <td>1</td>\n",
       "      <td>...</td>\n",
       "      <td>0</td>\n",
       "      <td>0</td>\n",
       "      <td>0</td>\n",
       "      <td>1</td>\n",
       "      <td>0</td>\n",
       "      <td>0</td>\n",
       "      <td>0</td>\n",
       "      <td>1</td>\n",
       "      <td>0</td>\n",
       "      <td>1</td>\n",
       "    </tr>\n",
       "  </tbody>\n",
       "</table>\n",
       "<p>5 rows × 34 columns</p>\n",
       "</div>"
      ],
      "text/plain": [
       "   AccountBalance       Age  CreditScore  NumberOfProducts    Salary  \\\n",
       "0       -1.228994 -0.081272     0.678686          0.799019  1.578071   \n",
       "1        1.483021 -0.652039    -0.863175         -0.898666 -0.638972   \n",
       "2        0.207869 -1.888699     0.918300         -0.898666  1.635862   \n",
       "3        2.045139  0.965133     0.282803         -0.898666 -1.701087   \n",
       "4       -1.228994 -1.317933     0.199459          0.799019 -0.353947   \n",
       "\n",
       "     Tenure  ExpenditureRatio  TenureRatio  Gender_Female  Gender_Male  ...  \\\n",
       "0 -0.351396         -0.162828    -0.369353              0            1  ...   \n",
       "1  0.666822         -0.004311     0.885290              1            0  ...   \n",
       "2 -0.011990         -0.135877     1.517733              0            1  ...   \n",
       "3 -0.690802         15.878809    -0.898864              1            0  ...   \n",
       "4  0.327416         -0.162828     1.179747              0            1  ...   \n",
       "\n",
       "   Occupation_services  Occupation_technician  Occupation_unknown  \\\n",
       "0                    0                      0                   0   \n",
       "1                    0                      0                   0   \n",
       "2                    0                      0                   1   \n",
       "3                    0                      0                   0   \n",
       "4                    0                      0                   0   \n",
       "\n",
       "   Ownhouse_no  Ownhouse_unknown  Ownhouse_yes  IsCreditCardCustomer_0  \\\n",
       "0            1                 0             0                       0   \n",
       "1            1                 0             0                       0   \n",
       "2            0                 1             0                       0   \n",
       "3            0                 0             1                       1   \n",
       "4            1                 0             0                       0   \n",
       "\n",
       "   IsCreditCardCustomer_1  ActiveMember_0  ActiveMember_1  \n",
       "0                       1               1               0  \n",
       "1                       1               1               0  \n",
       "2                       1               1               0  \n",
       "3                       0               0               1  \n",
       "4                       1               0               1  \n",
       "\n",
       "[5 rows x 34 columns]"
      ]
     },
     "execution_count": 98,
     "metadata": {},
     "output_type": "execute_result"
    }
   ],
   "source": [
    "bank_churn_test.head()"
   ]
  },
  {
   "cell_type": "code",
   "execution_count": 99,
   "metadata": {},
   "outputs": [],
   "source": [
    "test_num_data.reset_index(drop=True, inplace=True)"
   ]
  },
  {
   "cell_type": "markdown",
   "metadata": {},
   "source": [
    "### Step 9 : Submission "
   ]
  },
  {
   "cell_type": "code",
   "execution_count": 115,
   "metadata": {},
   "outputs": [],
   "source": [
    "submission = pd.DataFrame({ 'CustomerID': bank_churn_test_sub['CustomerID'],\n",
    "                            'Churn': gb_pred_test })\n",
    "submission.to_csv(\"7th_submission.csv\", index=False)"
   ]
  },
  {
   "cell_type": "code",
   "execution_count": 116,
   "metadata": {},
   "outputs": [
    {
     "data": {
      "text/plain": [
       "(1840, 2)"
      ]
     },
     "execution_count": 116,
     "metadata": {},
     "output_type": "execute_result"
    }
   ],
   "source": [
    "submission.shape"
   ]
  },
  {
   "cell_type": "markdown",
   "metadata": {},
   "source": [
    "### Step 10: Conclusions"
   ]
  },
  {
   "cell_type": "code",
   "execution_count": null,
   "metadata": {},
   "outputs": [],
   "source": []
  },
  {
   "cell_type": "code",
   "execution_count": null,
   "metadata": {},
   "outputs": [],
   "source": []
  },
  {
   "cell_type": "code",
   "execution_count": null,
   "metadata": {},
   "outputs": [],
   "source": []
  },
  {
   "cell_type": "code",
   "execution_count": null,
   "metadata": {},
   "outputs": [],
   "source": []
  },
  {
   "cell_type": "code",
   "execution_count": null,
   "metadata": {},
   "outputs": [],
   "source": []
  },
  {
   "cell_type": "code",
   "execution_count": null,
   "metadata": {},
   "outputs": [],
   "source": []
  },
  {
   "cell_type": "code",
   "execution_count": null,
   "metadata": {},
   "outputs": [],
   "source": []
  },
  {
   "cell_type": "code",
   "execution_count": null,
   "metadata": {},
   "outputs": [],
   "source": []
  },
  {
   "cell_type": "code",
   "execution_count": null,
   "metadata": {},
   "outputs": [],
   "source": []
  },
  {
   "cell_type": "code",
   "execution_count": null,
   "metadata": {},
   "outputs": [],
   "source": []
  }
 ],
 "metadata": {
  "kernelspec": {
   "display_name": "Python 3",
   "language": "python",
   "name": "python3"
  },
  "language_info": {
   "codemirror_mode": {
    "name": "ipython",
    "version": 3
   },
   "file_extension": ".py",
   "mimetype": "text/x-python",
   "name": "python",
   "nbconvert_exporter": "python",
   "pygments_lexer": "ipython3",
   "version": "3.6.4"
  }
 },
 "nbformat": 4,
 "nbformat_minor": 2
}
